{
 "cells": [
  {
   "cell_type": "markdown",
   "id": "6e05f625",
   "metadata": {},
   "source": [
    "# Using Release Data"
   ]
  }
 ],
 "metadata": {
  "kernelspec": {
   "display_name": "Python 3.9.6 ('.env': venv)",
   "language": "python",
   "name": "python3"
  },
  "language_info": {
   "name": "python",
   "version": "3.9.6"
  },
  "vscode": {
   "interpreter": {
    "hash": "5dd911ca2c3a77dfe15faaa9f2e11b5bd0ab12bd83e3b7578eb2712f103edba3"
   }
  }
 },
 "nbformat": 4,
 "nbformat_minor": 5
}
