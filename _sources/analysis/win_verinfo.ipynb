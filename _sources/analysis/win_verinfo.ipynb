{
 "cells": [
  {
   "cell_type": "markdown",
   "metadata": {},
   "source": [
    "# MSRC Tags to File Version Info"
   ]
  },
  {
   "cell_type": "code",
   "execution_count": null,
   "metadata": {},
   "outputs": [],
   "source": [
    "import difflib\n",
    "import requests\n",
    "import pandas as pd\n",
    "import requests\n",
    "import json\n",
    "import matplotlib\n",
    "\n",
    "from cvedata.msrc_pandas import get_msrc_tags, get_msrc_titles, get_msrc_cvrf_pandas_df, MSRC_CVRF_PANDAS_FULL,MSRC_CVRF_PANDAS, get_msrc_tags_freq\n",
    "from cvedata.win_verinfo import get_verinfo_desc_to_bins_json\n",
    "from cvedata.winbindex import get_winbindex_desc_to_bin_map\n",
    "\n",
    "from cvedata.msrc_cve_to_bins import clean_tag"
   ]
  },
  {
   "cell_type": "code",
   "execution_count": null,
   "metadata": {},
   "outputs": [],
   "source": [
    "tags = get_msrc_tags_freq()\n",
    "titles = get_msrc_titles()\n",
    "\n",
    "win10_sys32_ver = get_verinfo_desc_to_bins_json()\n",
    "wb_ver = get_winbindex_desc_to_bin_map()"
   ]
  },
  {
   "cell_type": "code",
   "execution_count": null,
   "metadata": {},
   "outputs": [],
   "source": [
    "bin_names = []\n",
    "\n",
    "for key in wb_ver:\n",
    "    for bin in wb_ver[key]:\n",
    "        bin_names.append(bin)\n",
    "\n",
    "for key in win10_sys32_ver:\n",
    "    for bin in win10_sys32_ver[key]:\n",
    "        bin_names.append(bin)\n",
    "\n",
    "bin_names = list(set(bin_names))\n",
    "\n",
    "all_bin_names = {}\n",
    "\n",
    "for bin in bin_names:\n",
    "    all_bin_names[bin] = [bin]\n",
    "\n",
    "len(all_bin_names)"
   ]
  },
  {
   "cell_type": "code",
   "execution_count": null,
   "metadata": {},
   "outputs": [],
   "source": [
    "print(len(win10_sys32_ver))\n",
    "print(len(wb_ver))"
   ]
  },
  {
   "cell_type": "code",
   "execution_count": null,
   "metadata": {},
   "outputs": [],
   "source": [
    "tags_df = pd.DataFrame({'tag count' : tags}).reset_index()\n",
    "tags_df.rename(columns={'index': 'tag'},inplace=True)\n",
    "tags_df.sort_values(by=['tag count'], ascending=False)"
   ]
  },
  {
   "cell_type": "code",
   "execution_count": null,
   "metadata": {},
   "outputs": [],
   "source": [
    "def get_match_at_cutoff(key,possibilities: dict,cutoff: float = 0.6):\n",
    "\n",
    "    if key is None:\n",
    "        return []\n",
    "\n",
    "    key = clean_tag(key)\n",
    "    matches = difflib.get_close_matches(key,possibilities.keys(),n=10000,cutoff=cutoff)\n",
    "\n",
    "    # map keys to bins\n",
    "    bins = [bin for desc in matches for bin in possibilities[desc]]\n",
    "    return bins\n",
    "\n"
   ]
  },
  {
   "cell_type": "code",
   "execution_count": null,
   "metadata": {},
   "outputs": [],
   "source": [
    "len(win10_sys32_ver)"
   ]
  },
  {
   "cell_type": "code",
   "execution_count": null,
   "metadata": {},
   "outputs": [],
   "source": [
    "tags_df['win10_sys32_ver'] = tags_df['tag'].apply(get_match_at_cutoff, args=(win10_sys32_ver,))\n",
    "tags_df[tags_df['win10_sys32_ver'].apply(lambda x: len(x) > 0)]"
   ]
  },
  {
   "cell_type": "code",
   "execution_count": null,
   "metadata": {},
   "outputs": [],
   "source": [
    "# wb_ver\n",
    "tags_df['wb_ver'] = tags_df['tag'].apply(get_match_at_cutoff, args=(wb_ver,))\n",
    "tags_df[tags_df['wb_ver'].apply(lambda x: len(x) > 0)]"
   ]
  },
  {
   "cell_type": "code",
   "execution_count": null,
   "metadata": {},
   "outputs": [],
   "source": [
    "# all_bin_names\n",
    "tags_df['all_bin_names'] = tags_df['tag'].apply(get_match_at_cutoff, args=(all_bin_names,.75))\n",
    "tags_df[tags_df['all_bin_names'].apply(lambda x: len(x) > 0)]"
   ]
  },
  {
   "cell_type": "code",
   "execution_count": null,
   "metadata": {},
   "outputs": [],
   "source": [
    "# files unique to ver_info\n",
    "tags_df[tags_df['win10_sys32_ver'].apply(lambda x: len(x) > 0) & tags_df['wb_ver'].apply(lambda x: len(x) == 0) & tags_df['all_bin_names'].apply(lambda x: len(x) == 0) ]"
   ]
  },
  {
   "cell_type": "code",
   "execution_count": null,
   "metadata": {},
   "outputs": [],
   "source": [
    "# files unique to winbindex\n",
    "tags_df[tags_df['wb_ver'].apply(lambda x: len(x) > 0) & tags_df['win10_sys32_ver'].apply(lambda x: len(x) == 0) & tags_df['all_bin_names'].apply(lambda x: len(x) == 0)]"
   ]
  },
  {
   "cell_type": "code",
   "execution_count": null,
   "metadata": {},
   "outputs": [],
   "source": [
    "# files unique to bin names\n",
    "tags_df[tags_df['all_bin_names'].apply(lambda x: len(x) > 0) & tags_df['wb_ver'].apply(lambda x: len(x) == 0) & tags_df['win10_sys32_ver'].apply(lambda x: len(x) == 0)]"
   ]
  },
  {
   "cell_type": "code",
   "execution_count": null,
   "metadata": {},
   "outputs": [],
   "source": [
    "# how many tags did we match based on bin name alone?\n",
    "tags_df[tags_df['all_bin_names'].str.len() > 0]"
   ]
  }
 ],
 "metadata": {
  "kernelspec": {
   "display_name": ".env",
   "language": "python",
   "name": ".env"
  },
  "language_info": {
   "codemirror_mode": {
    "name": "ipython",
    "version": 3
   },
   "file_extension": ".py",
   "mimetype": "text/x-python",
   "name": "python",
   "nbconvert_exporter": "python",
   "pygments_lexer": "ipython3",
   "version": "3.9.6"
  },
  "orig_nbformat": 4,
  "vscode": {
   "interpreter": {
    "hash": "4f69ed7843b0ea893c9d89f5f979ee399fdfe7651430c7bb7d8442c4ca5d90f2"
   }
  }
 },
 "nbformat": 4,
 "nbformat_minor": 2
}
