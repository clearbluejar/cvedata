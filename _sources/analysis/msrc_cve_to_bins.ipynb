{
 "cells": [
  {
   "cell_type": "markdown",
   "metadata": {},
   "source": [
    "# Mapping MSRC CVEs to Bins\n",
    "\n",
    "Is it possible to map [MSRC CVEs](https://msrc.microsoft.com/update-guide/vulnerability) to Windows binaries?\n",
    "\n",
    "\n",
    "```{mermaid}\n",
    "\n",
    "graph TD\n",
    "    A[winbindex fa:fa-database] --> B[KBs]\n",
    "    C[ms support feeds fa:fa-database] -->B\n",
    "    B --> D[msrc_cve_to_bins.py]\n",
    "    E[File Version Info fa:fa-file] --> D\n",
    "    F[Known MSRC Tags fa:fa-tag] --> D\n",
    "    D --> G(cve to bin fa:fa-map)\n",
    "\n",
    "```"
   ]
  },
  {
   "cell_type": "markdown",
   "metadata": {},
   "source": [
    "## Import cvedata "
   ]
  },
  {
   "cell_type": "code",
   "execution_count": null,
   "metadata": {},
   "outputs": [],
   "source": [
    "from cvedata.winbindex import get_winbindex_desc_to_bin_map, WINBINDEX_GITHUB_URL, get_winbindex_kbs_to_bin_map\n",
    "from cvedata.win_verinfo import get_verinfo_desc_to_bins_json\n",
    "from cvedata.msrc_pandas import get_msrc_tags, get_msrc_titles, get_msrc_cvrf_pandas_df, MSRC_CVRF_PANDAS_FULL,MSRC_CVRF_PANDAS\n",
    "from cvedata.msrc_known_bins import KNOWN_TAG_TO_BIN_MAP\n",
    "from cvedata.ms_feed_kbs import get_ms_kb_feeds_json,get_ms_kb_feed_files_json,get_ms_kb_to_bins_json\n",
    "\n",
    "\n",
    "from cvedata.msrc_pandas import clean_impact\n",
    "from cvedata.msrc_cve_to_bins import clean_tag\n",
    "\n",
    "pd.set_option('display.max_rows', 15)\n",
    "\n"
   ]
  },
  {
   "cell_type": "code",
   "execution_count": null,
   "metadata": {},
   "outputs": [],
   "source": [
    "import pandas as pd\n",
    "import difflib\n",
    "import json\n",
    "\n",
    "pd.set_option('display.max_rows', 20)"
   ]
  },
  {
   "cell_type": "code",
   "execution_count": null,
   "metadata": {},
   "outputs": [],
   "source": [
    "all_cvrf_df = pd.DataFrame.from_dict(get_msrc_cvrf_pandas_df())\n",
    "\n",
    "all_cvrf_df.head()"
   ]
  },
  {
   "cell_type": "code",
   "execution_count": null,
   "metadata": {},
   "outputs": [],
   "source": [
    "tags_json = get_msrc_tags()\n",
    "titles_json = get_msrc_titles()\n",
    "kbs_to_bins_json = get_winbindex_kbs_to_bin_map()\n",
    "verinfo_desc_to_bins = get_verinfo_desc_to_bins_json()"
   ]
  },
  {
   "cell_type": "code",
   "execution_count": null,
   "metadata": {},
   "outputs": [],
   "source": [
    "#from cvedata.msrc_cve_to_bins import get_tag_similarity_df_df\n",
    "\n",
    "   \n",
    "def get_tag_similarity_df(row,key,desc_to_bins,col_pre,min_sims):\n",
    "    \"\"\"\n",
    "    Builds similarity columns into Dataframe at min_sims intervals\n",
    "    \"\"\"\n",
    "\n",
    "    bins = {}\n",
    "\n",
    "    # init bins\n",
    "    for min_sim in min_sims:\n",
    "            bins.setdefault(min_sim,[])\n",
    "\n",
    "    ctag1 = clean_tag(row[key]).split()\n",
    "\n",
    "    for desc in desc_to_bins:\n",
    "        \n",
    "        ctag2 = clean_tag(desc).split()\n",
    "\n",
    "        if len(ctag1) == 0 or len(ctag2) == 0:\n",
    "            break\n",
    "        else:        \n",
    "            sim = difflib.SequenceMatcher(None,ctag1,ctag2).ratio()\n",
    "\n",
    "        # add bins to \n",
    "        for min_sim in min_sims:                      \n",
    "            if sim >= min_sim:\n",
    "                [bins[min_sim].append(bin) for bin in desc_to_bins[desc]]\n",
    "\n",
    "    for sim_score in bins:\n",
    "        row[f\"{col_pre}-{sim_score}\"] = bins[sim_score]\n",
    "\n",
    "    return row\n",
    "\n",
    "\n"
   ]
  },
  {
   "cell_type": "code",
   "execution_count": null,
   "metadata": {},
   "outputs": [],
   "source": [
    "key = 'Tag'\n",
    "tags_sim_df = pd.DataFrame(all_cvrf_df['Tag'].unique(),columns= ['Tag'])\n",
    "# tags_sim_wb_df = tags_sim_df.apply(get_tag_similarity_df,args=(key,wb_desc_to_bins,'wb',[.25, .45, .5, .55, .75, .9, 1]),axis=1)\n",
    "# tags_sim_wb_df.head(20)\n",
    "tags_sim_df\n",
    "\n",
    "\n"
   ]
  },
  {
   "cell_type": "code",
   "execution_count": null,
   "metadata": {},
   "outputs": [],
   "source": [
    "tags_sim_df.Tag.str.split(expand=True).stack().value_counts()"
   ]
  },
  {
   "cell_type": "code",
   "execution_count": null,
   "metadata": {},
   "outputs": [],
   "source": [
    "ver_df = pd.json_normalize(verinfo_desc_to_bins)\n",
    "ver_df = ver_df.swapaxes('index', 'columns')\n",
    "ver_df.index.name = 'desc'\n",
    "ver_df.reset_index()\n",
    "\n",
    "ver_df = pd.DataFrame(ver_df.reset_index()['desc'].unique(),columns= ['desc'])\n",
    "ver_df.desc.str.split(expand=True).stack().value_counts()"
   ]
  },
  {
   "cell_type": "code",
   "execution_count": null,
   "metadata": {},
   "outputs": [],
   "source": [
    "#tags_sim_df['wb_bins'] = tags_sim_df['Tag'].apply(lambda x : difflib.get_close_matches(clean_tag(x),wb_desc_to_bins.keys(),n=10000,cutoff=.6))"
   ]
  },
  {
   "cell_type": "code",
   "execution_count": null,
   "metadata": {},
   "outputs": [],
   "source": [
    "tags_sim_df"
   ]
  },
  {
   "cell_type": "code",
   "execution_count": null,
   "metadata": {},
   "outputs": [],
   "source": [
    "#tags_sim_df[['kb_bins', 'wb_bins']].apply(lambda x: len(x)).value_counts()"
   ]
  },
  {
   "cell_type": "code",
   "execution_count": null,
   "metadata": {},
   "outputs": [],
   "source": [
    "tags_sim_verinfo_df = tags_sim_df.apply(get_tag_similarity_df,args=(key,verinfo_desc_to_bins,'vi',[.25, .45, .5, .55, .75, .9, 1]),axis=1)\n",
    "tags_sim_verinfo_df.head(25)\n"
   ]
  },
  {
   "cell_type": "code",
   "execution_count": null,
   "metadata": {},
   "outputs": [],
   "source": [
    "key = 'Title'\n",
    "titles_sim_df = pd.DataFrame(all_cvrf_df['Title'].unique(),columns= ['Title'])\n",
    "# titles_sim_wb_df = titles_sim_df.apply(get_tag_similarity_df,args=(key,wb_desc_to_bins,'wb',[.25, .45, .5, .55, .75, .9, 1]),axis=1)\n",
    "# titles_sim_wb_df.head(25)\n",
    "titles_sim_df"
   ]
  },
  {
   "cell_type": "code",
   "execution_count": null,
   "metadata": {},
   "outputs": [],
   "source": [
    "titles_sim_verinfo_df = titles_sim_df.apply(get_tag_similarity_df,args=(key,verinfo_desc_to_bins,'vi',[.25, .45, .5, .55, .75, .9, 1]),axis=1)\n",
    "titles_sim_verinfo_df.head(25)"
   ]
  },
  {
   "cell_type": "markdown",
   "metadata": {},
   "source": [
    "## What is the number of bins on average for each percentile?"
   ]
  },
  {
   "cell_type": "code",
   "execution_count": null,
   "metadata": {},
   "outputs": [],
   "source": [
    "tags_sim_verinfo_df.apply(lambda s: s.map(lambda x: len(x) if x else 0)).mean() "
   ]
  },
  {
   "cell_type": "code",
   "execution_count": null,
   "metadata": {},
   "outputs": [],
   "source": [
    "titles_sim_verinfo_df.apply(lambda s: s.map(lambda x: len(x))).mean() "
   ]
  },
  {
   "cell_type": "code",
   "execution_count": null,
   "metadata": {},
   "outputs": [],
   "source": [
    "tags_sim_verinfo_df.apply(lambda s: s.map(lambda x: len(x) if x else 0)).mean()"
   ]
  },
  {
   "cell_type": "code",
   "execution_count": null,
   "metadata": {},
   "outputs": [],
   "source": [
    "tags_sim_map = tags_sim_verinfo_df.copy()\n",
    "tags_sim_map.set_index('Tag',inplace=True)\n",
    "\n",
    "#tags_sim_map = tags_sim_map.apply(lambda s: s.map(lambda x: len(x) if x else None))\n",
    "#tags_sim_map.sort_values(by=['vi-1'], ascending=False)\n",
    "#tags_sim_map['vi-1'].sort_values(ascending=False)\n",
    "tag_counts_df = tags_sim_map.apply(lambda s: s.map(lambda x: len(x) if x else 0))\n",
    "\n",
    "for col in tag_counts_df.columns:\n",
    "    print(col)\n",
    "    print(tag_counts_df[tag_counts_df[col] > 0].count()[col])"
   ]
  },
  {
   "cell_type": "code",
   "execution_count": null,
   "metadata": {},
   "outputs": [],
   "source": [
    "titles_sim_map = titles_sim_verinfo_df.copy()\n",
    "titles_sim_map.set_index('Title',inplace=True)\n",
    "titles_sim_map.to_json('titles.json')\n",
    "title_counts_df = titles_sim_map.apply(lambda s: s.map(lambda x: len(x) if x else 0))\n",
    "\n",
    "for col in title_counts_df.columns:\n",
    "    print(col)\n",
    "    print(title_counts_df[title_counts_df[col] > 0].count()[col])"
   ]
  },
  {
   "cell_type": "code",
   "execution_count": null,
   "metadata": {},
   "outputs": [],
   "source": [
    "kb_feed_df = None\n",
    "kb_feed = get_ms_kb_to_bins_json()['updated']\n",
    "kb_feed"
   ]
  },
  {
   "cell_type": "code",
   "execution_count": null,
   "metadata": {},
   "outputs": [],
   "source": [
    "\n",
    "\n",
    "def cve_to_bin(row):\n",
    "    print(row.name)\n",
    "\n",
    "    print(row['Tag'])\n",
    "    print(row['Title'])\n",
    "\n",
    "    cve = row.name\n",
    "    tag = row['Tag']\n",
    "    title = row['Title']\n",
    "\n",
    "    # for col in test.columns:\n",
    "    #     print(test.loc[tag])\n",
    "    #     row[col] = test.loc[tag]\n",
    "    #print(test['vi-0.55'].loc[tag])\n",
    "\n",
    "    bins = set()\n",
    "    \n",
    "    # print(tags_sim_map['vi-0.55'].loc[tag])\n",
    "    # print(titles_sim_map['vi-0.55'].loc[title])\n",
    "    # print(\"after titles\")\n",
    "\n",
    "    if tag and tag.lower() in KNOWN_TAG_TO_BIN_MAP:\n",
    "        for bin in KNOWN_TAG_TO_BIN_MAP[tag.lower()]:\n",
    "            bins.add(bin)\n",
    "\n",
    "\n",
    "    for bin in tags_sim_map['vi-0.55'].loc[tag]:\n",
    "        bins.add(bin)\n",
    "\n",
    "    for bin in titles_sim_map['vi-0.45'].loc[title]:\n",
    "        bins.add(bin)\n",
    "\n",
    "    # updated_bins\n",
    "    \n",
    "    updated_bins = []\n",
    "    for kb in row['KBs'].split():        \n",
    "        kb_updated_files = kb_feed.get(kb)\n",
    "        if kb_updated_files:\n",
    "            updated_bins.extend(kb_updated_files)\n",
    "            #print(updated_bins)\n",
    "\n",
    "\n",
    "    row['Bins Updated'] = list(set(updated_bins).intersection(bins))\n",
    "    row['Bins'] = list(bins)\n",
    "\n",
    "    return row\n",
    "\n",
    "print(all_cvrf_df.columns)\n",
    "\n",
    "bins_all_cvrf_df = all_cvrf_df.apply(cve_to_bin,axis=1)\n",
    "bins_all_cvrf_df"
   ]
  },
  {
   "cell_type": "code",
   "execution_count": null,
   "metadata": {},
   "outputs": [],
   "source": [
    "for key in tags_sim_verinfo_df.keys():\n",
    "    print(key)\n",
    "\n",
    "tags_sim_verinfo_df[tags_sim_verinfo_df['Tag'] == 'Microsoft Office'] "
   ]
  },
  {
   "cell_type": "code",
   "execution_count": null,
   "metadata": {},
   "outputs": [],
   "source": [
    "bins_all_cvrf_df.sort_values(by=['Bins'], ascending=False)"
   ]
  },
  {
   "cell_type": "code",
   "execution_count": null,
   "metadata": {},
   "outputs": [],
   "source": [
    "# How man CVEs have bins assigned?\n",
    "bins_all_cvrf_df['Bins Count'] = bins_all_cvrf_df['Bins'].apply(lambda x: len(x) if x else 0)\n",
    "bins_all_cvrf_df['Bins Updated Count'] = bins_all_cvrf_df['Bins Updated'].apply(lambda x: len(x) if x else 0)\n"
   ]
  },
  {
   "cell_type": "code",
   "execution_count": null,
   "metadata": {},
   "outputs": [],
   "source": [
    "bins_all_cvrf_df[bins_all_cvrf_df['Bins Count'] > 0]"
   ]
  },
  {
   "cell_type": "code",
   "execution_count": null,
   "metadata": {},
   "outputs": [],
   "source": [
    "bins_all_cvrf_df[bins_all_cvrf_df['Bins Updated Count'] > 0]"
   ]
  },
  {
   "cell_type": "code",
   "execution_count": null,
   "metadata": {},
   "outputs": [],
   "source": [
    "# How many from specific update?\n",
    "\n",
    "bins_all_cvrf_df[bins_all_cvrf_df['Initial Release'].str.contains('2022-11') & bins_all_cvrf_df['Bins Updated Count'] > 0]"
   ]
  },
  {
   "cell_type": "code",
   "execution_count": null,
   "metadata": {},
   "outputs": [],
   "source": [
    "#for all updates, what % have assigned bins?\n",
    "updates = bins_all_cvrf_df['Initial Release'].unique()\n",
    "\n",
    "results = {}\n",
    "\n",
    "for update in updates:\n",
    "    results.setdefault(update,{})\n",
    "    update_df = bins_all_cvrf_df[bins_all_cvrf_df['Initial Release'].str.contains(update)]\n",
    "    cve_per_update = update_df.shape[0]\n",
    "    cves_with_updated_bins = update_df[update_df['Bins Updated Count'] > 0]\n",
    "    cves_without_updated_bins = update_df[update_df['Bins Updated Count'] == 0]\n",
    "    cves_with_bins = update_df[update_df['Bins Count'] > 0]    \n",
    "    cves_without_bins = update_df[(update_df['Bins Count'] == 0)]\n",
    "    \n",
    "    cve_with_bins_percent = (cves_with_bins.shape[0] * 100 / cve_per_update) \n",
    "    cve_without_bins_percent = (cves_without_bins.shape[0] * 100 / cve_per_update)\n",
    "    \n",
    "    results[update]['with_bins'] = cves_with_bins.shape[0]\n",
    "    results[update]['without_bins'] = cves_without_bins.shape[0]\n",
    "    results[update]['with_updated_bins'] = cves_with_updated_bins.shape[0]\n",
    "    results[update]['without_updated_bins'] = cves_without_updated_bins.shape[0]\n",
    "\n",
    "    \n",
    "\n",
    "    #results[update]['total'] = update_df.shape[0]\n",
    "\n",
    "#df = pd.DataFrame({'with': results.values() }, index=results.keys())\n",
    "#df\n",
    "#df = pd.DataFrame(results, index=results.keys()).stack().reset_index()\n",
    "# df = pd.DataFrame.from_dict(results, orient='index').reset_index()\n",
    "\n",
    "# df['index'] = pd.to_datetime(df['index'])\n",
    "# #df.columns=['update', 'with', 'without']\n",
    "# #df.set_index('update')\n",
    "# df = df.set_index('index')\n",
    "update_results_df = pd.DataFrame.from_dict(results, orient='index')\n",
    "update_results_df.index = pd.to_datetime(update_results_df.index)\n",
    "update_results_df = update_results_df.sort_index()\n",
    "update_results_df\n"
   ]
  },
  {
   "cell_type": "code",
   "execution_count": null,
   "metadata": {},
   "outputs": [],
   "source": [
    "update_results_df.loc[update_results_df.index.year == 2022][['with_bins','without_bins']].plot.bar(figsize=(20,3), stacked=True)"
   ]
  },
  {
   "cell_type": "code",
   "execution_count": null,
   "metadata": {},
   "outputs": [],
   "source": [
    "update_results_df[['with_bins','without_bins']].plot.bar(figsize=(20,5), stacked=True)"
   ]
  },
  {
   "cell_type": "code",
   "execution_count": null,
   "metadata": {},
   "outputs": [],
   "source": [
    "update_results_df.loc[update_results_df.index.year == 2022][['with_updated_bins','without_updated_bins']].plot.bar(figsize=(20,3), stacked=True)"
   ]
  },
  {
   "cell_type": "code",
   "execution_count": null,
   "metadata": {},
   "outputs": [],
   "source": [
    "update_results_df[['with_updated_bins','without_updated_bins']].plot.bar(figsize=(20,5), stacked=True)"
   ]
  },
  {
   "cell_type": "code",
   "execution_count": null,
   "metadata": {},
   "outputs": [],
   "source": [
    "# what is the next best title to hardcode?\n",
    "\n",
    "bins_all_cvrf_df[bins_all_cvrf_df['Bins Count'] == 0]['Title'].value_counts()"
   ]
  },
  {
   "cell_type": "code",
   "execution_count": null,
   "metadata": {},
   "outputs": [],
   "source": [
    "# what is the next best tag to hardcode?\n",
    "bins_all_cvrf_df[bins_all_cvrf_df['Bins Count'] == 0]['Tag'].value_counts()"
   ]
  },
  {
   "cell_type": "code",
   "execution_count": null,
   "metadata": {},
   "outputs": [],
   "source": [
    "# what is the next best tag/title combo?\n",
    "tags_df = bins_all_cvrf_df[bins_all_cvrf_df['Bins Count'] == 0]\n",
    "#tags_df = df[['Tag','Title', 'Initial Release']]\n",
    "tags_df = tags_df.loc[tags_df['Initial Release'].str.contains('2022')]\n",
    "tags_title_df = tags_df.reset_index().groupby(['Tag','Title']).aggregate(set)\n",
    "tags_title_df = tags_title_df.rename(columns={'index': 'CVEs'})\n",
    "tags_title_df['CVE Count'] = tags_title_df['CVEs'].apply(lambda x: len(list(x)))\n",
    "tags_title_df.sort_values(by=['CVE Count'], ascending=False)"
   ]
  }
 ],
 "metadata": {
  "kernelspec": {
   "display_name": "Python 3.9.6 ('.env': venv)",
   "language": "python",
   "name": "python3"
  },
  "language_info": {
   "codemirror_mode": {
    "name": "ipython",
    "version": 3
   },
   "file_extension": ".py",
   "mimetype": "text/x-python",
   "name": "python",
   "nbconvert_exporter": "python",
   "pygments_lexer": "ipython3",
   "version": "3.9.6"
  },
  "orig_nbformat": 4,
  "vscode": {
   "interpreter": {
    "hash": "5dd911ca2c3a77dfe15faaa9f2e11b5bd0ab12bd83e3b7578eb2712f103edba3"
   }
  }
 },
 "nbformat": 4,
 "nbformat_minor": 2
}
