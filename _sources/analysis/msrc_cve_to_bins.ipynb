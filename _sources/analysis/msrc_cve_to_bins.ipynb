{
 "cells": [
  {
   "cell_type": "markdown",
   "metadata": {},
   "source": [
    "# Mapping MSRC CVEs to Bins\n",
    "\n",
    "Is it possible to map [MSRC CVEs](https://msrc.microsoft.com/update-guide/vulnerability) to Windows binaries?\n",
    "\n",
    "\n",
    "```{mermaid}\n",
    "\n",
    "graph TD\n",
    "    A[winbindex fa:fa-database] --> B[KBs]\n",
    "    C[ms support feeds fa:fa-database] -->B\n",
    "    B --> D[msrc_cve_to_bins.py]\n",
    "    A --> E\n",
    "    C --> E\n",
    "    E[File Version Info fa:fa-file] --> D\n",
    "    F[Known MSRC Tags + Titles fa:fa-tag] --> D\n",
    "    D --> G(cve to bin fa:fa-map)\n",
    "\n",
    "```"
   ]
  },
  {
   "cell_type": "markdown",
   "metadata": {},
   "source": [
    "## Setup\n",
    "\n",
    "### import cvedata"
   ]
  },
  {
   "cell_type": "code",
   "execution_count": null,
   "metadata": {},
   "outputs": [],
   "source": [
    "from cvedata.winbindex import get_winbindex_desc_to_bin_map, WINBINDEX_GITHUB_URL, get_winbindex_kbs_to_bin_map\n",
    "from cvedata.win_verinfo import get_verinfo_desc_to_bins_json\n",
    "from cvedata.msrc_pandas import get_msrc_tags, get_msrc_titles, get_msrc_cvrf_pandas_df, MSRC_CVRF_PANDAS_FULL,MSRC_CVRF_PANDAS\n",
    "from cvedata.msrc_known_bins import KNOWN_TAG_TO_BIN_MAP, KNOWN_TITLE_TO_BIN_MAP\n",
    "from cvedata.ms_feed_kbs import get_ms_kb_to_bins_json\n",
    "\n",
    "\n",
    "from cvedata.msrc_pandas import clean_impact\n",
    "from cvedata.msrc_cve_to_bins import clean_tag,get_msrc_all_desc_to_bins"
   ]
  },
  {
   "cell_type": "code",
   "execution_count": null,
   "metadata": {},
   "outputs": [],
   "source": [
    "import pandas as pd\n",
    "import difflib\n",
    "from datetime import datetime\n",
    "\n",
    "pd.set_option('display.max_rows', 20)"
   ]
  },
  {
   "cell_type": "markdown",
   "metadata": {},
   "source": [
    "### Setup data sources"
   ]
  },
  {
   "cell_type": "code",
   "execution_count": null,
   "metadata": {},
   "outputs": [],
   "source": [
    "KNOWN_TAG_TO_BIN_MAP, KNOWN_TITLE_TO_BIN_MAP # hardcoded tag/title to bin\n",
    "tags_json = get_msrc_tags()\n",
    "titles_json = get_msrc_titles()\n",
    "verinfo_desc_to_bins = get_verinfo_desc_to_bins_json()\n",
    "wv_ver = get_winbindex_desc_to_bin_map()\n",
    "all_desc_to_bins = get_msrc_all_desc_to_bins() #combined wv_ver and verinfo"
   ]
  },
  {
   "cell_type": "markdown",
   "metadata": {},
   "source": [
    "## Correlate Data Sources\n",
    "\n",
    "### Build list of all known Windows binary names"
   ]
  },
  {
   "cell_type": "code",
   "execution_count": null,
   "metadata": {},
   "outputs": [],
   "source": [
    "bin_names = []\n",
    "\n",
    "for key in wv_ver:\n",
    "    for bin in wv_ver[key]:\n",
    "        bin_names.append(bin)\n",
    "\n",
    "for key in verinfo_desc_to_bins:\n",
    "    for bin in verinfo_desc_to_bins[key]:\n",
    "        bin_names.append(bin)\n",
    "\n",
    "bin_names = list(set(bin_names))\n",
    "\n",
    "all_bin_names = {}\n",
    "\n",
    "for bin in bin_names:\n",
    "    all_bin_names[bin] = [bin]\n",
    "\n",
    "len(all_bin_names)"
   ]
  },
  {
   "cell_type": "markdown",
   "metadata": {},
   "source": [
    "### Correlate MSRC tags to Windows Binary Names"
   ]
  },
  {
   "cell_type": "code",
   "execution_count": null,
   "metadata": {},
   "outputs": [],
   "source": [
    "def get_match_at_cutoff(key,possibilities: dict,cutoff: float = 0.6):\n",
    "\n",
    "    if key is None:\n",
    "        return []\n",
    "\n",
    "    key = clean_tag(key)\n",
    "    matches = difflib.get_close_matches(key,possibilities.keys(),n=10000,cutoff=cutoff)\n",
    "\n",
    "    # map keys to bins\n",
    "    bins = [bin for desc in matches for bin in possibilities[desc]]\n",
    "    return bins\n",
    "    \n",
    "all_bins_df = pd.DataFrame(get_msrc_tags(),columns=['Tag'])\n",
    "all_bins_df['all_bin_names'] = all_bins_df['Tag'].apply(get_match_at_cutoff, args=(all_bin_names,.75))\n",
    "all_bins_df[all_bins_df['all_bin_names'].apply(lambda x: len(x) > 0)]"
   ]
  },
  {
   "cell_type": "code",
   "execution_count": null,
   "metadata": {},
   "outputs": [],
   "source": [
    "# Save results in a dictionary for later\n",
    "tags_all_bins = all_bins_df[['Tag','all_bin_names']]\n",
    "tags_all_bins.set_index('Tag', inplace=True)\n",
    "all_bins_d = tags_all_bins['all_bin_names'].to_dict()"
   ]
  },
  {
   "cell_type": "code",
   "execution_count": null,
   "metadata": {},
   "outputs": [],
   "source": [
    "all_cvrf_df = pd.DataFrame.from_dict(get_msrc_cvrf_pandas_df())\n",
    "all_cvrf_df = all_cvrf_df.drop('Acks',axis=1)\n",
    "all_cvrf_df.head()"
   ]
  },
  {
   "cell_type": "markdown",
   "metadata": {},
   "source": [
    " ### Correlate MSRC tags to Windows File Descriptions across Similarities [.25, .45, .5, .55, .75, .9, 1]"
   ]
  },
  {
   "cell_type": "code",
   "execution_count": null,
   "metadata": {},
   "outputs": [],
   "source": [
    "def get_tag_similarity_df(row : str,key : str,desc_to_bins: dict,col_pre : str,min_sims: list):\n",
    "    \"\"\"\n",
    "    Builds similarity columns into Dataframe at min_sims intervals\n",
    "    \"\"\"\n",
    "\n",
    "    bins = {}\n",
    "\n",
    "    # init bins\n",
    "    for min_sim in min_sims:\n",
    "            bins.setdefault(min_sim,[])\n",
    "\n",
    "    ctag1 = clean_tag(row[key]).split()\n",
    "\n",
    "    for desc in desc_to_bins:\n",
    "\n",
    "        # check for bad/common tag\n",
    "        if len(ctag1) == 0:\n",
    "            break\n",
    "        \n",
    "        ctag2 = clean_tag(desc).split()\n",
    "\n",
    "        if len(ctag2) == 0:\n",
    "            continue\n",
    "        \n",
    "        s = difflib.SequenceMatcher(None,ctag1,ctag2)\n",
    "        \n",
    "        if s.real_quick_ratio() > min_sims[0] and s.quick_ratio() > min_sims[0]:\n",
    "            \n",
    "            sim = s.ratio()\n",
    "\n",
    "            # add bins to \n",
    "            for min_sim in min_sims:                      \n",
    "                if sim >= min_sim:\n",
    "                    [bins[min_sim].append(bin) for bin in desc_to_bins[desc]]\n",
    "\n",
    "    for sim_score in bins:\n",
    "        row[f\"{col_pre}-{sim_score}\"] = bins[sim_score]\n",
    "\n",
    "    return row"
   ]
  },
  {
   "cell_type": "code",
   "execution_count": null,
   "metadata": {},
   "outputs": [],
   "source": [
    "key = 'Tag'\n",
    "tags_sim_df = pd.DataFrame(all_cvrf_df['Tag'].unique(),columns= ['Tag'])\n",
    "tags_sim_df.head()"
   ]
  },
  {
   "cell_type": "code",
   "execution_count": null,
   "metadata": {},
   "outputs": [],
   "source": [
    "key = 'Tag'\n",
    "tags_sim_verinfo_df = tags_sim_df.apply(get_tag_similarity_df,args=(key,all_desc_to_bins,'vi',[.25, .45, .5, .55, .75, .9, 1]),axis=1)\n",
    "tags_sim_map = tags_sim_verinfo_df.set_index('Tag')\n",
    "tags_sim_verinfo_df.head()"
   ]
  },
  {
   "cell_type": "code",
   "execution_count": null,
   "metadata": {},
   "outputs": [],
   "source": [
    "titles_sim_df = pd.DataFrame(all_cvrf_df['Title'].unique(),columns= ['Title'])\n",
    "# drop chromium titles\n",
    "titles_sim_df = titles_sim_df[~titles_sim_df.Title.str.contains('Chromium CVE')]\n",
    "titles_sim_df.head()"
   ]
  },
  {
   "cell_type": "code",
   "execution_count": null,
   "metadata": {},
   "outputs": [],
   "source": [
    "key = 'Title'\n",
    "titles_sim_verinfo_df = titles_sim_df.apply(get_tag_similarity_df,args=(key,all_desc_to_bins,'vi',[.25, .45, .5, .55, .75, .9, 1]),axis=1)\n",
    "all_titles_sim_map = titles_sim_verinfo_df.set_index('Title')\n",
    "titles_sim_verinfo_df.head(25)"
   ]
  },
  {
   "cell_type": "markdown",
   "metadata": {},
   "source": [
    "## What is the number of bins on average for each similarity?"
   ]
  },
  {
   "cell_type": "code",
   "execution_count": null,
   "metadata": {},
   "outputs": [],
   "source": [
    "tags_sim_verinfo_df.apply(lambda s: s.map(lambda x: len(x) if x else 0)).mean()"
   ]
  },
  {
   "cell_type": "code",
   "execution_count": null,
   "metadata": {},
   "outputs": [],
   "source": [
    "titles_sim_verinfo_df.apply(lambda s: s.map(lambda x: len(x))).mean() "
   ]
  },
  {
   "cell_type": "markdown",
   "metadata": {},
   "source": [
    "### Which tag descriptions are a bit too noisy?"
   ]
  },
  {
   "cell_type": "code",
   "execution_count": null,
   "metadata": {},
   "outputs": [],
   "source": [
    "bin_count_tags_sim_verinfo_df = tags_sim_verinfo_df.set_index('Tag')\n",
    "bin_count_tags_sim_verinfo_df.apply(lambda s: s.map(lambda x: len(x) if x else 0))['vi-0.45'].sort_values(ascending=False)"
   ]
  },
  {
   "cell_type": "markdown",
   "metadata": {},
   "source": [
    "### Which titles are a bit too noisy?"
   ]
  },
  {
   "cell_type": "code",
   "execution_count": null,
   "metadata": {},
   "outputs": [],
   "source": [
    "bin_count_titles_sim_verinfo_df = titles_sim_verinfo_df.set_index('Title')\n",
    "bin_count_titles_sim_verinfo_df.apply(lambda s: s.map(lambda x: len(x) if x else 0))['vi-0.45'].sort_values(ascending=False)"
   ]
  },
  {
   "cell_type": "code",
   "execution_count": null,
   "metadata": {},
   "outputs": [],
   "source": [
    "tags_sim_map = tags_sim_verinfo_df.copy()\n",
    "tags_sim_map.set_index('Tag',inplace=True)\n",
    "tag_counts_df = tags_sim_map.apply(lambda s: s.map(lambda x: len(x) if x else 0))\n",
    "\n",
    "counts = []\n",
    "for col in tag_counts_df.columns:\n",
    "    print(col)\n",
    "    print(tag_counts_df[tag_counts_df[col] > 0].count()[col])\n",
    "    counts.append(pd.Series( {col: tag_counts_df[tag_counts_df[col] > 0].count()[col]}))\n",
    "    \n"
   ]
  },
  {
   "cell_type": "code",
   "execution_count": null,
   "metadata": {
    "tags": [
     "full-width"
    ]
   },
   "outputs": [],
   "source": [
    "pd.concat(counts).plot.bar(figsize=(20,5), title=\"# Tags correlated across similarities\")"
   ]
  },
  {
   "cell_type": "code",
   "execution_count": null,
   "metadata": {},
   "outputs": [],
   "source": [
    "titles_sim_map = titles_sim_verinfo_df.copy()\n",
    "titles_sim_map.set_index('Title',inplace=True)\n",
    "title_counts_df = titles_sim_map.apply(lambda s: s.map(lambda x: len(x) if x else 0))\n",
    "\n",
    "counts = []\n",
    "for col in title_counts_df.columns:\n",
    "    print(col)\n",
    "    print(title_counts_df[title_counts_df[col] > 0].count()[col])\n",
    "    counts.append(pd.Series( {col: title_counts_df[title_counts_df[col] > 0].count()[col]}))"
   ]
  },
  {
   "cell_type": "code",
   "execution_count": null,
   "metadata": {
    "tags": [
     "full-width"
    ]
   },
   "outputs": [],
   "source": [
    "pd.concat(counts).plot.bar(figsize=(20,5), title=\"# of Titles correlated across similarities\")"
   ]
  },
  {
   "cell_type": "markdown",
   "metadata": {},
   "source": [
    "## Setup KB update data"
   ]
  },
  {
   "cell_type": "code",
   "execution_count": null,
   "metadata": {},
   "outputs": [],
   "source": [
    "wb_feed = get_winbindex_kbs_to_bin_map()\n",
    "wb_feed_d = {}\n",
    "\n",
    "for key in wb_feed:\n",
    "    wb_feed_d[key] = wb_feed[key]['updated']"
   ]
  },
  {
   "cell_type": "code",
   "execution_count": null,
   "metadata": {},
   "outputs": [],
   "source": [
    "kb_feed_df = None\n",
    "kb_feed = get_ms_kb_to_bins_json()['updated']"
   ]
  },
  {
   "cell_type": "markdown",
   "metadata": {},
   "source": [
    "## Mapping CVEs to bins"
   ]
  },
  {
   "cell_type": "code",
   "execution_count": null,
   "metadata": {},
   "outputs": [],
   "source": [
    "def cve_to_bin(row):\n",
    "    cve = row.name\n",
    "    tag = row['Tag']\n",
    "    title = row['Title']\n",
    "\n",
    "    bins = set()\n",
    "    \n",
    "    if tag and tag.lower() in KNOWN_TAG_TO_BIN_MAP:\n",
    "        for bin in KNOWN_TAG_TO_BIN_MAP[tag.lower()]:\n",
    "            bins.add(bin)\n",
    "\n",
    "    if title and title.lower() in KNOWN_TITLE_TO_BIN_MAP:\n",
    "        for bin in KNOWN_TITLE_TO_BIN_MAP[title.lower()]:\n",
    "            bins.add(bin)\n",
    "\n",
    "    if all_bins_d.get(tag):\n",
    "        for bin in all_bins_d.get(tag):\n",
    "            bins.add(bin)\n",
    "\n",
    "    if tag and \"microsoft\" in tag.lower():\n",
    "        tag_min = 'vi-0.55'\n",
    "    else:\n",
    "        tag_min = 'vi-0.45'\n",
    "\n",
    "    if title and \"microsoft\" in title.lower():\n",
    "        title_min = 'vi-0.55'\n",
    "    else:\n",
    "        title_min = 'vi-0.45'\n",
    "\n",
    "    for bin in tags_sim_map[tag_min].loc[tag]:\n",
    "        bins.add(bin)\n",
    "\n",
    "    if titles_sim_map[title_min].get(title):\n",
    "        for bin in titles_sim_map[title_min].get(title):\n",
    "            bins.add(bin)\n",
    "\n",
    "    # updated_bins    \n",
    "    updated_bins = []\n",
    "    for kb in row['KBs'].split():        \n",
    "        kb_updated_files = kb_feed.get(kb)\n",
    "        if kb_updated_files:\n",
    "            updated_bins.extend(kb_updated_files)\n",
    "        wb_updated_files = wb_feed_d.get(kb)\n",
    "        if wb_updated_files:\n",
    "            updated_bins.extend(wb_updated_files)\n",
    "            wb_feed_d\n",
    "\n",
    "\n",
    "    row['Bins Updated'] = list(set(updated_bins).intersection(bins))\n",
    "    row['Bins'] = list(bins)\n",
    "\n",
    "    return row\n",
    "\n",
    "print(all_cvrf_df.columns)\n",
    "\n",
    "bins_all_cvrf_df = all_cvrf_df.apply(cve_to_bin,axis=1)\n",
    "bins_all_cvrf_df.head()"
   ]
  },
  {
   "cell_type": "code",
   "execution_count": null,
   "metadata": {},
   "outputs": [],
   "source": [
    "bins_all_cvrf_df.sort_values(by=['Bins'], ascending=False)"
   ]
  },
  {
   "cell_type": "markdown",
   "metadata": {},
   "source": [
    "### How man CVEs have bins assigned?"
   ]
  },
  {
   "cell_type": "code",
   "execution_count": null,
   "metadata": {},
   "outputs": [],
   "source": [
    "bins_all_cvrf_df['Bins Count'] = bins_all_cvrf_df['Bins'].apply(lambda x: len(x) if x else 0)\n",
    "bins_all_cvrf_df['Bins Updated Count'] = bins_all_cvrf_df['Bins Updated'].apply(lambda x: len(x) if x else 0)\n",
    "bins_all_cvrf_df.head()\n"
   ]
  },
  {
   "cell_type": "markdown",
   "metadata": {},
   "source": [
    "#### CVEs with Bins Assigned"
   ]
  },
  {
   "cell_type": "code",
   "execution_count": null,
   "metadata": {},
   "outputs": [],
   "source": [
    "bins_all_cvrf_df[bins_all_cvrf_df['Bins Count'] > 0]"
   ]
  },
  {
   "cell_type": "markdown",
   "metadata": {},
   "source": [
    "#### CVEs with Bins Assigned and Verified with KB Update"
   ]
  },
  {
   "cell_type": "code",
   "execution_count": null,
   "metadata": {},
   "outputs": [],
   "source": [
    "bins_all_cvrf_df[bins_all_cvrf_df['Bins Updated Count'] > 0].sort_values(by='Bins Updated Count', ascending=False)"
   ]
  },
  {
   "cell_type": "markdown",
   "metadata": {},
   "source": [
    "### How many verified from this month's MSRC update?"
   ]
  },
  {
   "cell_type": "code",
   "execution_count": null,
   "metadata": {},
   "outputs": [],
   "source": [
    "year = datetime.now().year\n",
    "month = datetime.now().month\n",
    "bins_all_cvrf_df[bins_all_cvrf_df['Initial Release'].str.contains(f'{year}-{month}') & bins_all_cvrf_df['Bins Updated Count'] > 0]"
   ]
  },
  {
   "cell_type": "markdown",
   "metadata": {},
   "source": [
    "## How many CVEs have KB data?"
   ]
  },
  {
   "cell_type": "code",
   "execution_count": null,
   "metadata": {},
   "outputs": [],
   "source": [
    "def has_kb_data(kbs):\n",
    "\n",
    "    has_kb_data = False\n",
    "\n",
    "    for kb in kbs.split():\n",
    "        if kb_feed.get(kb) and (len(kb_feed.get(kb)['updated']) > 0):\n",
    "            has_kb_data = True\n",
    "            break\n",
    "        if wb_feed_d.get(kb) and (len(wb_feed_d.get(kb)['updated']) > 0):\n",
    "            has_kb_data = True\n",
    "            break\n",
    "\n",
    "bins_all_cvrf_df['has_kb'] = bins_all_cvrf_df['KBs'].apply(lambda x: len(x.split()) > 0)\n",
    "bins_all_cvrf_df['has_kb_data'] = bins_all_cvrf_df['KBs'].apply(lambda x: len(x.split()) > 0)\n",
    "bins_all_cvrf_df.head()"
   ]
  },
  {
   "cell_type": "markdown",
   "metadata": {},
   "source": [
    "### How many CVEs have KB information but no verified bins? (cvedata is missing KB source coverage)"
   ]
  },
  {
   "cell_type": "code",
   "execution_count": null,
   "metadata": {},
   "outputs": [],
   "source": [
    "bins_all_cvrf_df[(bins_all_cvrf_df['Initial Release'].str.contains(f\"{year}-{month}\")) & (bins_all_cvrf_df['Bins Updated Count'] == 0) & (bins_all_cvrf_df['has_kb'] == True)]"
   ]
  },
  {
   "cell_type": "markdown",
   "metadata": {},
   "source": [
    "## For all updates, what % have assigned bins?"
   ]
  },
  {
   "cell_type": "code",
   "execution_count": null,
   "metadata": {},
   "outputs": [],
   "source": [
    "\n",
    "updates = bins_all_cvrf_df['Initial Release'].unique()\n",
    "\n",
    "results = {}\n",
    "\n",
    "for update in updates:\n",
    "    results.setdefault(update,{})\n",
    "    update_df = bins_all_cvrf_df[bins_all_cvrf_df['Initial Release'].str.contains(update)]\n",
    "    cve_per_update = update_df.shape[0]\n",
    "    cves_with_updated_bins = update_df[update_df['Bins Updated Count'] > 0]\n",
    "    cves_without_updated_bins = update_df[update_df['Bins Updated Count'] == 0]\n",
    "    cves_without_updated_bins_and_has_kbs = update_df[(update_df['Bins Updated Count'] == 0) & (update_df['has_kb'] == True)]\n",
    "    cves_with_bins = update_df[update_df['Bins Count'] > 0]    \n",
    "    cves_without_bins = update_df[(update_df['Bins Count'] == 0)]\n",
    "    \n",
    "    cve_with_bins_percent = (cves_with_bins.shape[0] * 100 / cve_per_update) \n",
    "    cve_without_bins_percent = (cves_without_bins.shape[0] * 100 / cve_per_update)\n",
    "    \n",
    "    results[update]['with_bins'] = cves_with_bins.shape[0]\n",
    "    results[update]['without_bins'] = cves_without_bins.shape[0]\n",
    "    results[update]['with_updated_bins'] = cves_with_updated_bins.shape[0]\n",
    "    results[update]['without_updated_bins'] = cves_without_updated_bins.shape[0]\n",
    "    results[update]['without_updated_bins_has_kbs'] = cves_without_updated_bins_and_has_kbs.shape[0]\n",
    "    \n",
    "    \n",
    "update_results_df = pd.DataFrame.from_dict(results, orient='index')\n",
    "update_results_df.index = pd.to_datetime(update_results_df.index)\n",
    "update_results_df = update_results_df.sort_index()\n",
    "update_results_df.head()\n"
   ]
  },
  {
   "cell_type": "markdown",
   "metadata": {},
   "source": [
    "### CVEs with Bins Assigned This Year"
   ]
  },
  {
   "cell_type": "code",
   "execution_count": null,
   "metadata": {
    "tags": [
     "full-width"
    ]
   },
   "outputs": [],
   "source": [
    "title='CVEs with Bins Assigned This Year'\n",
    "update_results_df.loc[update_results_df.index.year == year][['with_bins','without_bins']].plot.bar(figsize=(20,3), stacked=True, title=title)"
   ]
  },
  {
   "cell_type": "markdown",
   "metadata": {},
   "source": [
    "### CVEs with Bins Assigned All Time"
   ]
  },
  {
   "cell_type": "code",
   "execution_count": null,
   "metadata": {
    "tags": [
     "full-width"
    ]
   },
   "outputs": [],
   "source": [
    "title='CVEs with Bins Assigned All Time'\n",
    "update_results_df[['with_bins','without_bins']].plot.bar(figsize=(20,5), stacked=True, title=title)"
   ]
  },
  {
   "cell_type": "markdown",
   "metadata": {},
   "source": [
    "### CVEs with KB Verified Update Bins This Year"
   ]
  },
  {
   "cell_type": "code",
   "execution_count": null,
   "metadata": {
    "tags": [
     "full-width"
    ]
   },
   "outputs": [],
   "source": [
    "title='CVEs with KB Verified Update Bins This Year'\n",
    "update_results_df.loc[update_results_df.index.year == year][['with_updated_bins','without_updated_bins']].plot.bar(figsize=(20,3), stacked=True, title=title)"
   ]
  },
  {
   "cell_type": "markdown",
   "metadata": {},
   "source": [
    "### CVEs with KB Verified Update Bins All Time"
   ]
  },
  {
   "cell_type": "code",
   "execution_count": null,
   "metadata": {
    "tags": [
     "full-width"
    ]
   },
   "outputs": [],
   "source": [
    "title='CVEs with KB Verified Update Bins All Time'\n",
    "update_results_df[['with_updated_bins','without_updated_bins']].plot.bar(figsize=(20,5), stacked=True, title=title)"
   ]
  },
  {
   "cell_type": "markdown",
   "metadata": {},
   "source": [
    "### CVEs with KB Verified Update Bins That Have KB information This Year"
   ]
  },
  {
   "cell_type": "code",
   "execution_count": null,
   "metadata": {
    "tags": [
     "full-width"
    ]
   },
   "outputs": [],
   "source": [
    "title='CVEs with KB Verified Update Bins That Have KB information This Year'\n",
    "update_results_df.loc[update_results_df.index.year == year][['with_updated_bins','without_updated_bins_has_kbs']].plot.bar(figsize=(20,3), stacked=True, title=title)"
   ]
  },
  {
   "cell_type": "markdown",
   "metadata": {},
   "source": [
    "### CVEs with KB Verified Update Bins That Have KB Source Info All Time"
   ]
  },
  {
   "cell_type": "code",
   "execution_count": null,
   "metadata": {
    "tags": [
     "full-width"
    ]
   },
   "outputs": [],
   "source": [
    "title = 'CVEs with KB Verified Update Bins That Have KB Source Info All Time'\n",
    "update_results_df[['with_updated_bins','without_updated_bins_has_kbs']].plot.bar(figsize=(20,5), stacked=True, title=title)"
   ]
  },
  {
   "cell_type": "markdown",
   "metadata": {},
   "source": [
    "### CVEs with KB Verified Update Bins That Have KB Source Info All Time Ratio"
   ]
  },
  {
   "cell_type": "code",
   "execution_count": null,
   "metadata": {
    "tags": [
     "full-width"
    ]
   },
   "outputs": [],
   "source": [
    "#update_results_df[['with_updated_bins','without_updated_bins_has_kbs']].apply(lambda x: [x[0] * 100 / sum(x),x[1] * 100 / sum(x) ], axis=1)\n",
    "title = 'CVEs with KB Verified Update Bins That Have KB Source Info All Time Ratio'\n",
    "updated_with_without_kbs_df = update_results_df[['with_updated_bins','without_updated_bins_has_kbs']]\n",
    "updated_with_without_kbs_df = updated_with_without_kbs_df.div(updated_with_without_kbs_df.sum(axis=1), axis=0)\n",
    "updated_with_without_kbs_df.plot.bar(figsize=(20,5), stacked=True, title=title)\n"
   ]
  },
  {
   "cell_type": "markdown",
   "metadata": {},
   "source": [
    "## CVE mapping improvement\n",
    "\n",
    "### What is the next best title to hardcode?"
   ]
  },
  {
   "cell_type": "code",
   "execution_count": null,
   "metadata": {},
   "outputs": [],
   "source": [
    "bins_all_cvrf_df[bins_all_cvrf_df['Bins Count'] == 0]['Title'].value_counts()"
   ]
  },
  {
   "cell_type": "markdown",
   "metadata": {},
   "source": [
    "### what is the next best title to hardcode that has KBs?"
   ]
  },
  {
   "cell_type": "code",
   "execution_count": null,
   "metadata": {},
   "outputs": [],
   "source": [
    "bins_all_cvrf_df[(bins_all_cvrf_df['Bins Updated Count'] == 0) & (bins_all_cvrf_df['has_kb'] == True)]['Title'].value_counts()"
   ]
  },
  {
   "cell_type": "markdown",
   "metadata": {},
   "source": [
    "### what is the next best tag to hardcode?"
   ]
  },
  {
   "cell_type": "code",
   "execution_count": null,
   "metadata": {},
   "outputs": [],
   "source": [
    "bins_all_cvrf_df[bins_all_cvrf_df['Bins Count'] == 0]['Tag'].value_counts()"
   ]
  },
  {
   "cell_type": "markdown",
   "metadata": {},
   "source": [
    "### what is the next best title to hardcode that has KBs?"
   ]
  },
  {
   "cell_type": "code",
   "execution_count": null,
   "metadata": {},
   "outputs": [],
   "source": [
    "bins_all_cvrf_df[(bins_all_cvrf_df['Bins Count'] == 0) & (bins_all_cvrf_df['has_kb'] == True)]['Tag'].value_counts()"
   ]
  },
  {
   "cell_type": "markdown",
   "metadata": {},
   "source": [
    "### What is the next best tag/title combo?"
   ]
  },
  {
   "cell_type": "code",
   "execution_count": null,
   "metadata": {},
   "outputs": [],
   "source": [
    "tags_df = bins_all_cvrf_df[bins_all_cvrf_df['Bins Count'] == 0]\n",
    "tags_df = tags_df.loc[tags_df['Initial Release'].str.contains('2022')]\n",
    "tags_title_df = tags_df.reset_index().groupby(['Tag','Title']).aggregate(lambda x: list(set(x)))\n",
    "tags_title_df = tags_title_df.rename(columns={'index': 'CVEs'})\n",
    "tags_title_df['CVE Count'] = tags_title_df['CVEs'].apply(lambda x: len(x))\n",
    "tags_title_df.sort_values(by=['CVE Count'], ascending=False)"
   ]
  },
  {
   "cell_type": "markdown",
   "metadata": {},
   "source": [
    "### What is the next best hardcode tag title with kbs?"
   ]
  },
  {
   "cell_type": "code",
   "execution_count": null,
   "metadata": {},
   "outputs": [],
   "source": [
    "tags_title_df[tags_title_df['has_kb'].apply(lambda x: x[0]) == True].sort_values(by=['CVE Count'], ascending=False)"
   ]
  }
 ],
 "metadata": {
  "kernelspec": {
   "display_name": "Python 3.8.10 ('.env': venv)",
   "language": "python",
   "name": "python3"
  },
  "language_info": {
   "codemirror_mode": {
    "name": "ipython",
    "version": 3
   },
   "file_extension": ".py",
   "mimetype": "text/x-python",
   "name": "python",
   "nbconvert_exporter": "python",
   "pygments_lexer": "ipython3",
   "version": "3.8.10"
  },
  "orig_nbformat": 4,
  "vscode": {
   "interpreter": {
    "hash": "4f69ed7843b0ea893c9d89f5f979ee399fdfe7651430c7bb7d8442c4ca5d90f2"
   }
  }
 },
 "nbformat": 4,
 "nbformat_minor": 2
}
