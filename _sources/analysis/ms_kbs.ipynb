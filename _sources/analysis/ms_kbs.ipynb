{
 "cells": [
  {
   "cell_type": "markdown",
   "id": "6e05f625",
   "metadata": {},
   "source": [
    "# Microsoft KBs Analysis"
   ]
  },
  {
   "cell_type": "markdown",
   "id": "1a55aba8",
   "metadata": {},
   "source": [
    "## Most often updated Binary"
   ]
  },
  {
   "cell_type": "markdown",
   "id": "67c9b1b2",
   "metadata": {},
   "source": [
    "## Graph number of updated files per KB "
   ]
  }
 ],
 "metadata": {
  "kernelspec": {
   "display_name": "Python 3.9.6 ('.env': venv)",
   "language": "python",
   "name": "python3"
  },
  "language_info": {
   "name": "python",
   "version": "3.9.6"
  },
  "vscode": {
   "interpreter": {
    "hash": "5dd911ca2c3a77dfe15faaa9f2e11b5bd0ab12bd83e3b7578eb2712f103edba3"
   }
  }
 },
 "nbformat": 4,
 "nbformat_minor": 5
}
