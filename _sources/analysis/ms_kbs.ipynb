{
 "cells": [
  {
   "cell_type": "markdown",
   "id": "6e05f625",
   "metadata": {},
   "source": [
    "# Microsoft KBs Analysis"
   ]
  },
  {
   "cell_type": "markdown",
   "id": "167946b8",
   "metadata": {},
   "source": [
    "## What KB data sources do we have?\n",
    "\n",
    "```{mermaid}\n",
    "\n",
    "graph TD\n",
    "\n",
    "\n",
    "    A[winbindex fa:fa-database] --> B[KBs]\n",
    "    C[ms support feeds fa:fa-database] -->B\n",
    "    B --> D[List of updated Binaries fa:fa-file]\n",
    "    B --> E[Release dates fa:fa-calendar]\n",
    "    B --> F[Build Versions]\n",
    "```\n",
    "\n",
    "\n",
    "### winbindex\n",
    "\n",
    "Winbindex pulls Windows OS Builds by [scraping the Windows update pages](https://github.com/m417z/winbindex/blob/gh-pages/data/upd01_get_list_of_updates.py) for Windows 10 and 11 Updates from: \n",
    "- https://support.microsoft.com/en-us/help/4000823\n",
    "- https://support.microsoft.com/en-us/help/5006099\n",
    "\n",
    "It has several more steps in it's [workflow](https://github.com/m417z/winbindex/tree/gh-pages/data#winbindex-flow-of-scripts). \n",
    "\n",
    "The `cvedata` code that parses the winbindex data is here [winbindex.py](https://github.com/clearbluejar/cvedata/blob/main/cvedata/winbindex.py)\n",
    "\n",
    "### MS Atom RSS Feeds KBs\n",
    "\n",
    "MS Feeds KBs relies on:  https://support.microsoft.com/en-us/rss-feed-picker\n",
    "\n",
    "The `cvedata` code is here [ms_feed_kbs.py](https://github.com/clearbluejar/cvedata/blob/main/cvedata/ms_feed_kbs.py)\n",
    "\n",
    "Pulling data from \n",
    "\n",
    "- WIN10_FEED_URL = \"https://support.microsoft.com/en-us/feed/atom/6ae59d69-36fc-8e4d-23dd-631d98bf74a9\"\n",
    "- WIN11_FEED_URL = \"https://support.microsoft.com/en-us/feed/atom/4ec863cc-2ecd-e187-6cb3-b50c6545db92\"\n",
    "- WIN_SERVER_2022_FEED_URL = \"https://support.microsoft.com/en-us/feed/atom/2d67e9fb-2bd2-6742-08ee-628da707657f\"\n",
    "- WIN_SERVER_2019_FEED_URL = \"https://support.microsoft.com/en-us/feed/atom/eb958e25-cff9-2d06-53ca-f656481bb31f\"\n",
    "- WIN_SERVER_2016_FEED_URL = \"https://support.microsoft.com/en-us/feed/atom/c3a1be8a-50db-47b7-d5eb-259debc3abcc\""
   ]
  },
  {
   "cell_type": "markdown",
   "id": "f2a05123",
   "metadata": {},
   "source": [
    "## Import cvedata"
   ]
  },
  {
   "cell_type": "code",
   "execution_count": null,
   "id": "201fa3e6",
   "metadata": {},
   "outputs": [],
   "source": [
    "from cvedata.ms_feed_kbs import get_ms_kb_to_bins_json\n",
    "from cvedata.winbindex import get_winbindex_kbs_to_bin_map\n",
    "from cvedata.msrc_pandas import get_msrc_cvrf_pandas_df\n",
    "import pandas as pd\n",
    "\n",
    "wb_kbs = get_winbindex_kbs_to_bin_map()\n",
    "ms_kbs = get_ms_kb_to_bins_json()\n",
    "msrc_pandas = get_msrc_cvrf_pandas_df()"
   ]
  },
  {
   "cell_type": "markdown",
   "id": "7b301050",
   "metadata": {},
   "source": [
    "### Winbindex KB Data"
   ]
  },
  {
   "cell_type": "code",
   "execution_count": null,
   "id": "a54100bf",
   "metadata": {},
   "outputs": [],
   "source": [
    "wb_kbs_df = pd.DataFrame.from_dict(wb_kbs, orient='index')\n",
    "wb_kbs_df['bin count'] = wb_kbs_df['updated'].apply(lambda x: len(x))\n",
    "without_bins = wb_kbs_df[wb_kbs_df['bin count'] == 0].index\n",
    "wb_kbs_df = wb_kbs_df.drop(without_bins)\n",
    "wb_kbs_df.sort_values(by=['bin count'], ascending=False)\n"
   ]
  },
  {
   "cell_type": "markdown",
   "id": "79847c84",
   "metadata": {},
   "source": [
    "### MS feeds KB Data"
   ]
  },
  {
   "cell_type": "code",
   "execution_count": null,
   "id": "a1c6c532",
   "metadata": {},
   "outputs": [],
   "source": [
    "ms_kbs_df = pd.DataFrame.from_dict(ms_kbs).sort_values(by=['bin count'], ascending=False)\n",
    "ms_kbs_df"
   ]
  },
  {
   "cell_type": "markdown",
   "id": "ee63bbbd",
   "metadata": {},
   "source": [
    "### How many unique KBs do we have information for?"
   ]
  },
  {
   "cell_type": "code",
   "execution_count": null,
   "id": "08269c27",
   "metadata": {},
   "outputs": [],
   "source": [
    "\n",
    "wb_kbs_df.index.union(ms_kbs_df.index).shape[0]\n"
   ]
  },
  {
   "cell_type": "markdown",
   "id": "b63f9134",
   "metadata": {},
   "source": [
    "### Why does Winbindex report more updated files?"
   ]
  },
  {
   "cell_type": "code",
   "execution_count": null,
   "id": "746889a4",
   "metadata": {},
   "outputs": [],
   "source": [
    "#wb_updated = wb_kbs_df['updated'].explode().str.split('.')\n",
    "#wb_updated = wb_kbs_df[]\n",
    "# wb_updated_index = wb_updated.apply(lambda x: x[1]).value_counts().index\n",
    "# wb_updated_index\n",
    "#wb_updated\n",
    "file_ext_df = pd.DataFrame({'wb' : pd.Series(wb_kbs_df.loc['KB5012643']['updated']), 'mskb' : pd.Series(ms_kbs_df.loc['KB5012643']['updated'])})\n",
    "file_ext_df = file_ext_df.applymap(lambda x: str(x).split('.')[-1])\n",
    "file_ext_df"
   ]
  },
  {
   "cell_type": "code",
   "execution_count": null,
   "id": "d14ae9fc",
   "metadata": {},
   "outputs": [],
   "source": [
    "wb_ext = set(file_ext_df['wb'].str.lower().unique())\n",
    "wb_ext"
   ]
  },
  {
   "cell_type": "code",
   "execution_count": null,
   "id": "2e42bc99",
   "metadata": {},
   "outputs": [],
   "source": [
    "mskb_ext = set(file_ext_df['mskb'].str.lower().unique())\n",
    "mskb_ext"
   ]
  },
  {
   "cell_type": "code",
   "execution_count": null,
   "id": "187113ef",
   "metadata": {},
   "outputs": [],
   "source": [
    "wb_ext.difference(mskb_ext)"
   ]
  },
  {
   "cell_type": "code",
   "execution_count": null,
   "id": "207fe273",
   "metadata": {},
   "outputs": [],
   "source": [
    "mskb_ext.difference(wb_ext)"
   ]
  },
  {
   "cell_type": "markdown",
   "id": "07458d1a",
   "metadata": {},
   "source": [
    "Winbindex updated files data has quite a few more types! "
   ]
  },
  {
   "cell_type": "markdown",
   "id": "a65d401a",
   "metadata": {},
   "source": [
    "## MSRC CVEs with KB data\n",
    "\n",
    "Source - [MSRC CVEs](https://msrc.microsoft.com/update-guide/vulnerability)"
   ]
  },
  {
   "cell_type": "code",
   "execution_count": null,
   "id": "97d1ec03",
   "metadata": {},
   "outputs": [],
   "source": [
    "msrc_df = pd.DataFrame.from_dict(get_msrc_cvrf_pandas_df())\n",
    "msrc_df"
   ]
  },
  {
   "cell_type": "markdown",
   "id": "33f0cf04",
   "metadata": {},
   "source": [
    "### How many MSRC CVEs have KB data?"
   ]
  },
  {
   "cell_type": "code",
   "execution_count": null,
   "id": "69602930",
   "metadata": {},
   "outputs": [],
   "source": [
    "def has_ms_kb(kbs):\n",
    "\n",
    "    has_kb = False\n",
    "\n",
    "    for kb in kbs.split():\n",
    "        if kb in ms_kbs_df.index:\n",
    "            has_kb = True\n",
    "            break\n",
    "\n",
    "    return has_kb\n",
    "\n",
    "def has_wb_kb(kbs):\n",
    "\n",
    "    has_kb = False\n",
    "\n",
    "    for kb in kbs.split():\n",
    "        if kb in wb_kbs_df.index:\n",
    "            has_kb = True\n",
    "            break\n",
    "\n",
    "    return has_kb\n",
    "\n",
    "def has_kb(kbs):\n",
    "\n",
    "    has_kb = False\n",
    "\n",
    "    for kb in kbs.split():\n",
    "        if kb in wb_kbs_df.index or kb in ms_kbs_df.index:\n",
    "            has_kb = True\n",
    "\n",
    "    return has_kb\n",
    "\n",
    "def missing_all_kbs(kbs):\n",
    "    missing_all_kbs = False\n",
    "\n",
    "    # note\n",
    "    count = 0\n",
    "    for kb in kbs.split():\n",
    "        if kb in wb_kbs_df.index or kb in ms_kbs_df.index:\n",
    "            count += 1\n",
    "\n",
    "    if len(kbs) > 0 and count == 0:\n",
    "        missing_all_kbs = True\n",
    "\n",
    "    return missing_all_kbs\n",
    "\n",
    "msrc_df['has_kb'] = msrc_df['KBs'].apply(has_kb)\n",
    "msrc_df['has_ms_kb'] = msrc_df['KBs'].apply(has_ms_kb)\n",
    "msrc_df['has_wb_kb'] = msrc_df['KBs'].apply(has_wb_kb)\n",
    "msrc_df['missing_all_kbs'] = msrc_df['KBs'].apply(missing_all_kbs)\n",
    "msrc_df['no_kb_info'] = msrc_df['KBs'].apply(lambda x: len(x) == 0)\n",
    "msrc_df"
   ]
  },
  {
   "cell_type": "markdown",
   "id": "de24eb59",
   "metadata": {},
   "source": [
    "### How many MSRC CVEs have KB data by Year?"
   ]
  },
  {
   "cell_type": "code",
   "execution_count": null,
   "id": "f4852d66",
   "metadata": {
    "tags": [
     "full-width"
    ]
   },
   "outputs": [],
   "source": [
    "msrc_df['year'] = msrc_df['Initial Release'].apply(lambda x: x.split('-')[0])\n",
    "\n",
    "msrc_df.reset_index().groupby(by='year')['index','has_ms_kb','has_wb_kb','no_kb_info','missing_all_kbs'].sum().plot(kind='bar',figsize=(20,5), title='cvedata KB stats by Year')\n"
   ]
  },
  {
   "cell_type": "markdown",
   "id": "5f293f57",
   "metadata": {},
   "source": [
    "### How Many Per Month in 2022?"
   ]
  },
  {
   "cell_type": "code",
   "execution_count": null,
   "id": "563b4c22",
   "metadata": {
    "tags": [
     "full-width"
    ]
   },
   "outputs": [],
   "source": [
    "msrc_df['date'] = pd.to_datetime(msrc_df['Initial Release'])\n",
    "msrc_date_df = msrc_df.groupby(by='date')['has_ms_kb','has_wb_kb','no_kb_info','missing_all_kbs'].sum()\n",
    "msrc_date_df[msrc_date_df.index.year.isin([2022])].plot(kind='bar',figsize=(20,5), title='cvedata KB stats for 2022')\n"
   ]
  },
  {
   "cell_type": "markdown",
   "id": "192b11df",
   "metadata": {},
   "source": [
    "## KB Source Improvement"
   ]
  },
  {
   "cell_type": "markdown",
   "id": "ffb7df7e",
   "metadata": {},
   "source": [
    "### What type of CVEs are we missing KBs for? (CVEs with KBs listed, but we lack the KB source)"
   ]
  },
  {
   "cell_type": "code",
   "execution_count": null,
   "id": "c3c3da0d",
   "metadata": {},
   "outputs": [],
   "source": [
    "\n",
    "msrc_df[msrc_df['missing_all_kbs'] == True]['Title'].value_counts()[:50]"
   ]
  },
  {
   "cell_type": "code",
   "execution_count": null,
   "id": "565eb1f0",
   "metadata": {
    "tags": [
     "full-width"
    ]
   },
   "outputs": [],
   "source": [
    "msrc_df[msrc_df['missing_all_kbs'] == True]['Title'].value_counts()[:50].plot(kind='bar',figsize=(20,5), title='Types of CVEs missing related KBs sources')"
   ]
  },
  {
   "cell_type": "markdown",
   "id": "f99deaf5",
   "metadata": {},
   "source": [
    "### What type of CVEs lack KB information completely?"
   ]
  },
  {
   "cell_type": "code",
   "execution_count": null,
   "id": "2abe3c0c",
   "metadata": {},
   "outputs": [],
   "source": [
    "msrc_df[msrc_df['no_kb_info'] == True]['Tag'].value_counts()[:50]"
   ]
  },
  {
   "cell_type": "code",
   "execution_count": null,
   "id": "c01f3e4a",
   "metadata": {
    "tags": [
     "full-width"
    ]
   },
   "outputs": [],
   "source": [
    "msrc_df[msrc_df['no_kb_info'] == True]['Tag'].value_counts()[:50].plot(kind='bar',figsize=(20,5), title='Types of CVEs without KB data listed')"
   ]
  },
  {
   "cell_type": "code",
   "execution_count": null,
   "id": "73ec6528",
   "metadata": {},
   "outputs": [],
   "source": [
    "msrc_df[msrc_df['no_kb_info'] == True]['Tag'].value_counts()[1:50].plot(kind='bar',figsize=(20,5), title='Types of CVEs without KB data listed (ignoring Chrome)')"
   ]
  },
  {
   "cell_type": "markdown",
   "id": "1a55aba8",
   "metadata": {},
   "source": [
    "## Most often updated Binary"
   ]
  },
  {
   "cell_type": "markdown",
   "id": "94f867d8",
   "metadata": {},
   "source": [
    "### Create Dataframe from all sources"
   ]
  },
  {
   "cell_type": "code",
   "execution_count": null,
   "id": "6b1d277d",
   "metadata": {},
   "outputs": [],
   "source": [
    "import itertools\n",
    "all_kbs_df = pd.concat([wb_kbs_df,ms_kbs_df]).sort_index()\n",
    "all_kbs_df.index.name = 'kb'\n",
    "all_kbs_df = all_kbs_df.groupby('kb').aggregate(list)\n",
    "all_kbs_df['updated'] = all_kbs_df['updated'].apply(lambda x: list(set(itertools.chain.from_iterable(x))))\n",
    "all_kbs_df['bin count'] = all_kbs_df['updated'].apply(len)\n",
    "all_kbs_df"
   ]
  },
  {
   "cell_type": "code",
   "execution_count": null,
   "id": "4a3fdc88",
   "metadata": {},
   "outputs": [],
   "source": [
    "freq_bins = all_kbs_df['updated'].explode().value_counts()\n",
    "freq_bins.head(50)"
   ]
  },
  {
   "cell_type": "code",
   "execution_count": null,
   "id": "140924e0",
   "metadata": {
    "tags": [
     "full-width"
    ]
   },
   "outputs": [],
   "source": [
    "freq_bins[:100].plot(kind='bar',figsize=(20,5),title='Most Often Updated Binary')"
   ]
  },
  {
   "cell_type": "markdown",
   "id": "82ff69ff",
   "metadata": {},
   "source": [
    "### Graph number of updated files per KB "
   ]
  },
  {
   "cell_type": "code",
   "execution_count": null,
   "id": "8fe64ea1",
   "metadata": {},
   "outputs": [],
   "source": [
    "all_kbs_df['bin count'].sort_values(ascending=False)[:50].plot(kind='bar',figsize=(20,5))"
   ]
  },
  {
   "cell_type": "markdown",
   "id": "37cf1637",
   "metadata": {},
   "source": [
    "### Average number per KB"
   ]
  },
  {
   "cell_type": "code",
   "execution_count": null,
   "id": "42cececc",
   "metadata": {},
   "outputs": [],
   "source": [
    "\n",
    "all_kbs_df['bin count'].sort_values(ascending=False).mean()"
   ]
  }
 ],
 "metadata": {
  "kernelspec": {
   "display_name": "Python 3.9.6 ('.env': venv)",
   "language": "python",
   "name": "python3"
  },
  "language_info": {
   "codemirror_mode": {
    "name": "ipython",
    "version": 3
   },
   "file_extension": ".py",
   "mimetype": "text/x-python",
   "name": "python",
   "nbconvert_exporter": "python",
   "pygments_lexer": "ipython3",
   "version": "3.9.6"
  },
  "vscode": {
   "interpreter": {
    "hash": "5dd911ca2c3a77dfe15faaa9f2e11b5bd0ab12bd83e3b7578eb2712f103edba3"
   }
  }
 },
 "nbformat": 4,
 "nbformat_minor": 5
}
