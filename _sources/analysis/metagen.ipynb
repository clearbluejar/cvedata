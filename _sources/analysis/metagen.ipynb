{
 "cells": [
  {
   "cell_type": "markdown",
   "metadata": {},
   "source": [
    "# Data Generation Time"
   ]
  },
  {
   "cell_type": "code",
   "execution_count": null,
   "metadata": {
    "tags": [
     "hide-input"
    ]
   },
   "outputs": [],
   "source": [
    "from cvedata.metadata import get_metadata_json\n",
    "import pandas as pd\n",
    "import json"
   ]
  },
  {
   "cell_type": "code",
   "execution_count": null,
   "metadata": {},
   "outputs": [],
   "source": [
    "metadata = get_metadata_json()\n",
    "meta_df = pd.read_json(json.dumps(metadata)).swapaxes('columns','index')\n",
    "meta_df.drop('last_modified',inplace=True)\n",
    "meta_df = meta_df[['size', 'last_modified', 'count', 'gen_time', 'sources']]\n",
    "meta_df.head()\n"
   ]
  },
  {
   "cell_type": "markdown",
   "metadata": {},
   "source": [
    "## Generation time for data"
   ]
  },
  {
   "cell_type": "code",
   "execution_count": null,
   "metadata": {
    "tags": [
     "full-width"
    ]
   },
   "outputs": [],
   "source": [
    "meta_df['gen_time'].plot.bar(figsize=(20,5),title='Generation time for data')"
   ]
  }
 ],
 "metadata": {
  "kernelspec": {
   "display_name": "Python 3.8.10 ('.env': venv)",
   "language": "python",
   "name": "python3"
  },
  "language_info": {
   "codemirror_mode": {
    "name": "ipython",
    "version": 3
   },
   "file_extension": ".py",
   "mimetype": "text/x-python",
   "name": "python",
   "nbconvert_exporter": "python",
   "pygments_lexer": "ipython3",
   "version": "3.8.10"
  },
  "orig_nbformat": 4,
  "vscode": {
   "interpreter": {
    "hash": "4f69ed7843b0ea893c9d89f5f979ee399fdfe7651430c7bb7d8442c4ca5d90f2"
   }
  }
 },
 "nbformat": 4,
 "nbformat_minor": 2
}
