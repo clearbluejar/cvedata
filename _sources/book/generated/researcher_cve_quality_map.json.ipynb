{
 "cells": [
  {
   "cell_type": "markdown",
   "id": "6a8659ed",
   "metadata": {},
   "source": [
    "# researcher_cve_quality_map.json"
   ]
  },
  {
   "cell_type": "markdown",
   "id": "d2b24600",
   "metadata": {},
   "source": [
    "|               | researcher_cve_quality_map.json                                              |\n",
    "|:--------------|:-----------------------------------------------------------------------------|\n",
    "| size          | 118836                                                                       |\n",
    "| last_modified | 2022-11-19T12:22:29.531064                                                   |\n",
    "| count         | 3                                                                            |\n",
    "| gen_time      | 54.219589710235596                                                           |\n",
    "| key_index     |                                                                              |\n",
    "| key_data      |                                                                              |\n",
    "| swap_axes     | False                                                                        |\n",
    "| normalize     | False                                                                        |\n",
    "| skip_book     | False                                                                        |\n",
    "| sources       | ['https://chromereleases.googleblog.com', 'https://api.msrc.microsoft.com/'] |"
   ]
  },
  {
   "cell_type": "code",
   "execution_count": null,
   "id": "7f0e6674",
   "metadata": {
    "tags": [
     "hide-input"
    ]
   },
   "outputs": [],
   "source": [
    "\n",
    "from itables import init_notebook_mode\n",
    "import itables.options as opt\n",
    "opt.lengthMenu = [60, 100, 300]\n",
    "opt.maxBytes = 0\n",
    "init_notebook_mode(all_interactive=True)    \n",
    "    "
   ]
  },
  {
   "cell_type": "code",
   "execution_count": null,
   "id": "97a11f1d",
   "metadata": {},
   "outputs": [],
   "source": [
    "\n",
    "import pathlib\n",
    "import pandas\n",
    "import json\n",
    "data = pathlib.Path(\"/home/runner/work/cvedata/cvedata/cvedata/data\", 'researcher_cve_quality_map.json')\n"
   ]
  },
  {
   "cell_type": "code",
   "execution_count": null,
   "id": "9dac8c4b",
   "metadata": {},
   "outputs": [],
   "source": [
    "json_data = json.loads(data.read_text())\n",
    "df = pandas.read_json(json.dumps(json_data))"
   ]
  },
  {
   "cell_type": "code",
   "execution_count": null,
   "id": "3a1dc53d",
   "metadata": {
    "tags": [
     "full-width"
    ]
   },
   "outputs": [],
   "source": [
    "df"
   ]
  }
 ],
 "metadata": {},
 "nbformat": 4,
 "nbformat_minor": 5
}
