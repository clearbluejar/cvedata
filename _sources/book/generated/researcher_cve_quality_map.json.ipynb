{
 "cells": [
  {
   "cell_type": "markdown",
   "id": "c4ead99c",
   "metadata": {},
   "source": [
    "# researcher_cve_quality_map.json"
   ]
  },
  {
   "cell_type": "markdown",
   "id": "2b2bd332",
   "metadata": {},
   "source": [
    "|               | researcher_cve_quality_map.json                                              |\n",
    "|:--------------|:-----------------------------------------------------------------------------|\n",
    "| size          | 116247                                                                       |\n",
    "| last_modified | 2022-11-11T01:43:39.448560                                                   |\n",
    "| count         | 3                                                                            |\n",
    "| gen_time      | 74.11398792266846                                                            |\n",
    "| sources       | ['https://chromereleases.googleblog.com', 'https://api.msrc.microsoft.com/'] |"
   ]
  },
  {
   "cell_type": "code",
   "execution_count": null,
   "id": "05a0b6fd",
   "metadata": {
    "tags": [
     "hide-input"
    ]
   },
   "outputs": [],
   "source": [
    "\n",
    "from itables import init_notebook_mode\n",
    "import itables.options as opt\n",
    "opt.lengthMenu = [60, 100, 300]\n",
    "opt.maxBytes = 0\n",
    "init_notebook_mode(all_interactive=True)    \n",
    "    "
   ]
  },
  {
   "cell_type": "code",
   "execution_count": null,
   "id": "2fb27e23",
   "metadata": {},
   "outputs": [],
   "source": [
    "\n",
    "import pathlib\n",
    "import pandas\n",
    "import json\n",
    "data = pathlib.Path(\"/home/runner/work/cvedata/cvedata/cvedata/data\", 'researcher_cve_quality_map.json')\n"
   ]
  },
  {
   "cell_type": "code",
   "execution_count": null,
   "id": "4b80a4cd",
   "metadata": {},
   "outputs": [],
   "source": [
    "json_data = json.loads(data.read_text())\n",
    "df = pandas.read_json(json.dumps(json_data))"
   ]
  },
  {
   "cell_type": "code",
   "execution_count": null,
   "id": "44588231",
   "metadata": {
    "tags": [
     "full-width"
    ]
   },
   "outputs": [],
   "source": [
    "df"
   ]
  }
 ],
 "metadata": {},
 "nbformat": 4,
 "nbformat_minor": 5
}
