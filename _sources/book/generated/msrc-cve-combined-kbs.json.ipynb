{
 "cells": [
  {
   "cell_type": "markdown",
   "id": "1511f3b0",
   "metadata": {},
   "source": [
    "# msrc-cve-combined-kbs.json"
   ]
  },
  {
   "cell_type": "markdown",
   "id": "4bb3ad5c",
   "metadata": {},
   "source": [
    "|               | msrc-cve-combined-kbs.json   |\n",
    "|:--------------|:-----------------------------|\n",
    "| size          | 5903739                      |\n",
    "| last_modified | 2022-11-29T21:45:31.410971   |\n",
    "| count         | 6                            |\n",
    "| gen_time      | 0.378400802612304            |\n",
    "| key_index     |                              |\n",
    "| key_data      |                              |\n",
    "| swap_axes     | False                        |\n",
    "| normalize     | False                        |\n",
    "| skip_book     | False                        |\n",
    "| sources       |                              |"
   ]
  },
  {
   "cell_type": "code",
   "execution_count": null,
   "id": "0ed28bf3",
   "metadata": {
    "tags": [
     "hide-input"
    ]
   },
   "outputs": [],
   "source": [
    "\n",
    "from itables import init_notebook_mode\n",
    "import itables.options as opt\n",
    "opt.lengthMenu = [60, 100, 300]\n",
    "opt.maxBytes = 0\n",
    "init_notebook_mode(all_interactive=True)    \n",
    "    "
   ]
  },
  {
   "cell_type": "code",
   "execution_count": null,
   "id": "e4a48e74",
   "metadata": {},
   "outputs": [],
   "source": [
    "\n",
    "import pathlib\n",
    "import pandas\n",
    "import json\n",
    "data = pathlib.Path(\"/home/runner/work/cvedata/cvedata/cvedata/data\", 'msrc-cve-combined-kbs.json')\n"
   ]
  },
  {
   "cell_type": "code",
   "execution_count": null,
   "id": "9d4139bf",
   "metadata": {},
   "outputs": [],
   "source": [
    "json_data = json.loads(data.read_text())\n",
    "df = pandas.read_json(json.dumps(json_data))"
   ]
  },
  {
   "cell_type": "code",
   "execution_count": null,
   "id": "d551bbea",
   "metadata": {
    "tags": [
     "full-width"
    ]
   },
   "outputs": [],
   "source": [
    "df"
   ]
  }
 ],
 "metadata": {},
 "nbformat": 4,
 "nbformat_minor": 5
}
