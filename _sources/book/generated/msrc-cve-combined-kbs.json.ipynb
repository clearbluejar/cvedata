{
 "cells": [
  {
   "cell_type": "markdown",
   "id": "cb93b697",
   "metadata": {},
   "source": [
    "# msrc-cve-combined-kbs.json"
   ]
  },
  {
   "cell_type": "markdown",
   "id": "a2ed1961",
   "metadata": {},
   "source": [
    "|               | msrc-cve-combined-kbs.json   |\n",
    "|:--------------|:-----------------------------|\n",
    "| size          | 6632760                      |\n",
    "| last_modified | 2022-11-22T06:37:43.366064   |\n",
    "| count         | 6                            |\n",
    "| gen_time      | 0.289937734603881            |\n",
    "| key_index     |                              |\n",
    "| key_data      |                              |\n",
    "| swap_axes     | False                        |\n",
    "| normalize     | False                        |\n",
    "| skip_book     | False                        |\n",
    "| sources       |                              |"
   ]
  },
  {
   "cell_type": "code",
   "execution_count": null,
   "id": "28b1cf79",
   "metadata": {
    "tags": [
     "hide-input"
    ]
   },
   "outputs": [],
   "source": [
    "\n",
    "from itables import init_notebook_mode\n",
    "import itables.options as opt\n",
    "opt.lengthMenu = [60, 100, 300]\n",
    "opt.maxBytes = 0\n",
    "init_notebook_mode(all_interactive=True)    \n",
    "    "
   ]
  },
  {
   "cell_type": "code",
   "execution_count": null,
   "id": "12825a53",
   "metadata": {},
   "outputs": [],
   "source": [
    "\n",
    "import pathlib\n",
    "import pandas\n",
    "import json\n",
    "data = pathlib.Path(\"/home/runner/work/cvedata/cvedata/cvedata/data\", 'msrc-cve-combined-kbs.json')\n"
   ]
  },
  {
   "cell_type": "code",
   "execution_count": null,
   "id": "cacd2373",
   "metadata": {},
   "outputs": [],
   "source": [
    "json_data = json.loads(data.read_text())\n",
    "df = pandas.read_json(json.dumps(json_data))"
   ]
  },
  {
   "cell_type": "code",
   "execution_count": null,
   "id": "6f933b15",
   "metadata": {
    "tags": [
     "full-width"
    ]
   },
   "outputs": [],
   "source": [
    "df"
   ]
  }
 ],
 "metadata": {},
 "nbformat": 4,
 "nbformat_minor": 5
}
