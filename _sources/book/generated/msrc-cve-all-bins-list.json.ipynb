{
 "cells": [
  {
   "cell_type": "markdown",
   "id": "b453c950",
   "metadata": {},
   "source": [
    "# msrc-cve-all-bins-list.json"
   ]
  },
  {
   "cell_type": "markdown",
   "id": "cc5104f1",
   "metadata": {},
   "source": [
    "|               | msrc-cve-all-bins-list.json                                                                               |\n",
    "|:--------------|:----------------------------------------------------------------------------------------------------------|\n",
    "| size          | 591378                                                                                                    |\n",
    "| last_modified | 2022-11-22T06:34:05.371104                                                                                |\n",
    "| count         | 22050                                                                                                     |\n",
    "| gen_time      | 96.89868402481079                                                                                         |\n",
    "| key_index     |                                                                                                           |\n",
    "| key_data      |                                                                                                           |\n",
    "| swap_axes     | False                                                                                                     |\n",
    "| normalize     | True                                                                                                      |\n",
    "| skip_book     | False                                                                                                     |\n",
    "| sources       | ['https://github.com/m417z/winbindex/archive/refs/heads/gh-pages.zip', 'https://api.msrc.microsoft.com/'] |"
   ]
  },
  {
   "cell_type": "code",
   "execution_count": null,
   "id": "f4a8fd2d",
   "metadata": {
    "tags": [
     "hide-input"
    ]
   },
   "outputs": [],
   "source": [
    "\n",
    "from itables import init_notebook_mode\n",
    "import itables.options as opt\n",
    "opt.lengthMenu = [60, 100, 300]\n",
    "opt.maxBytes = 0\n",
    "init_notebook_mode(all_interactive=True)    \n",
    "    "
   ]
  },
  {
   "cell_type": "code",
   "execution_count": null,
   "id": "81aae3d0",
   "metadata": {},
   "outputs": [],
   "source": [
    "\n",
    "import pathlib\n",
    "import pandas\n",
    "import json\n",
    "data = pathlib.Path(\"/home/runner/work/cvedata/cvedata/cvedata/data\", 'msrc-cve-all-bins-list.json')\n"
   ]
  },
  {
   "cell_type": "code",
   "execution_count": null,
   "id": "1410fae6",
   "metadata": {},
   "outputs": [],
   "source": [
    "json_data = json.loads(data.read_text())\n",
    "df = pandas.json_normalize(json_data)"
   ]
  },
  {
   "cell_type": "code",
   "execution_count": null,
   "id": "7e9e47dd",
   "metadata": {
    "tags": [
     "full-width"
    ]
   },
   "outputs": [],
   "source": [
    "df"
   ]
  }
 ],
 "metadata": {},
 "nbformat": 4,
 "nbformat_minor": 5
}
