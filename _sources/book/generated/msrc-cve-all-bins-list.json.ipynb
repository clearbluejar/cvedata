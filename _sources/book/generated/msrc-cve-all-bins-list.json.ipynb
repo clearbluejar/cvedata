{
 "cells": [
  {
   "cell_type": "markdown",
   "id": "df75c557",
   "metadata": {},
   "source": [
    "# msrc-cve-all-bins-list.json"
   ]
  },
  {
   "cell_type": "markdown",
   "id": "016f285a",
   "metadata": {},
   "source": [
    "|               | msrc-cve-all-bins-list.json                                                                               |\n",
    "|:--------------|:----------------------------------------------------------------------------------------------------------|\n",
    "| size          | 514478                                                                                                    |\n",
    "| last_modified | 2022-12-14T04:11:26.918000                                                                                |\n",
    "| count         | 18951                                                                                                     |\n",
    "| gen_time      | 100.99553442001343                                                                                        |\n",
    "| key_index     |                                                                                                           |\n",
    "| key_data      |                                                                                                           |\n",
    "| swap_axes     | False                                                                                                     |\n",
    "| normalize     | True                                                                                                      |\n",
    "| skip_book     | False                                                                                                     |\n",
    "| sources       | ['https://github.com/m417z/winbindex/archive/refs/heads/gh-pages.zip', 'https://api.msrc.microsoft.com/'] |"
   ]
  },
  {
   "cell_type": "code",
   "execution_count": null,
   "id": "e5d274c9",
   "metadata": {
    "tags": [
     "hide-input"
    ]
   },
   "outputs": [],
   "source": [
    "\n",
    "from itables import init_notebook_mode\n",
    "import itables.options as opt\n",
    "opt.lengthMenu = [60, 100, 300]\n",
    "opt.maxBytes = 0\n",
    "init_notebook_mode(all_interactive=True)    \n",
    "    "
   ]
  },
  {
   "cell_type": "code",
   "execution_count": null,
   "id": "50b22044",
   "metadata": {},
   "outputs": [],
   "source": [
    "\n",
    "import pathlib\n",
    "import pandas\n",
    "import json\n",
    "data = pathlib.Path(\"/home/runner/work/cvedata/cvedata/cvedata/data\", 'msrc-cve-all-bins-list.json')\n"
   ]
  },
  {
   "cell_type": "code",
   "execution_count": null,
   "id": "0baf09e0",
   "metadata": {},
   "outputs": [],
   "source": [
    "json_data = json.loads(data.read_text())\n",
    "df = pandas.json_normalize(json_data)"
   ]
  },
  {
   "cell_type": "code",
   "execution_count": null,
   "id": "e32c6295",
   "metadata": {
    "tags": [
     "full-width"
    ]
   },
   "outputs": [],
   "source": [
    "df"
   ]
  }
 ],
 "metadata": {},
 "nbformat": 4,
 "nbformat_minor": 5
}
