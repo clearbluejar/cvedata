{
 "cells": [
  {
   "cell_type": "markdown",
   "id": "3569b72e",
   "metadata": {},
   "source": [
    "# msrc-cve-all-bins-list.json"
   ]
  },
  {
   "cell_type": "markdown",
   "id": "fe2df15e",
   "metadata": {},
   "source": [
    "|               | msrc-cve-all-bins-list.json                                                                               |\n",
    "|:--------------|:----------------------------------------------------------------------------------------------------------|\n",
    "| size          | 514558                                                                                                    |\n",
    "| last_modified | 2022-12-05T16:41:24.253828                                                                                |\n",
    "| count         | 18952                                                                                                     |\n",
    "| gen_time      | 82.06611895561218                                                                                         |\n",
    "| key_index     |                                                                                                           |\n",
    "| key_data      |                                                                                                           |\n",
    "| swap_axes     | False                                                                                                     |\n",
    "| normalize     | True                                                                                                      |\n",
    "| skip_book     | False                                                                                                     |\n",
    "| sources       | ['https://github.com/m417z/winbindex/archive/refs/heads/gh-pages.zip', 'https://api.msrc.microsoft.com/'] |"
   ]
  },
  {
   "cell_type": "code",
   "execution_count": null,
   "id": "2ee10ade",
   "metadata": {
    "tags": [
     "hide-input"
    ]
   },
   "outputs": [],
   "source": [
    "\n",
    "from itables import init_notebook_mode\n",
    "import itables.options as opt\n",
    "opt.lengthMenu = [60, 100, 300]\n",
    "opt.maxBytes = 0\n",
    "init_notebook_mode(all_interactive=True)    \n",
    "    "
   ]
  },
  {
   "cell_type": "code",
   "execution_count": null,
   "id": "dfbfb6a6",
   "metadata": {},
   "outputs": [],
   "source": [
    "\n",
    "import pathlib\n",
    "import pandas\n",
    "import json\n",
    "data = pathlib.Path(\"/home/runner/work/cvedata/cvedata/cvedata/data\", 'msrc-cve-all-bins-list.json')\n"
   ]
  },
  {
   "cell_type": "code",
   "execution_count": null,
   "id": "8d0059a5",
   "metadata": {},
   "outputs": [],
   "source": [
    "json_data = json.loads(data.read_text())\n",
    "df = pandas.json_normalize(json_data)"
   ]
  },
  {
   "cell_type": "code",
   "execution_count": null,
   "id": "d6e85825",
   "metadata": {
    "tags": [
     "full-width"
    ]
   },
   "outputs": [],
   "source": [
    "df"
   ]
  }
 ],
 "metadata": {},
 "nbformat": 4,
 "nbformat_minor": 5
}
