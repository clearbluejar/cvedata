{
 "cells": [
  {
   "cell_type": "markdown",
   "id": "554420ca",
   "metadata": {},
   "source": [
    "# msrc-cve-all-bins-list.json"
   ]
  },
  {
   "cell_type": "markdown",
   "id": "a42cab8b",
   "metadata": {},
   "source": [
    "|               | msrc-cve-all-bins-list.json                                                                               |\n",
    "|:--------------|:----------------------------------------------------------------------------------------------------------|\n",
    "| size          | 591378                                                                                                    |\n",
    "| last_modified | 2022-11-22T06:34:05.371104                                                                                |\n",
    "| count         | 22050                                                                                                     |\n",
    "| gen_time      | 96.89868402481079                                                                                         |\n",
    "| key_index     |                                                                                                           |\n",
    "| key_data      |                                                                                                           |\n",
    "| swap_axes     | False                                                                                                     |\n",
    "| normalize     | True                                                                                                      |\n",
    "| skip_book     | False                                                                                                     |\n",
    "| sources       | ['https://github.com/m417z/winbindex/archive/refs/heads/gh-pages.zip', 'https://api.msrc.microsoft.com/'] |"
   ]
  },
  {
   "cell_type": "code",
   "execution_count": null,
   "id": "b02247b6",
   "metadata": {
    "tags": [
     "hide-input"
    ]
   },
   "outputs": [],
   "source": [
    "\n",
    "from itables import init_notebook_mode\n",
    "import itables.options as opt\n",
    "opt.lengthMenu = [60, 100, 300]\n",
    "opt.maxBytes = 0\n",
    "init_notebook_mode(all_interactive=True)    \n",
    "    "
   ]
  },
  {
   "cell_type": "code",
   "execution_count": null,
   "id": "b19b3378",
   "metadata": {},
   "outputs": [],
   "source": [
    "\n",
    "import pathlib\n",
    "import pandas\n",
    "import json\n",
    "data = pathlib.Path(\"/home/runner/work/cvedata/cvedata/cvedata/data\", 'msrc-cve-all-bins-list.json')\n"
   ]
  },
  {
   "cell_type": "code",
   "execution_count": null,
   "id": "4863cba3",
   "metadata": {},
   "outputs": [],
   "source": [
    "json_data = json.loads(data.read_text())\n",
    "df = pandas.json_normalize(json_data)"
   ]
  },
  {
   "cell_type": "code",
   "execution_count": null,
   "id": "50f567f6",
   "metadata": {
    "tags": [
     "full-width"
    ]
   },
   "outputs": [],
   "source": [
    "df"
   ]
  }
 ],
 "metadata": {},
 "nbformat": 4,
 "nbformat_minor": 5
}
