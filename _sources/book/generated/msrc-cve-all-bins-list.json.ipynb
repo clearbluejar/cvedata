{
 "cells": [
  {
   "cell_type": "markdown",
   "id": "dd8cc659",
   "metadata": {},
   "source": [
    "# msrc-cve-all-bins-list.json"
   ]
  },
  {
   "cell_type": "markdown",
   "id": "e5b73ff4",
   "metadata": {},
   "source": [
    "|               | msrc-cve-all-bins-list.json                                                                               |\n",
    "|:--------------|:----------------------------------------------------------------------------------------------------------|\n",
    "| size          | 515308                                                                                                    |\n",
    "| last_modified | 2022-11-29T21:42:08.827387                                                                                |\n",
    "| count         | 18963                                                                                                     |\n",
    "| gen_time      | 81.68659734725952                                                                                         |\n",
    "| key_index     |                                                                                                           |\n",
    "| key_data      |                                                                                                           |\n",
    "| swap_axes     | False                                                                                                     |\n",
    "| normalize     | True                                                                                                      |\n",
    "| skip_book     | False                                                                                                     |\n",
    "| sources       | ['https://github.com/m417z/winbindex/archive/refs/heads/gh-pages.zip', 'https://api.msrc.microsoft.com/'] |"
   ]
  },
  {
   "cell_type": "code",
   "execution_count": null,
   "id": "488f0743",
   "metadata": {
    "tags": [
     "hide-input"
    ]
   },
   "outputs": [],
   "source": [
    "\n",
    "from itables import init_notebook_mode\n",
    "import itables.options as opt\n",
    "opt.lengthMenu = [60, 100, 300]\n",
    "opt.maxBytes = 0\n",
    "init_notebook_mode(all_interactive=True)    \n",
    "    "
   ]
  },
  {
   "cell_type": "code",
   "execution_count": null,
   "id": "c6428045",
   "metadata": {},
   "outputs": [],
   "source": [
    "\n",
    "import pathlib\n",
    "import pandas\n",
    "import json\n",
    "data = pathlib.Path(\"/home/runner/work/cvedata/cvedata/cvedata/data\", 'msrc-cve-all-bins-list.json')\n"
   ]
  },
  {
   "cell_type": "code",
   "execution_count": null,
   "id": "a4001ea7",
   "metadata": {},
   "outputs": [],
   "source": [
    "json_data = json.loads(data.read_text())\n",
    "df = pandas.json_normalize(json_data)"
   ]
  },
  {
   "cell_type": "code",
   "execution_count": null,
   "id": "0d59f41d",
   "metadata": {
    "tags": [
     "full-width"
    ]
   },
   "outputs": [],
   "source": [
    "df"
   ]
  }
 ],
 "metadata": {},
 "nbformat": 4,
 "nbformat_minor": 5
}
