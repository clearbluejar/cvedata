{
 "cells": [
  {
   "cell_type": "markdown",
   "id": "359bf87d",
   "metadata": {},
   "source": [
    "# msrc-pandas-cvrf-merged-full.json.gz"
   ]
  },
  {
   "cell_type": "markdown",
   "id": "ed8de1e9",
   "metadata": {},
   "source": [
    "|               | msrc-pandas-cvrf-merged-full.json.gz   |\n",
    "|:--------------|:---------------------------------------|\n",
    "| size          | 3571201                                |\n",
    "| last_modified | 2022-12-14T04:07:44.386830             |\n",
    "| count         | 9                                      |\n",
    "| gen_time      | 7.7640509605407715                     |\n",
    "| key_index     |                                        |\n",
    "| key_data      |                                        |\n",
    "| swap_axes     | False                                  |\n",
    "| normalize     | False                                  |\n",
    "| skip_book     | False                                  |\n",
    "| sources       | ['https://api.msrc.microsoft.com/']    |"
   ]
  },
  {
   "cell_type": "code",
   "execution_count": null,
   "id": "e5cb6bbe",
   "metadata": {
    "tags": [
     "hide-input"
    ]
   },
   "outputs": [],
   "source": [
    "\n",
    "from itables import init_notebook_mode\n",
    "import itables.options as opt\n",
    "opt.lengthMenu = [60, 100, 300]\n",
    "opt.maxBytes = 0\n",
    "init_notebook_mode(all_interactive=True)    \n",
    "    "
   ]
  },
  {
   "cell_type": "code",
   "execution_count": null,
   "id": "ff4da906",
   "metadata": {},
   "outputs": [],
   "source": [
    "\n",
    "import pathlib\n",
    "import pandas\n",
    "import json\n",
    "data = pathlib.Path(\"/home/runner/work/cvedata/cvedata/cvedata/data\", 'msrc-pandas-cvrf-merged-full.json.gz')\n"
   ]
  },
  {
   "cell_type": "code",
   "execution_count": null,
   "id": "455cb24a",
   "metadata": {},
   "outputs": [],
   "source": [
    "import gzip\n",
    "with gzip.open(data) as f:\n",
    "    json_data = json.load(f)\n",
    "df = pandas.read_json(json.dumps(json_data))"
   ]
  },
  {
   "cell_type": "code",
   "execution_count": null,
   "id": "34fcc8ae",
   "metadata": {
    "tags": [
     "full-width"
    ]
   },
   "outputs": [],
   "source": [
    "df"
   ]
  }
 ],
 "metadata": {},
 "nbformat": 4,
 "nbformat_minor": 5
}
