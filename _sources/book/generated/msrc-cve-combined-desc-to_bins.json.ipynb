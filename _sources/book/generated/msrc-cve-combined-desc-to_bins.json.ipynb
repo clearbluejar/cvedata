{
 "cells": [
  {
   "cell_type": "markdown",
   "id": "4596f26b",
   "metadata": {},
   "source": [
    "# msrc-cve-combined-desc-to_bins.json"
   ]
  },
  {
   "cell_type": "markdown",
   "id": "23972328",
   "metadata": {},
   "source": [
    "|               | msrc-cve-combined-desc-to_bins.json                                                                       |\n",
    "|:--------------|:----------------------------------------------------------------------------------------------------------|\n",
    "| size          | 1070422                                                                                                   |\n",
    "| last_modified | 2022-12-05T16:41:24.289829                                                                                |\n",
    "| count         | 13919                                                                                                     |\n",
    "| gen_time      | 0.06680965423583901                                                                                       |\n",
    "| key_index     |                                                                                                           |\n",
    "| key_data      |                                                                                                           |\n",
    "| swap_axes     | True                                                                                                      |\n",
    "| normalize     | True                                                                                                      |\n",
    "| skip_book     | False                                                                                                     |\n",
    "| sources       | ['https://github.com/m417z/winbindex/archive/refs/heads/gh-pages.zip', 'https://api.msrc.microsoft.com/'] |"
   ]
  },
  {
   "cell_type": "code",
   "execution_count": null,
   "id": "841fa23b",
   "metadata": {
    "tags": [
     "hide-input"
    ]
   },
   "outputs": [],
   "source": [
    "\n",
    "from itables import init_notebook_mode\n",
    "import itables.options as opt\n",
    "opt.lengthMenu = [60, 100, 300]\n",
    "opt.maxBytes = 0\n",
    "init_notebook_mode(all_interactive=True)    \n",
    "    "
   ]
  },
  {
   "cell_type": "code",
   "execution_count": null,
   "id": "a2df9272",
   "metadata": {},
   "outputs": [],
   "source": [
    "\n",
    "import pathlib\n",
    "import pandas\n",
    "import json\n",
    "data = pathlib.Path(\"/home/runner/work/cvedata/cvedata/cvedata/data\", 'msrc-cve-combined-desc-to_bins.json')\n"
   ]
  },
  {
   "cell_type": "code",
   "execution_count": null,
   "id": "d9f7e24a",
   "metadata": {},
   "outputs": [],
   "source": [
    "json_data = json.loads(data.read_text())\n",
    "df = pandas.json_normalize(json_data)\n",
    "df = df.swapaxes('columns','index')"
   ]
  },
  {
   "cell_type": "code",
   "execution_count": null,
   "id": "fd8597b1",
   "metadata": {
    "tags": [
     "full-width"
    ]
   },
   "outputs": [],
   "source": [
    "df"
   ]
  }
 ],
 "metadata": {},
 "nbformat": 4,
 "nbformat_minor": 5
}
