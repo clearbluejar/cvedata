{
 "cells": [
  {
   "cell_type": "markdown",
   "id": "6cdb119a",
   "metadata": {},
   "source": [
    "# msrc-cve-combined-desc-to_bins.json"
   ]
  },
  {
   "cell_type": "markdown",
   "id": "9986e6a1",
   "metadata": {},
   "source": [
    "|               | msrc-cve-combined-desc-to_bins.json                                                                       |\n",
    "|:--------------|:----------------------------------------------------------------------------------------------------------|\n",
    "| size          | 1069152                                                                                                   |\n",
    "| last_modified | 2022-12-14T04:11:27.526009                                                                                |\n",
    "| count         | 13901                                                                                                     |\n",
    "| gen_time      | 0.648483514785766                                                                                         |\n",
    "| key_index     |                                                                                                           |\n",
    "| key_data      |                                                                                                           |\n",
    "| swap_axes     | True                                                                                                      |\n",
    "| normalize     | True                                                                                                      |\n",
    "| skip_book     | False                                                                                                     |\n",
    "| sources       | ['https://github.com/m417z/winbindex/archive/refs/heads/gh-pages.zip', 'https://api.msrc.microsoft.com/'] |"
   ]
  },
  {
   "cell_type": "code",
   "execution_count": null,
   "id": "a455f1d6",
   "metadata": {
    "tags": [
     "hide-input"
    ]
   },
   "outputs": [],
   "source": [
    "\n",
    "from itables import init_notebook_mode\n",
    "import itables.options as opt\n",
    "opt.lengthMenu = [60, 100, 300]\n",
    "opt.maxBytes = 0\n",
    "init_notebook_mode(all_interactive=True)    \n",
    "    "
   ]
  },
  {
   "cell_type": "code",
   "execution_count": null,
   "id": "6bb30728",
   "metadata": {},
   "outputs": [],
   "source": [
    "\n",
    "import pathlib\n",
    "import pandas\n",
    "import json\n",
    "data = pathlib.Path(\"/home/runner/work/cvedata/cvedata/cvedata/data\", 'msrc-cve-combined-desc-to_bins.json')\n"
   ]
  },
  {
   "cell_type": "code",
   "execution_count": null,
   "id": "86d30e94",
   "metadata": {},
   "outputs": [],
   "source": [
    "json_data = json.loads(data.read_text())\n",
    "df = pandas.json_normalize(json_data)\n",
    "df = df.swapaxes('columns','index')"
   ]
  },
  {
   "cell_type": "code",
   "execution_count": null,
   "id": "1332abad",
   "metadata": {
    "tags": [
     "full-width"
    ]
   },
   "outputs": [],
   "source": [
    "df"
   ]
  }
 ],
 "metadata": {},
 "nbformat": 4,
 "nbformat_minor": 5
}
