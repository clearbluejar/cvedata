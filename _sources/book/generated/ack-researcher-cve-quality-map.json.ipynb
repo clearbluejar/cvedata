{
 "cells": [
  {
   "cell_type": "markdown",
   "id": "bf398cdd",
   "metadata": {},
   "source": [
    "# ack-researcher-cve-quality-map.json"
   ]
  },
  {
   "cell_type": "markdown",
   "id": "d9c25f54",
   "metadata": {},
   "source": [
    "|               | ack-researcher-cve-quality-map.json                                          |\n",
    "|:--------------|:-----------------------------------------------------------------------------|\n",
    "| size          | 118770                                                                       |\n",
    "| last_modified | 2022-12-14T04:17:23.069820                                                   |\n",
    "| count         | 3                                                                            |\n",
    "| gen_time      | 0.193650484085083                                                            |\n",
    "| key_index     |                                                                              |\n",
    "| key_data      |                                                                              |\n",
    "| swap_axes     | False                                                                        |\n",
    "| normalize     | False                                                                        |\n",
    "| skip_book     | False                                                                        |\n",
    "| sources       | ['https://chromereleases.googleblog.com', 'https://api.msrc.microsoft.com/'] |"
   ]
  },
  {
   "cell_type": "code",
   "execution_count": null,
   "id": "7ca30bb7",
   "metadata": {
    "tags": [
     "hide-input"
    ]
   },
   "outputs": [],
   "source": [
    "\n",
    "from itables import init_notebook_mode\n",
    "import itables.options as opt\n",
    "opt.lengthMenu = [60, 100, 300]\n",
    "opt.maxBytes = 0\n",
    "init_notebook_mode(all_interactive=True)    \n",
    "    "
   ]
  },
  {
   "cell_type": "code",
   "execution_count": null,
   "id": "1e2c6a30",
   "metadata": {},
   "outputs": [],
   "source": [
    "\n",
    "import pathlib\n",
    "import pandas\n",
    "import json\n",
    "data = pathlib.Path(\"/home/runner/work/cvedata/cvedata/cvedata/data\", 'ack-researcher-cve-quality-map.json')\n"
   ]
  },
  {
   "cell_type": "code",
   "execution_count": null,
   "id": "3e738f15",
   "metadata": {},
   "outputs": [],
   "source": [
    "json_data = json.loads(data.read_text())\n",
    "df = pandas.read_json(json.dumps(json_data))"
   ]
  },
  {
   "cell_type": "code",
   "execution_count": null,
   "id": "20a58c89",
   "metadata": {
    "tags": [
     "full-width"
    ]
   },
   "outputs": [],
   "source": [
    "df"
   ]
  }
 ],
 "metadata": {},
 "nbformat": 4,
 "nbformat_minor": 5
}
