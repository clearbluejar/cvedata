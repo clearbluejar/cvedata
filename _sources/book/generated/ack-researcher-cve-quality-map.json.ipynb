{
 "cells": [
  {
   "cell_type": "markdown",
   "id": "53924c5d",
   "metadata": {},
   "source": [
    "# ack-researcher-cve-quality-map.json"
   ]
  },
  {
   "cell_type": "markdown",
   "id": "3e4d13f6",
   "metadata": {},
   "source": [
    "|               | ack-researcher-cve-quality-map.json                                          |\n",
    "|:--------------|:-----------------------------------------------------------------------------|\n",
    "| size          | 118770                                                                       |\n",
    "| last_modified | 2022-11-29T21:48:30.901570                                                   |\n",
    "| count         | 3                                                                            |\n",
    "| gen_time      | 26.803627252578735                                                           |\n",
    "| key_index     |                                                                              |\n",
    "| key_data      |                                                                              |\n",
    "| swap_axes     | False                                                                        |\n",
    "| normalize     | False                                                                        |\n",
    "| skip_book     | False                                                                        |\n",
    "| sources       | ['https://chromereleases.googleblog.com', 'https://api.msrc.microsoft.com/'] |"
   ]
  },
  {
   "cell_type": "code",
   "execution_count": null,
   "id": "6dde34b6",
   "metadata": {
    "tags": [
     "hide-input"
    ]
   },
   "outputs": [],
   "source": [
    "\n",
    "from itables import init_notebook_mode\n",
    "import itables.options as opt\n",
    "opt.lengthMenu = [60, 100, 300]\n",
    "opt.maxBytes = 0\n",
    "init_notebook_mode(all_interactive=True)    \n",
    "    "
   ]
  },
  {
   "cell_type": "code",
   "execution_count": null,
   "id": "6c1b0e49",
   "metadata": {},
   "outputs": [],
   "source": [
    "\n",
    "import pathlib\n",
    "import pandas\n",
    "import json\n",
    "data = pathlib.Path(\"/home/runner/work/cvedata/cvedata/cvedata/data\", 'ack-researcher-cve-quality-map.json')\n"
   ]
  },
  {
   "cell_type": "code",
   "execution_count": null,
   "id": "47463100",
   "metadata": {},
   "outputs": [],
   "source": [
    "json_data = json.loads(data.read_text())\n",
    "df = pandas.read_json(json.dumps(json_data))"
   ]
  },
  {
   "cell_type": "code",
   "execution_count": null,
   "id": "8889a8bf",
   "metadata": {
    "tags": [
     "full-width"
    ]
   },
   "outputs": [],
   "source": [
    "df"
   ]
  }
 ],
 "metadata": {},
 "nbformat": 4,
 "nbformat_minor": 5
}
