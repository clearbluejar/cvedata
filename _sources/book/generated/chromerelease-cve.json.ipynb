{
 "cells": [
  {
   "cell_type": "markdown",
   "id": "607d7f25",
   "metadata": {},
   "source": [
    "# chromerelease-cve.json"
   ]
  },
  {
   "cell_type": "markdown",
   "id": "9c1dd055",
   "metadata": {},
   "source": [
    "|               | chromerelease-cve.json                    |\n",
    "|:--------------|:------------------------------------------|\n",
    "| size          | 809543                                    |\n",
    "| last_modified | 2022-11-29T21:48:03.892565                |\n",
    "| count         | 2321                                      |\n",
    "| gen_time      | 0.09898805618286101                       |\n",
    "| key_index     | cve_id                                    |\n",
    "| key_data      |                                           |\n",
    "| swap_axes     | False                                     |\n",
    "| normalize     | True                                      |\n",
    "| skip_book     | False                                     |\n",
    "| sources       | ['https://chromereleases.googleblog.com'] |"
   ]
  },
  {
   "cell_type": "code",
   "execution_count": null,
   "id": "02f03ae8",
   "metadata": {
    "tags": [
     "hide-input"
    ]
   },
   "outputs": [],
   "source": [
    "\n",
    "from itables import init_notebook_mode\n",
    "import itables.options as opt\n",
    "opt.lengthMenu = [60, 100, 300]\n",
    "opt.maxBytes = 0\n",
    "init_notebook_mode(all_interactive=True)    \n",
    "    "
   ]
  },
  {
   "cell_type": "code",
   "execution_count": null,
   "id": "54d807e9",
   "metadata": {},
   "outputs": [],
   "source": [
    "\n",
    "import pathlib\n",
    "import pandas\n",
    "import json\n",
    "data = pathlib.Path(\"/home/runner/work/cvedata/cvedata/cvedata/data\", 'chromerelease-cve.json')\n"
   ]
  },
  {
   "cell_type": "code",
   "execution_count": null,
   "id": "c0148099",
   "metadata": {},
   "outputs": [],
   "source": [
    "json_data = json.loads(data.read_text())\n",
    "df = pandas.json_normalize(json_data)"
   ]
  },
  {
   "cell_type": "code",
   "execution_count": null,
   "id": "a7b41079",
   "metadata": {
    "tags": [
     "full-width"
    ]
   },
   "outputs": [],
   "source": [
    "df.set_index('cve_id',inplace=True)\n",
    "df"
   ]
  }
 ],
 "metadata": {},
 "nbformat": 4,
 "nbformat_minor": 5
}
