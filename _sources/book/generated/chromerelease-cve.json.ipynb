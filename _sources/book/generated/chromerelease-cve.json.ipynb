{
 "cells": [
  {
   "cell_type": "markdown",
   "id": "12748039",
   "metadata": {},
   "source": [
    "# chromerelease-cve.json"
   ]
  },
  {
   "cell_type": "markdown",
   "id": "2f8dff4c",
   "metadata": {},
   "source": [
    "|               | chromerelease-cve.json                    |\n",
    "|:--------------|:------------------------------------------|\n",
    "| size          | 819176                                    |\n",
    "| last_modified | 2022-12-14T04:17:22.585814                |\n",
    "| count         | 2349                                      |\n",
    "| gen_time      | 0.11244249343872001                       |\n",
    "| key_index     | cve_id                                    |\n",
    "| key_data      |                                           |\n",
    "| swap_axes     | False                                     |\n",
    "| normalize     | True                                      |\n",
    "| skip_book     | False                                     |\n",
    "| sources       | ['https://chromereleases.googleblog.com'] |"
   ]
  },
  {
   "cell_type": "code",
   "execution_count": null,
   "id": "35ff907e",
   "metadata": {
    "tags": [
     "hide-input"
    ]
   },
   "outputs": [],
   "source": [
    "\n",
    "from itables import init_notebook_mode\n",
    "import itables.options as opt\n",
    "opt.lengthMenu = [60, 100, 300]\n",
    "opt.maxBytes = 0\n",
    "init_notebook_mode(all_interactive=True)    \n",
    "    "
   ]
  },
  {
   "cell_type": "code",
   "execution_count": null,
   "id": "62f5ae08",
   "metadata": {},
   "outputs": [],
   "source": [
    "\n",
    "import pathlib\n",
    "import pandas\n",
    "import json\n",
    "data = pathlib.Path(\"/home/runner/work/cvedata/cvedata/cvedata/data\", 'chromerelease-cve.json')\n"
   ]
  },
  {
   "cell_type": "code",
   "execution_count": null,
   "id": "d01c1ad3",
   "metadata": {},
   "outputs": [],
   "source": [
    "json_data = json.loads(data.read_text())\n",
    "df = pandas.json_normalize(json_data)"
   ]
  },
  {
   "cell_type": "code",
   "execution_count": null,
   "id": "f8faac0f",
   "metadata": {
    "tags": [
     "full-width"
    ]
   },
   "outputs": [],
   "source": [
    "df.set_index('cve_id',inplace=True)\n",
    "df"
   ]
  }
 ],
 "metadata": {},
 "nbformat": 4,
 "nbformat_minor": 5
}
