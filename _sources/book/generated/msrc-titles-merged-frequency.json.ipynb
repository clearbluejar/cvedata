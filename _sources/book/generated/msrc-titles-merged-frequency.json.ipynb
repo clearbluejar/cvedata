{
 "cells": [
  {
   "cell_type": "markdown",
   "id": "339b4928",
   "metadata": {},
   "source": [
    "# msrc-titles-merged-frequency.json"
   ]
  },
  {
   "cell_type": "markdown",
   "id": "033ff39c",
   "metadata": {},
   "source": [
    "|               | msrc-titles-merged-frequency.json   |\n",
    "|:--------------|:------------------------------------|\n",
    "| size          | 80345                               |\n",
    "| last_modified | 2022-11-11T01:36:51.437115          |\n",
    "| count         | 437                                 |\n",
    "| gen_time      | 0.05695223808288501                 |\n",
    "| key_index     |                                     |\n",
    "| key_data      |                                     |\n",
    "| swap_axes     | True                                |\n",
    "| normalize     | True                                |\n",
    "| skip_book     | False                               |\n",
    "| sources       | ['https://api.msrc.microsoft.com/'] |"
   ]
  },
  {
   "cell_type": "code",
   "execution_count": null,
   "id": "2b0b1423",
   "metadata": {
    "tags": [
     "hide-input"
    ]
   },
   "outputs": [],
   "source": [
    "\n",
    "from itables import init_notebook_mode\n",
    "import itables.options as opt\n",
    "opt.lengthMenu = [60, 100, 300]\n",
    "opt.maxBytes = 0\n",
    "init_notebook_mode(all_interactive=True)    \n",
    "    "
   ]
  },
  {
   "cell_type": "code",
   "execution_count": null,
   "id": "53f71c28",
   "metadata": {},
   "outputs": [],
   "source": [
    "\n",
    "import pathlib\n",
    "import pandas\n",
    "import json\n",
    "data = pathlib.Path(\"/home/runner/work/cvedata/cvedata/cvedata/data\", 'msrc-titles-merged-frequency.json')\n"
   ]
  },
  {
   "cell_type": "code",
   "execution_count": null,
   "id": "8d54536c",
   "metadata": {},
   "outputs": [],
   "source": [
    "json_data = json.loads(data.read_text())\n",
    "df = pandas.json_normalize(json_data)\n",
    "df = df.swapaxes('columns','index')"
   ]
  },
  {
   "cell_type": "code",
   "execution_count": null,
   "id": "aa362037",
   "metadata": {
    "tags": [
     "full-width"
    ]
   },
   "outputs": [],
   "source": [
    "df"
   ]
  }
 ],
 "metadata": {},
 "nbformat": 4,
 "nbformat_minor": 5
}
