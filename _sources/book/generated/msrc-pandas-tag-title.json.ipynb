{
 "cells": [
  {
   "cell_type": "markdown",
   "id": "9c604655",
   "metadata": {},
   "source": [
    "# msrc-pandas-tag-title.json"
   ]
  },
  {
   "cell_type": "markdown",
   "id": "703107c3",
   "metadata": {},
   "source": [
    "|               | msrc-pandas-tag-title.json          |\n",
    "|:--------------|:------------------------------------|\n",
    "| size          | 159817                              |\n",
    "| last_modified | 2022-12-14T04:07:49.378892          |\n",
    "| count         | 3                                   |\n",
    "| gen_time      | 4.797657012939453                   |\n",
    "| key_index     |                                     |\n",
    "| key_data      |                                     |\n",
    "| swap_axes     | False                               |\n",
    "| normalize     | False                               |\n",
    "| skip_book     | False                               |\n",
    "| sources       | ['https://api.msrc.microsoft.com/'] |"
   ]
  },
  {
   "cell_type": "code",
   "execution_count": null,
   "id": "6790df79",
   "metadata": {
    "tags": [
     "hide-input"
    ]
   },
   "outputs": [],
   "source": [
    "\n",
    "from itables import init_notebook_mode\n",
    "import itables.options as opt\n",
    "opt.lengthMenu = [60, 100, 300]\n",
    "opt.maxBytes = 0\n",
    "init_notebook_mode(all_interactive=True)    \n",
    "    "
   ]
  },
  {
   "cell_type": "code",
   "execution_count": null,
   "id": "eefae5cf",
   "metadata": {},
   "outputs": [],
   "source": [
    "\n",
    "import pathlib\n",
    "import pandas\n",
    "import json\n",
    "data = pathlib.Path(\"/home/runner/work/cvedata/cvedata/cvedata/data\", 'msrc-pandas-tag-title.json')\n"
   ]
  },
  {
   "cell_type": "code",
   "execution_count": null,
   "id": "5339ab69",
   "metadata": {},
   "outputs": [],
   "source": [
    "json_data = json.loads(data.read_text())\n",
    "df = pandas.read_json(json.dumps(json_data))"
   ]
  },
  {
   "cell_type": "code",
   "execution_count": null,
   "id": "9beed496",
   "metadata": {
    "tags": [
     "full-width"
    ]
   },
   "outputs": [],
   "source": [
    "df"
   ]
  }
 ],
 "metadata": {},
 "nbformat": 4,
 "nbformat_minor": 5
}
