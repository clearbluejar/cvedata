{
 "cells": [
  {
   "cell_type": "markdown",
   "id": "b1223166",
   "metadata": {},
   "source": [
    "# msrc-pandas-tag-title.json"
   ]
  },
  {
   "cell_type": "markdown",
   "id": "e0840e4f",
   "metadata": {},
   "source": [
    "|               | msrc-pandas-tag-title.json          |\n",
    "|:--------------|:------------------------------------|\n",
    "| size          | 157084                              |\n",
    "| last_modified | 2022-11-22T06:30:40.276355          |\n",
    "| count         | 3                                   |\n",
    "| gen_time      | 3.74937105178833                    |\n",
    "| key_index     |                                     |\n",
    "| key_data      |                                     |\n",
    "| swap_axes     | False                               |\n",
    "| normalize     | False                               |\n",
    "| skip_book     | False                               |\n",
    "| sources       | ['https://api.msrc.microsoft.com/'] |"
   ]
  },
  {
   "cell_type": "code",
   "execution_count": null,
   "id": "3130364c",
   "metadata": {
    "tags": [
     "hide-input"
    ]
   },
   "outputs": [],
   "source": [
    "\n",
    "from itables import init_notebook_mode\n",
    "import itables.options as opt\n",
    "opt.lengthMenu = [60, 100, 300]\n",
    "opt.maxBytes = 0\n",
    "init_notebook_mode(all_interactive=True)    \n",
    "    "
   ]
  },
  {
   "cell_type": "code",
   "execution_count": null,
   "id": "9d29658f",
   "metadata": {},
   "outputs": [],
   "source": [
    "\n",
    "import pathlib\n",
    "import pandas\n",
    "import json\n",
    "data = pathlib.Path(\"/home/runner/work/cvedata/cvedata/cvedata/data\", 'msrc-pandas-tag-title.json')\n"
   ]
  },
  {
   "cell_type": "code",
   "execution_count": null,
   "id": "d16fc37c",
   "metadata": {},
   "outputs": [],
   "source": [
    "json_data = json.loads(data.read_text())\n",
    "df = pandas.read_json(json.dumps(json_data))"
   ]
  },
  {
   "cell_type": "code",
   "execution_count": null,
   "id": "64f408f1",
   "metadata": {
    "tags": [
     "full-width"
    ]
   },
   "outputs": [],
   "source": [
    "df"
   ]
  }
 ],
 "metadata": {},
 "nbformat": 4,
 "nbformat_minor": 5
}
