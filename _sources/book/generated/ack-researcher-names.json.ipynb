{
 "cells": [
  {
   "cell_type": "markdown",
   "id": "914b53c8",
   "metadata": {},
   "source": [
    "# ack-researcher-names.json"
   ]
  },
  {
   "cell_type": "markdown",
   "id": "65640e74",
   "metadata": {},
   "source": [
    "|               | ack-researcher-names.json                                                    |\n",
    "|:--------------|:-----------------------------------------------------------------------------|\n",
    "| size          | 971343                                                                       |\n",
    "| last_modified | 2022-11-29T21:48:03.948567                                                   |\n",
    "| count         | 8434                                                                         |\n",
    "| gen_time      | 0.049376010894775                                                            |\n",
    "| key_index     |                                                                              |\n",
    "| key_data      |                                                                              |\n",
    "| swap_axes     | False                                                                        |\n",
    "| normalize     | False                                                                        |\n",
    "| skip_book     | False                                                                        |\n",
    "| sources       | ['https://chromereleases.googleblog.com', 'https://api.msrc.microsoft.com/'] |"
   ]
  },
  {
   "cell_type": "code",
   "execution_count": null,
   "id": "d7a23725",
   "metadata": {
    "tags": [
     "hide-input"
    ]
   },
   "outputs": [],
   "source": [
    "\n",
    "from itables import init_notebook_mode\n",
    "import itables.options as opt\n",
    "opt.lengthMenu = [60, 100, 300]\n",
    "opt.maxBytes = 0\n",
    "init_notebook_mode(all_interactive=True)    \n",
    "    "
   ]
  },
  {
   "cell_type": "code",
   "execution_count": null,
   "id": "9ea27cc2",
   "metadata": {},
   "outputs": [],
   "source": [
    "\n",
    "import pathlib\n",
    "import pandas\n",
    "import json\n",
    "data = pathlib.Path(\"/home/runner/work/cvedata/cvedata/cvedata/data\", 'ack-researcher-names.json')\n"
   ]
  },
  {
   "cell_type": "code",
   "execution_count": null,
   "id": "8e2ccea9",
   "metadata": {},
   "outputs": [],
   "source": [
    "json_data = json.loads(data.read_text())\n",
    "df = pandas.read_json(json.dumps(json_data))"
   ]
  },
  {
   "cell_type": "code",
   "execution_count": null,
   "id": "1706535b",
   "metadata": {
    "tags": [
     "full-width"
    ]
   },
   "outputs": [],
   "source": [
    "df"
   ]
  }
 ],
 "metadata": {},
 "nbformat": 4,
 "nbformat_minor": 5
}
