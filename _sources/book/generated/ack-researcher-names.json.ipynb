{
 "cells": [
  {
   "cell_type": "markdown",
   "id": "5c7eeda4",
   "metadata": {},
   "source": [
    "# ack-researcher-names.json"
   ]
  },
  {
   "cell_type": "markdown",
   "id": "f8cc14a9",
   "metadata": {},
   "source": [
    "|               | ack-researcher-names.json                                                    |\n",
    "|:--------------|:-----------------------------------------------------------------------------|\n",
    "| size          | 971343                                                                       |\n",
    "| last_modified | 2022-11-29T21:48:03.948567                                                   |\n",
    "| count         | 8434                                                                         |\n",
    "| gen_time      | 0.049376010894775                                                            |\n",
    "| key_index     |                                                                              |\n",
    "| key_data      |                                                                              |\n",
    "| swap_axes     | False                                                                        |\n",
    "| normalize     | False                                                                        |\n",
    "| skip_book     | False                                                                        |\n",
    "| sources       | ['https://chromereleases.googleblog.com', 'https://api.msrc.microsoft.com/'] |"
   ]
  },
  {
   "cell_type": "code",
   "execution_count": null,
   "id": "c0b28407",
   "metadata": {
    "tags": [
     "hide-input"
    ]
   },
   "outputs": [],
   "source": [
    "\n",
    "from itables import init_notebook_mode\n",
    "import itables.options as opt\n",
    "opt.lengthMenu = [60, 100, 300]\n",
    "opt.maxBytes = 0\n",
    "init_notebook_mode(all_interactive=True)    \n",
    "    "
   ]
  },
  {
   "cell_type": "code",
   "execution_count": null,
   "id": "0c9b49bb",
   "metadata": {},
   "outputs": [],
   "source": [
    "\n",
    "import pathlib\n",
    "import pandas\n",
    "import json\n",
    "data = pathlib.Path(\"/home/runner/work/cvedata/cvedata/cvedata/data\", 'ack-researcher-names.json')\n"
   ]
  },
  {
   "cell_type": "code",
   "execution_count": null,
   "id": "8826cba4",
   "metadata": {},
   "outputs": [],
   "source": [
    "json_data = json.loads(data.read_text())\n",
    "df = pandas.read_json(json.dumps(json_data))"
   ]
  },
  {
   "cell_type": "code",
   "execution_count": null,
   "id": "9f3d04d2",
   "metadata": {
    "tags": [
     "full-width"
    ]
   },
   "outputs": [],
   "source": [
    "df"
   ]
  }
 ],
 "metadata": {},
 "nbformat": 4,
 "nbformat_minor": 5
}
