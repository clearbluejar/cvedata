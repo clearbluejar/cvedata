{
 "cells": [
  {
   "cell_type": "markdown",
   "id": "489742a9",
   "metadata": {},
   "source": [
    "# msrc-cvrf-merged.json.gz"
   ]
  },
  {
   "cell_type": "markdown",
   "id": "4ea090dc",
   "metadata": {},
   "source": [
    "|               | msrc-cvrf-merged.json.gz            |\n",
    "|:--------------|:------------------------------------|\n",
    "| size          | 4559162                             |\n",
    "| last_modified | 2022-11-22T06:14:01.754751          |\n",
    "| count         | 80                                  |\n",
    "| gen_time      | 97.98645567893982                   |\n",
    "| key_index     |                                     |\n",
    "| key_data      |                                     |\n",
    "| swap_axes     | False                               |\n",
    "| normalize     | False                               |\n",
    "| skip_book     | True                                |\n",
    "| sources       | ['https://api.msrc.microsoft.com/'] |"
   ]
  }
 ],
 "metadata": {},
 "nbformat": 4,
 "nbformat_minor": 5
}
