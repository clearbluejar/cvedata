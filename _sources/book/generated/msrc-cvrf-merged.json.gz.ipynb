{
 "cells": [
  {
   "cell_type": "markdown",
   "id": "d67542d8",
   "metadata": {},
   "source": [
    "# msrc-cvrf-merged.json.gz"
   ]
  },
  {
   "cell_type": "markdown",
   "id": "a519809b",
   "metadata": {},
   "source": [
    "|               | msrc-cvrf-merged.json.gz            |\n",
    "|:--------------|:------------------------------------|\n",
    "| size          | 4606184                             |\n",
    "| last_modified | 2022-12-14T03:59:07.779045          |\n",
    "| count         | 81                                  |\n",
    "| gen_time      | 9.854048013687134                   |\n",
    "| key_index     |                                     |\n",
    "| key_data      |                                     |\n",
    "| swap_axes     | False                               |\n",
    "| normalize     | False                               |\n",
    "| skip_book     | True                                |\n",
    "| sources       | ['https://api.msrc.microsoft.com/'] |"
   ]
  }
 ],
 "metadata": {},
 "nbformat": 4,
 "nbformat_minor": 5
}
