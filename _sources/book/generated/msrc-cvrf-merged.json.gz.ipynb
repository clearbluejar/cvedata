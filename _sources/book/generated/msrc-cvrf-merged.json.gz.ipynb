{
 "cells": [
  {
   "cell_type": "markdown",
   "id": "5ccbc17e",
   "metadata": {},
   "source": [
    "# msrc-cvrf-merged.json.gz"
   ]
  },
  {
   "cell_type": "markdown",
   "id": "a8e7dec4",
   "metadata": {},
   "source": [
    "|               | msrc-cvrf-merged.json.gz            |\n",
    "|:--------------|:------------------------------------|\n",
    "| size          | 4559359                             |\n",
    "| last_modified | 2022-11-29T21:32:37.061701          |\n",
    "| count         | 80                                  |\n",
    "| gen_time      | 7.053839921951294                   |\n",
    "| key_index     |                                     |\n",
    "| key_data      |                                     |\n",
    "| swap_axes     | False                               |\n",
    "| normalize     | False                               |\n",
    "| skip_book     | True                                |\n",
    "| sources       | ['https://api.msrc.microsoft.com/'] |"
   ]
  }
 ],
 "metadata": {},
 "nbformat": 4,
 "nbformat_minor": 5
}
