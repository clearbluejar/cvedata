{
 "cells": [
  {
   "cell_type": "markdown",
   "id": "9f1a8df9",
   "metadata": {},
   "source": [
    "# msrc-cvrf-merged.json.gz"
   ]
  },
  {
   "cell_type": "markdown",
   "id": "b7d84dba",
   "metadata": {},
   "source": [
    "|               | msrc-cvrf-merged.json.gz            |\n",
    "|:--------------|:------------------------------------|\n",
    "| size          | 4559359                             |\n",
    "| last_modified | 2022-11-29T21:32:37.061701          |\n",
    "| count         | 80                                  |\n",
    "| gen_time      | 7.053839921951294                   |\n",
    "| key_index     |                                     |\n",
    "| key_data      |                                     |\n",
    "| swap_axes     | False                               |\n",
    "| normalize     | False                               |\n",
    "| skip_book     | True                                |\n",
    "| sources       | ['https://api.msrc.microsoft.com/'] |"
   ]
  }
 ],
 "metadata": {},
 "nbformat": 4,
 "nbformat_minor": 5
}
