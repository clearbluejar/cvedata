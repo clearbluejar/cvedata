{
 "cells": [
  {
   "cell_type": "markdown",
   "id": "433398ba",
   "metadata": {},
   "source": [
    "# msrc-cvrf-merged.json.gz"
   ]
  },
  {
   "cell_type": "markdown",
   "id": "4baf1a68",
   "metadata": {},
   "source": [
    "|               | msrc-cvrf-merged.json.gz            |\n",
    "|:--------------|:------------------------------------|\n",
    "| size          | 4559359                             |\n",
    "| last_modified | 2022-12-05T16:31:20.650039          |\n",
    "| count         | 80                                  |\n",
    "| gen_time      | 7.589783668518066                   |\n",
    "| key_index     |                                     |\n",
    "| key_data      |                                     |\n",
    "| swap_axes     | False                               |\n",
    "| normalize     | False                               |\n",
    "| skip_book     | True                                |\n",
    "| sources       | ['https://api.msrc.microsoft.com/'] |"
   ]
  }
 ],
 "metadata": {},
 "nbformat": 4,
 "nbformat_minor": 5
}
