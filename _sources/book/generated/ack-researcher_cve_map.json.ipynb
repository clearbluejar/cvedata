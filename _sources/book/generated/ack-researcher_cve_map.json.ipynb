{
 "cells": [
  {
   "cell_type": "markdown",
   "id": "70f35399",
   "metadata": {},
   "source": [
    "# ack-researcher_cve_map.json"
   ]
  },
  {
   "cell_type": "markdown",
   "id": "bc55c0ad",
   "metadata": {},
   "source": [
    "|               | ack-researcher_cve_map.json                                                  |\n",
    "|:--------------|:-----------------------------------------------------------------------------|\n",
    "| size          | 251729                                                                       |\n",
    "| last_modified | 2022-11-22T06:39:24.335447                                                   |\n",
    "| count         | 1871                                                                         |\n",
    "| gen_time      | 0.111475467681884                                                            |\n",
    "| key_index     |                                                                              |\n",
    "| key_data      |                                                                              |\n",
    "| swap_axes     | True                                                                         |\n",
    "| normalize     | True                                                                         |\n",
    "| skip_book     | False                                                                        |\n",
    "| sources       | ['https://chromereleases.googleblog.com', 'https://api.msrc.microsoft.com/'] |"
   ]
  },
  {
   "cell_type": "code",
   "execution_count": null,
   "id": "bd3d2dda",
   "metadata": {
    "tags": [
     "hide-input"
    ]
   },
   "outputs": [],
   "source": [
    "\n",
    "from itables import init_notebook_mode\n",
    "import itables.options as opt\n",
    "opt.lengthMenu = [60, 100, 300]\n",
    "opt.maxBytes = 0\n",
    "init_notebook_mode(all_interactive=True)    \n",
    "    "
   ]
  },
  {
   "cell_type": "code",
   "execution_count": null,
   "id": "1752948d",
   "metadata": {},
   "outputs": [],
   "source": [
    "\n",
    "import pathlib\n",
    "import pandas\n",
    "import json\n",
    "data = pathlib.Path(\"/home/runner/work/cvedata/cvedata/cvedata/data\", 'ack-researcher_cve_map.json')\n"
   ]
  },
  {
   "cell_type": "code",
   "execution_count": null,
   "id": "3248359a",
   "metadata": {},
   "outputs": [],
   "source": [
    "json_data = json.loads(data.read_text())\n",
    "df = pandas.json_normalize(json_data)\n",
    "df = df.swapaxes('columns','index')"
   ]
  },
  {
   "cell_type": "code",
   "execution_count": null,
   "id": "d7333dce",
   "metadata": {
    "tags": [
     "full-width"
    ]
   },
   "outputs": [],
   "source": [
    "df"
   ]
  }
 ],
 "metadata": {},
 "nbformat": 4,
 "nbformat_minor": 5
}
