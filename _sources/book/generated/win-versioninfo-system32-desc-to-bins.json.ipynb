{
 "cells": [
  {
   "cell_type": "markdown",
   "id": "c43753d2",
   "metadata": {},
   "source": [
    "# win-versioninfo-system32-desc-to-bins.json"
   ]
  },
  {
   "cell_type": "markdown",
   "id": "34c63941",
   "metadata": {},
   "source": [
    "|               | win-versioninfo-system32-desc-to-bins.json                                                                                                                                                                                                                                                                                                                                                                                                                                                                                                                                                    |\n",
    "|:--------------|:----------------------------------------------------------------------------------------------------------------------------------------------------------------------------------------------------------------------------------------------------------------------------------------------------------------------------------------------------------------------------------------------------------------------------------------------------------------------------------------------------------------------------------------------------------------------------------------------|\n",
    "| size          | 738413                                                                                                                                                                                                                                                                                                                                                                                                                                                                                                                                                                                        |\n",
    "| last_modified | 2022-11-29T21:42:08.111360                                                                                                                                                                                                                                                                                                                                                                                                                                                                                                                                                                    |\n",
    "| count         | 24                                                                                                                                                                                                                                                                                                                                                                                                                                                                                                                                                                                            |\n",
    "| gen_time      | 1.327260494232177                                                                                                                                                                                                                                                                                                                                                                                                                                                                                                                                                                             |\n",
    "| key_index     |                                                                                                                                                                                                                                                                                                                                                                                                                                                                                                                                                                                               |\n",
    "| key_data      |                                                                                                                                                                                                                                                                                                                                                                                                                                                                                                                                                                                               |\n",
    "| swap_axes     | True                                                                                                                                                                                                                                                                                                                                                                                                                                                                                                                                                                                          |\n",
    "| normalize     | True                                                                                                                                                                                                                                                                                                                                                                                                                                                                                                                                                                                          |\n",
    "| skip_book     | False                                                                                                                                                                                                                                                                                                                                                                                                                                                                                                                                                                                         |\n",
    "| sources       | ['https://github.com/clearbluejar/win-sys32-versioninfo/releases/download/v0.1.0/10.0.22621.0-versioninfo-system32.json', 'https://github.com/clearbluejar/win-sys32-versioninfo/releases/download/v0.1.0/10.0.20348.0-versioninfo-system32-winprogiles-recurse.json', 'https://github.com/clearbluejar/win-sys32-versioninfo/releases/download/v0.1.0/10.0.19045.0-versioninfo-system32-winprogiles-recurse-o365-compress.json', 'https://github.com/clearbluejar/win-sys32-versioninfo/releases/download/v0.1.0/10.0.20348.0-versioninfo-system32-winprogiles-recurse-serv2022-roles.json'] |"
   ]
  },
  {
   "cell_type": "code",
   "execution_count": null,
   "id": "e60d3ee5",
   "metadata": {
    "tags": [
     "hide-input"
    ]
   },
   "outputs": [],
   "source": [
    "\n",
    "from itables import init_notebook_mode\n",
    "import itables.options as opt\n",
    "opt.lengthMenu = [60, 100, 300]\n",
    "opt.maxBytes = 0\n",
    "init_notebook_mode(all_interactive=True)    \n",
    "    "
   ]
  },
  {
   "cell_type": "code",
   "execution_count": null,
   "id": "fc545f61",
   "metadata": {},
   "outputs": [],
   "source": [
    "\n",
    "import pathlib\n",
    "import pandas\n",
    "import json\n",
    "data = pathlib.Path(\"/home/runner/work/cvedata/cvedata/cvedata/data\", 'win-versioninfo-system32-desc-to-bins.json')\n"
   ]
  },
  {
   "cell_type": "code",
   "execution_count": null,
   "id": "0731ca4f",
   "metadata": {},
   "outputs": [],
   "source": [
    "json_data = json.loads(data.read_text())\n",
    "df = pandas.json_normalize(json_data)\n",
    "df = df.swapaxes('columns','index')"
   ]
  },
  {
   "cell_type": "code",
   "execution_count": null,
   "id": "1e407df8",
   "metadata": {
    "tags": [
     "full-width"
    ]
   },
   "outputs": [],
   "source": [
    "df"
   ]
  }
 ],
 "metadata": {},
 "nbformat": 4,
 "nbformat_minor": 5
}
