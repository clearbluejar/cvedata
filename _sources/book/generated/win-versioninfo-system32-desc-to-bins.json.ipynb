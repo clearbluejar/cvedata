{
 "cells": [
  {
   "cell_type": "markdown",
   "id": "f527d3f3",
   "metadata": {},
   "source": [
    "# win-versioninfo-system32-desc-to-bins.json"
   ]
  },
  {
   "cell_type": "markdown",
   "id": "ba05fd02",
   "metadata": {},
   "source": [
    "|               | win-versioninfo-system32-desc-to-bins.json                                                                                                                                                                                                                                                                                                                                                                                                                                                                                                                                                    |\n",
    "|:--------------|:----------------------------------------------------------------------------------------------------------------------------------------------------------------------------------------------------------------------------------------------------------------------------------------------------------------------------------------------------------------------------------------------------------------------------------------------------------------------------------------------------------------------------------------------------------------------------------------------|\n",
    "| size          | 736563                                                                                                                                                                                                                                                                                                                                                                                                                                                                                                                                                                                        |\n",
    "| last_modified | 2022-12-14T04:11:25.957987                                                                                                                                                                                                                                                                                                                                                                                                                                                                                                                                                                    |\n",
    "| count         | 24                                                                                                                                                                                                                                                                                                                                                                                                                                                                                                                                                                                            |\n",
    "| gen_time      | 1.662510633468628                                                                                                                                                                                                                                                                                                                                                                                                                                                                                                                                                                             |\n",
    "| key_index     |                                                                                                                                                                                                                                                                                                                                                                                                                                                                                                                                                                                               |\n",
    "| key_data      |                                                                                                                                                                                                                                                                                                                                                                                                                                                                                                                                                                                               |\n",
    "| swap_axes     | True                                                                                                                                                                                                                                                                                                                                                                                                                                                                                                                                                                                          |\n",
    "| normalize     | True                                                                                                                                                                                                                                                                                                                                                                                                                                                                                                                                                                                          |\n",
    "| skip_book     | False                                                                                                                                                                                                                                                                                                                                                                                                                                                                                                                                                                                         |\n",
    "| sources       | ['https://github.com/clearbluejar/win-sys32-versioninfo/releases/download/v0.1.0/10.0.22621.0-versioninfo-system32.json', 'https://github.com/clearbluejar/win-sys32-versioninfo/releases/download/v0.1.0/10.0.20348.0-versioninfo-system32-winprogiles-recurse.json', 'https://github.com/clearbluejar/win-sys32-versioninfo/releases/download/v0.1.0/10.0.19045.0-versioninfo-system32-winprogiles-recurse-o365-compress.json', 'https://github.com/clearbluejar/win-sys32-versioninfo/releases/download/v0.1.0/10.0.20348.0-versioninfo-system32-winprogiles-recurse-serv2022-roles.json'] |"
   ]
  },
  {
   "cell_type": "code",
   "execution_count": null,
   "id": "f1d6d2bd",
   "metadata": {
    "tags": [
     "hide-input"
    ]
   },
   "outputs": [],
   "source": [
    "\n",
    "from itables import init_notebook_mode\n",
    "import itables.options as opt\n",
    "opt.lengthMenu = [60, 100, 300]\n",
    "opt.maxBytes = 0\n",
    "init_notebook_mode(all_interactive=True)    \n",
    "    "
   ]
  },
  {
   "cell_type": "code",
   "execution_count": null,
   "id": "cd9fa2d0",
   "metadata": {},
   "outputs": [],
   "source": [
    "\n",
    "import pathlib\n",
    "import pandas\n",
    "import json\n",
    "data = pathlib.Path(\"/home/runner/work/cvedata/cvedata/cvedata/data\", 'win-versioninfo-system32-desc-to-bins.json')\n"
   ]
  },
  {
   "cell_type": "code",
   "execution_count": null,
   "id": "c98a0d38",
   "metadata": {},
   "outputs": [],
   "source": [
    "json_data = json.loads(data.read_text())\n",
    "df = pandas.json_normalize(json_data)\n",
    "df = df.swapaxes('columns','index')"
   ]
  },
  {
   "cell_type": "code",
   "execution_count": null,
   "id": "99e7ec80",
   "metadata": {
    "tags": [
     "full-width"
    ]
   },
   "outputs": [],
   "source": [
    "df"
   ]
  }
 ],
 "metadata": {},
 "nbformat": 4,
 "nbformat_minor": 5
}
