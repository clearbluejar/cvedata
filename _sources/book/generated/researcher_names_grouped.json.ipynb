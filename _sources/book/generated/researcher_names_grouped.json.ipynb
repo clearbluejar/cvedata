{
 "cells": [
  {
   "cell_type": "markdown",
   "id": "eb4bb328",
   "metadata": {},
   "source": [
    "# researcher_names_grouped.json"
   ]
  },
  {
   "cell_type": "markdown",
   "id": "622f6054",
   "metadata": {},
   "source": [
    "|               | researcher_names_grouped.json                                                |\n",
    "|:--------------|:-----------------------------------------------------------------------------|\n",
    "| size          | 326265                                                                       |\n",
    "| last_modified | 2022-10-25T11:25:16.125759                                                   |\n",
    "| count         | 1862                                                                         |\n",
    "| gen_time      | 0.038940906524658                                                            |\n",
    "| skip_book     | False                                                                        |\n",
    "| sources       | ['https://chromereleases.googleblog.com', 'https://api.msrc.microsoft.com/'] |\n",
    "| key_index     |                                                                              |\n",
    "| swap_axes     | True                                                                         |\n",
    "| normalize     | True                                                                         |"
   ]
  },
  {
   "cell_type": "code",
   "execution_count": null,
   "id": "ab81ba50",
   "metadata": {
    "tags": [
     "hide-input"
    ]
   },
   "outputs": [],
   "source": [
    "\n",
    "from itables import init_notebook_mode\n",
    "import itables.options as opt\n",
    "opt.lengthMenu = [60, 100, 300]\n",
    "opt.maxBytes = 326265\n",
    "init_notebook_mode(all_interactive=True)    \n",
    "    "
   ]
  },
  {
   "cell_type": "code",
   "execution_count": null,
   "id": "b6c51318",
   "metadata": {},
   "outputs": [],
   "source": [
    "\n",
    "import pathlib\n",
    "import pandas\n",
    "import json\n",
    "data = pathlib.Path('..','..','..','cvedata','data', 'researcher_names_grouped.json')\n",
    "    "
   ]
  },
  {
   "cell_type": "code",
   "execution_count": null,
   "id": "a0eaa433",
   "metadata": {},
   "outputs": [],
   "source": [
    "\n",
    "df = pandas.json_normalize(json.loads(data.read_text()))\n",
    "df = df.swapaxes('columns','index')"
   ]
  },
  {
   "cell_type": "code",
   "execution_count": null,
   "id": "277af4a0",
   "metadata": {
    "tags": [
     "full-width"
    ]
   },
   "outputs": [],
   "source": [
    "df"
   ]
  }
 ],
 "metadata": {},
 "nbformat": 4,
 "nbformat_minor": 5
}
