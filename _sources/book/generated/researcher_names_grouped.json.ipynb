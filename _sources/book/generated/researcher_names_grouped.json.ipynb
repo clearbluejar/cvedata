{
 "cells": [
  {
   "cell_type": "markdown",
   "id": "f438e9fb",
   "metadata": {},
   "source": [
    "# researcher_names_grouped.json"
   ]
  },
  {
   "cell_type": "markdown",
   "id": "b1cbbdc2",
   "metadata": {},
   "source": [
    "|               | researcher_names_grouped.json                                                |\n",
    "|:--------------|:-----------------------------------------------------------------------------|\n",
    "| size          | 710923                                                                       |\n",
    "| last_modified | 2022-11-19T12:21:35.262054                                                   |\n",
    "| count         | 1871                                                                         |\n",
    "| gen_time      | 0.11053824424743601                                                          |\n",
    "| key_index     |                                                                              |\n",
    "| key_data      |                                                                              |\n",
    "| swap_axes     | True                                                                         |\n",
    "| normalize     | True                                                                         |\n",
    "| skip_book     | False                                                                        |\n",
    "| sources       | ['https://chromereleases.googleblog.com', 'https://api.msrc.microsoft.com/'] |"
   ]
  },
  {
   "cell_type": "code",
   "execution_count": null,
   "id": "ce405e22",
   "metadata": {
    "tags": [
     "hide-input"
    ]
   },
   "outputs": [],
   "source": [
    "\n",
    "from itables import init_notebook_mode\n",
    "import itables.options as opt\n",
    "opt.lengthMenu = [60, 100, 300]\n",
    "opt.maxBytes = 0\n",
    "init_notebook_mode(all_interactive=True)    \n",
    "    "
   ]
  },
  {
   "cell_type": "code",
   "execution_count": null,
   "id": "752c1672",
   "metadata": {},
   "outputs": [],
   "source": [
    "\n",
    "import pathlib\n",
    "import pandas\n",
    "import json\n",
    "data = pathlib.Path(\"/home/runner/work/cvedata/cvedata/cvedata/data\", 'researcher_names_grouped.json')\n"
   ]
  },
  {
   "cell_type": "code",
   "execution_count": null,
   "id": "b15460f1",
   "metadata": {},
   "outputs": [],
   "source": [
    "json_data = json.loads(data.read_text())\n",
    "df = pandas.json_normalize(json_data)\n",
    "df = df.swapaxes('columns','index')"
   ]
  },
  {
   "cell_type": "code",
   "execution_count": null,
   "id": "79dccba6",
   "metadata": {
    "tags": [
     "full-width"
    ]
   },
   "outputs": [],
   "source": [
    "df"
   ]
  }
 ],
 "metadata": {},
 "nbformat": 4,
 "nbformat_minor": 5
}
