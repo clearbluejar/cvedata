{
 "cells": [
  {
   "cell_type": "markdown",
   "id": "39a65c05",
   "metadata": {},
   "source": [
    "# msrc-titles-merged.json"
   ]
  },
  {
   "cell_type": "markdown",
   "id": "379dfbe3",
   "metadata": {},
   "source": [
    "|               | msrc-titles-merged.json             |\n",
    "|:--------------|:------------------------------------|\n",
    "| size          | 76918                               |\n",
    "| last_modified | 2022-11-11T01:36:51.433115          |\n",
    "| count         | 437                                 |\n",
    "| gen_time      | 0.05695223808288501                 |\n",
    "| key_index     |                                     |\n",
    "| key_data      |                                     |\n",
    "| swap_axes     | False                               |\n",
    "| normalize     | False                               |\n",
    "| skip_book     | False                               |\n",
    "| sources       | ['https://api.msrc.microsoft.com/'] |"
   ]
  },
  {
   "cell_type": "code",
   "execution_count": null,
   "id": "e615b8c9",
   "metadata": {
    "tags": [
     "hide-input"
    ]
   },
   "outputs": [],
   "source": [
    "\n",
    "from itables import init_notebook_mode\n",
    "import itables.options as opt\n",
    "opt.lengthMenu = [60, 100, 300]\n",
    "opt.maxBytes = 0\n",
    "init_notebook_mode(all_interactive=True)    \n",
    "    "
   ]
  },
  {
   "cell_type": "code",
   "execution_count": null,
   "id": "b107e733",
   "metadata": {},
   "outputs": [],
   "source": [
    "\n",
    "import pathlib\n",
    "import pandas\n",
    "import json\n",
    "data = pathlib.Path(\"/home/runner/work/cvedata/cvedata/cvedata/data\", 'msrc-titles-merged.json')\n"
   ]
  },
  {
   "cell_type": "code",
   "execution_count": null,
   "id": "442545cf",
   "metadata": {},
   "outputs": [],
   "source": [
    "json_data = json.loads(data.read_text())\n",
    "df = pandas.read_json(json.dumps(json_data))"
   ]
  },
  {
   "cell_type": "code",
   "execution_count": null,
   "id": "f277f707",
   "metadata": {
    "tags": [
     "full-width"
    ]
   },
   "outputs": [],
   "source": [
    "df"
   ]
  }
 ],
 "metadata": {},
 "nbformat": 4,
 "nbformat_minor": 5
}
