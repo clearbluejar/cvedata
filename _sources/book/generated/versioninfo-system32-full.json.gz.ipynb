{
 "cells": [
  {
   "cell_type": "markdown",
   "id": "85cc42eb",
   "metadata": {},
   "source": [
    "# versioninfo-system32-full.json.gz"
   ]
  },
  {
   "cell_type": "markdown",
   "id": "d700bbc3",
   "metadata": {},
   "source": [
    "|               | versioninfo-system32-full.json.gz   |\n",
    "|:--------------|:------------------------------------|\n",
    "| size          | 423753                              |\n",
    "| last_modified | 2022-11-11T01:39:49.930651          |\n",
    "| count         | 24                                  |\n",
    "| gen_time      | 1.401365280151367                   |\n",
    "| sources       | ['C:\\\\Windows\\\\System32']           |"
   ]
  },
  {
   "cell_type": "code",
   "execution_count": null,
   "id": "53fe1b81",
   "metadata": {
    "tags": [
     "hide-input"
    ]
   },
   "outputs": [],
   "source": [
    "\n",
    "from itables import init_notebook_mode\n",
    "import itables.options as opt\n",
    "opt.lengthMenu = [60, 100, 300]\n",
    "opt.maxBytes = 0\n",
    "init_notebook_mode(all_interactive=True)    \n",
    "    "
   ]
  },
  {
   "cell_type": "code",
   "execution_count": null,
   "id": "9f1214ba",
   "metadata": {},
   "outputs": [],
   "source": [
    "\n",
    "import pathlib\n",
    "import pandas\n",
    "import json\n",
    "data = pathlib.Path(\"/home/runner/work/cvedata/cvedata/cvedata/data\", 'versioninfo-system32-full.json.gz')\n"
   ]
  },
  {
   "cell_type": "code",
   "execution_count": null,
   "id": "5d54296c",
   "metadata": {},
   "outputs": [],
   "source": [
    "import gzip\n",
    "with gzip.open(data) as f:\n",
    "    json_data = json.load(f)\n",
    "df = pandas.read_json(json.dumps(json_data))"
   ]
  },
  {
   "cell_type": "code",
   "execution_count": null,
   "id": "2dde81da",
   "metadata": {
    "tags": [
     "full-width"
    ]
   },
   "outputs": [],
   "source": [
    "df"
   ]
  }
 ],
 "metadata": {},
 "nbformat": 4,
 "nbformat_minor": 5
}
