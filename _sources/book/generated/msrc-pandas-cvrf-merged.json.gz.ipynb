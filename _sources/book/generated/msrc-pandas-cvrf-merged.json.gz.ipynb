{
 "cells": [
  {
   "cell_type": "markdown",
   "id": "f1af6945",
   "metadata": {},
   "source": [
    "# msrc-pandas-cvrf-merged.json.gz"
   ]
  },
  {
   "cell_type": "markdown",
   "id": "cdc5eddf",
   "metadata": {},
   "source": [
    "|               | msrc-pandas-cvrf-merged.json.gz     |\n",
    "|:--------------|:------------------------------------|\n",
    "| size          | 306005                              |\n",
    "| last_modified | 2022-12-05T16:38:15.860593          |\n",
    "| count         | 8                                   |\n",
    "| gen_time      | 5.149057865142822                   |\n",
    "| key_index     |                                     |\n",
    "| key_data      |                                     |\n",
    "| swap_axes     | False                               |\n",
    "| normalize     | False                               |\n",
    "| skip_book     | False                               |\n",
    "| sources       | ['https://api.msrc.microsoft.com/'] |"
   ]
  },
  {
   "cell_type": "code",
   "execution_count": null,
   "id": "52c01622",
   "metadata": {
    "tags": [
     "hide-input"
    ]
   },
   "outputs": [],
   "source": [
    "\n",
    "from itables import init_notebook_mode\n",
    "import itables.options as opt\n",
    "opt.lengthMenu = [60, 100, 300]\n",
    "opt.maxBytes = 0\n",
    "init_notebook_mode(all_interactive=True)    \n",
    "    "
   ]
  },
  {
   "cell_type": "code",
   "execution_count": null,
   "id": "f5a9f850",
   "metadata": {},
   "outputs": [],
   "source": [
    "\n",
    "import pathlib\n",
    "import pandas\n",
    "import json\n",
    "data = pathlib.Path(\"/home/runner/work/cvedata/cvedata/cvedata/data\", 'msrc-pandas-cvrf-merged.json.gz')\n"
   ]
  },
  {
   "cell_type": "code",
   "execution_count": null,
   "id": "efac0095",
   "metadata": {},
   "outputs": [],
   "source": [
    "import gzip\n",
    "with gzip.open(data) as f:\n",
    "    json_data = json.load(f)\n",
    "df = pandas.read_json(json.dumps(json_data))"
   ]
  },
  {
   "cell_type": "code",
   "execution_count": null,
   "id": "d55b58a7",
   "metadata": {
    "tags": [
     "full-width"
    ]
   },
   "outputs": [],
   "source": [
    "df"
   ]
  }
 ],
 "metadata": {},
 "nbformat": 4,
 "nbformat_minor": 5
}
