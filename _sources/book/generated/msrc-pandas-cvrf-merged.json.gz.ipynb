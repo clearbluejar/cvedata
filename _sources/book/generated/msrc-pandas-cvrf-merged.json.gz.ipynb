{
 "cells": [
  {
   "cell_type": "markdown",
   "id": "68ed4ae4",
   "metadata": {},
   "source": [
    "# msrc-pandas-cvrf-merged.json.gz"
   ]
  },
  {
   "cell_type": "markdown",
   "id": "f4899642",
   "metadata": {},
   "source": [
    "|               | msrc-pandas-cvrf-merged.json.gz     |\n",
    "|:--------------|:------------------------------------|\n",
    "| size          | 307069                              |\n",
    "| last_modified | 2022-11-22T06:30:33.908268          |\n",
    "| count         | 8                                   |\n",
    "| gen_time      | 5.08787727355957                    |\n",
    "| key_index     |                                     |\n",
    "| key_data      |                                     |\n",
    "| swap_axes     | False                               |\n",
    "| normalize     | False                               |\n",
    "| skip_book     | False                               |\n",
    "| sources       | ['https://api.msrc.microsoft.com/'] |"
   ]
  },
  {
   "cell_type": "code",
   "execution_count": null,
   "id": "c4609bdf",
   "metadata": {
    "tags": [
     "hide-input"
    ]
   },
   "outputs": [],
   "source": [
    "\n",
    "from itables import init_notebook_mode\n",
    "import itables.options as opt\n",
    "opt.lengthMenu = [60, 100, 300]\n",
    "opt.maxBytes = 0\n",
    "init_notebook_mode(all_interactive=True)    \n",
    "    "
   ]
  },
  {
   "cell_type": "code",
   "execution_count": null,
   "id": "aca675da",
   "metadata": {},
   "outputs": [],
   "source": [
    "\n",
    "import pathlib\n",
    "import pandas\n",
    "import json\n",
    "data = pathlib.Path(\"/home/runner/work/cvedata/cvedata/cvedata/data\", 'msrc-pandas-cvrf-merged.json.gz')\n"
   ]
  },
  {
   "cell_type": "code",
   "execution_count": null,
   "id": "375792f8",
   "metadata": {},
   "outputs": [],
   "source": [
    "import gzip\n",
    "with gzip.open(data) as f:\n",
    "    json_data = json.load(f)\n",
    "df = pandas.read_json(json.dumps(json_data))"
   ]
  },
  {
   "cell_type": "code",
   "execution_count": null,
   "id": "99103b10",
   "metadata": {
    "tags": [
     "full-width"
    ]
   },
   "outputs": [],
   "source": [
    "df"
   ]
  }
 ],
 "metadata": {},
 "nbformat": 4,
 "nbformat_minor": 5
}
