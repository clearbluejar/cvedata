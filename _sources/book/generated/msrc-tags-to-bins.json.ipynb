{
 "cells": [
  {
   "cell_type": "markdown",
   "id": "5100e46e",
   "metadata": {},
   "source": [
    "# msrc-tags-to-bins.json"
   ]
  },
  {
   "cell_type": "markdown",
   "id": "6168e2c4",
   "metadata": {},
   "source": [
    "|               | msrc-tags-to-bins.json                                                                                    |\n",
    "|:--------------|:----------------------------------------------------------------------------------------------------------|\n",
    "| size          | 301366                                                                                                    |\n",
    "| last_modified | 2022-10-25T11:29:04.929149                                                                                |\n",
    "| count         | 431                                                                                                       |\n",
    "| gen_time      | 55.172884702682495                                                                                        |\n",
    "| skip_book     | False                                                                                                     |\n",
    "| sources       | ['https://github.com/m417z/winbindex/archive/refs/heads/gh-pages.zip', 'https://api.msrc.microsoft.com/'] |\n",
    "| key_index     |                                                                                                           |\n",
    "| swap_axes     | True                                                                                                      |\n",
    "| normalize     | True                                                                                                      |"
   ]
  },
  {
   "cell_type": "code",
   "execution_count": null,
   "id": "04988fe1",
   "metadata": {
    "tags": [
     "hide-input"
    ]
   },
   "outputs": [],
   "source": [
    "\n",
    "from itables import init_notebook_mode\n",
    "import itables.options as opt\n",
    "opt.lengthMenu = [60, 100, 300]\n",
    "opt.maxBytes = 301366\n",
    "init_notebook_mode(all_interactive=True)    \n",
    "    "
   ]
  },
  {
   "cell_type": "code",
   "execution_count": null,
   "id": "15cd4c94",
   "metadata": {},
   "outputs": [],
   "source": [
    "\n",
    "import pathlib\n",
    "import pandas\n",
    "import json\n",
    "data = pathlib.Path('..','..','..','cvedata','data', 'msrc-tags-to-bins.json')\n",
    "    "
   ]
  },
  {
   "cell_type": "code",
   "execution_count": null,
   "id": "9268437a",
   "metadata": {},
   "outputs": [],
   "source": [
    "\n",
    "df = pandas.json_normalize(json.loads(data.read_text()))\n",
    "df = df.swapaxes('columns','index')"
   ]
  },
  {
   "cell_type": "code",
   "execution_count": null,
   "id": "d903c292",
   "metadata": {
    "tags": [
     "full-width"
    ]
   },
   "outputs": [],
   "source": [
    "df"
   ]
  }
 ],
 "metadata": {},
 "nbformat": 4,
 "nbformat_minor": 5
}
