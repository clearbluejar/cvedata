{
 "cells": [
  {
   "cell_type": "markdown",
   "id": "55d4c7d5",
   "metadata": {},
   "source": [
    "# msrc-cve-titles-combined-file-desc-sims.json"
   ]
  },
  {
   "cell_type": "markdown",
   "id": "67a1fb14",
   "metadata": {},
   "source": [
    "|               | msrc-cve-titles-combined-file-desc-sims.json                                                              |\n",
    "|:--------------|:----------------------------------------------------------------------------------------------------------|\n",
    "| size          | 5571638                                                                                                   |\n",
    "| last_modified | 2022-11-29T21:45:31.002956                                                                                |\n",
    "| count         | 7                                                                                                         |\n",
    "| gen_time      | 120.44147968292236                                                                                        |\n",
    "| key_index     |                                                                                                           |\n",
    "| key_data      |                                                                                                           |\n",
    "| swap_axes     | False                                                                                                     |\n",
    "| normalize     | False                                                                                                     |\n",
    "| skip_book     | False                                                                                                     |\n",
    "| sources       | ['https://github.com/m417z/winbindex/archive/refs/heads/gh-pages.zip', 'https://api.msrc.microsoft.com/'] |"
   ]
  },
  {
   "cell_type": "code",
   "execution_count": null,
   "id": "641383ca",
   "metadata": {
    "tags": [
     "hide-input"
    ]
   },
   "outputs": [],
   "source": [
    "\n",
    "from itables import init_notebook_mode\n",
    "import itables.options as opt\n",
    "opt.lengthMenu = [60, 100, 300]\n",
    "opt.maxBytes = 0\n",
    "init_notebook_mode(all_interactive=True)    \n",
    "    "
   ]
  },
  {
   "cell_type": "code",
   "execution_count": null,
   "id": "4478a9ac",
   "metadata": {},
   "outputs": [],
   "source": [
    "\n",
    "import pathlib\n",
    "import pandas\n",
    "import json\n",
    "data = pathlib.Path(\"/home/runner/work/cvedata/cvedata/cvedata/data\", 'msrc-cve-titles-combined-file-desc-sims.json')\n"
   ]
  },
  {
   "cell_type": "code",
   "execution_count": null,
   "id": "0335e4a1",
   "metadata": {},
   "outputs": [],
   "source": [
    "json_data = json.loads(data.read_text())\n",
    "df = pandas.read_json(json.dumps(json_data))"
   ]
  },
  {
   "cell_type": "code",
   "execution_count": null,
   "id": "b05427dd",
   "metadata": {
    "tags": [
     "full-width"
    ]
   },
   "outputs": [],
   "source": [
    "df"
   ]
  }
 ],
 "metadata": {},
 "nbformat": 4,
 "nbformat_minor": 5
}
