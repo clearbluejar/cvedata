{
 "cells": [
  {
   "cell_type": "markdown",
   "id": "3d1c5d3b",
   "metadata": {},
   "source": [
    "# researcher_twitter_map.json"
   ]
  },
  {
   "cell_type": "markdown",
   "id": "9a27a532",
   "metadata": {},
   "source": [
    "|               | researcher_twitter_map.json                                                  |\n",
    "|:--------------|:-----------------------------------------------------------------------------|\n",
    "| size          | 83962                                                                        |\n",
    "| last_modified | 2022-11-11T01:42:12.391809                                                   |\n",
    "| count         | 1874                                                                         |\n",
    "| gen_time      | 0.039990663528442                                                            |\n",
    "| sources       | ['https://chromereleases.googleblog.com', 'https://api.msrc.microsoft.com/'] |"
   ]
  },
  {
   "cell_type": "code",
   "execution_count": null,
   "id": "3e6c5174",
   "metadata": {
    "tags": [
     "hide-input"
    ]
   },
   "outputs": [],
   "source": [
    "\n",
    "from itables import init_notebook_mode\n",
    "import itables.options as opt\n",
    "opt.lengthMenu = [60, 100, 300]\n",
    "opt.maxBytes = 0\n",
    "init_notebook_mode(all_interactive=True)    \n",
    "    "
   ]
  },
  {
   "cell_type": "code",
   "execution_count": null,
   "id": "a6dfb2ae",
   "metadata": {},
   "outputs": [],
   "source": [
    "\n",
    "import pathlib\n",
    "import pandas\n",
    "import json\n",
    "data = pathlib.Path(\"/home/runner/work/cvedata/cvedata/cvedata/data\", 'researcher_twitter_map.json')\n"
   ]
  },
  {
   "cell_type": "code",
   "execution_count": null,
   "id": "a98601b9",
   "metadata": {},
   "outputs": [],
   "source": [
    "json_data = json.loads(data.read_text())\n",
    "df = pandas.read_json(json.dumps(json_data))\n",
    "df = df.swapaxes('columns','index')"
   ]
  },
  {
   "cell_type": "code",
   "execution_count": null,
   "id": "da81aba0",
   "metadata": {
    "tags": [
     "full-width"
    ]
   },
   "outputs": [],
   "source": [
    "df"
   ]
  }
 ],
 "metadata": {},
 "nbformat": 4,
 "nbformat_minor": 5
}
