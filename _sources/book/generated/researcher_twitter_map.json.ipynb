{
 "cells": [
  {
   "cell_type": "markdown",
   "id": "20add995",
   "metadata": {},
   "source": [
    "# researcher_twitter_map.json"
   ]
  },
  {
   "cell_type": "markdown",
   "id": "e189043f",
   "metadata": {},
   "source": [
    "|               | researcher_twitter_map.json                                                  |\n",
    "|:--------------|:-----------------------------------------------------------------------------|\n",
    "| size          | 83791                                                                        |\n",
    "| last_modified | 2022-11-19T12:21:35.318060                                                   |\n",
    "| count         | 1871                                                                         |\n",
    "| gen_time      | 0.043849229812622                                                            |\n",
    "| key_index     |                                                                              |\n",
    "| key_data      |                                                                              |\n",
    "| swap_axes     | True                                                                         |\n",
    "| normalize     | False                                                                        |\n",
    "| skip_book     | False                                                                        |\n",
    "| sources       | ['https://chromereleases.googleblog.com', 'https://api.msrc.microsoft.com/'] |"
   ]
  },
  {
   "cell_type": "code",
   "execution_count": null,
   "id": "7c97c343",
   "metadata": {
    "tags": [
     "hide-input"
    ]
   },
   "outputs": [],
   "source": [
    "\n",
    "from itables import init_notebook_mode\n",
    "import itables.options as opt\n",
    "opt.lengthMenu = [60, 100, 300]\n",
    "opt.maxBytes = 0\n",
    "init_notebook_mode(all_interactive=True)    \n",
    "    "
   ]
  },
  {
   "cell_type": "code",
   "execution_count": null,
   "id": "a0c4dcce",
   "metadata": {},
   "outputs": [],
   "source": [
    "\n",
    "import pathlib\n",
    "import pandas\n",
    "import json\n",
    "data = pathlib.Path(\"/home/runner/work/cvedata/cvedata/cvedata/data\", 'researcher_twitter_map.json')\n"
   ]
  },
  {
   "cell_type": "code",
   "execution_count": null,
   "id": "eccea265",
   "metadata": {},
   "outputs": [],
   "source": [
    "json_data = json.loads(data.read_text())\n",
    "df = pandas.read_json(json.dumps(json_data))\n",
    "df = df.swapaxes('columns','index')"
   ]
  },
  {
   "cell_type": "code",
   "execution_count": null,
   "id": "796e95f2",
   "metadata": {
    "tags": [
     "full-width"
    ]
   },
   "outputs": [],
   "source": [
    "df"
   ]
  }
 ],
 "metadata": {},
 "nbformat": 4,
 "nbformat_minor": 5
}
