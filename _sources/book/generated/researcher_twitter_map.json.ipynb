{
 "cells": [
  {
   "cell_type": "markdown",
   "id": "7b3292f4",
   "metadata": {},
   "source": [
    "# researcher_twitter_map.json"
   ]
  },
  {
   "cell_type": "markdown",
   "id": "c1c7d05c",
   "metadata": {},
   "source": [
    "|               | researcher_twitter_map.json                                                  |\n",
    "|:--------------|:-----------------------------------------------------------------------------|\n",
    "| size          | 83462                                                                        |\n",
    "| last_modified | 2022-10-25T11:25:16.157760                                                   |\n",
    "| count         | 1862                                                                         |\n",
    "| gen_time      | 0.02881646156311                                                             |\n",
    "| skip_book     | False                                                                        |\n",
    "| sources       | ['https://chromereleases.googleblog.com', 'https://api.msrc.microsoft.com/'] |\n",
    "| key_index     |                                                                              |\n",
    "| swap_axes     | True                                                                         |\n",
    "| normalize     | False                                                                        |"
   ]
  },
  {
   "cell_type": "code",
   "execution_count": null,
   "id": "553cc4aa",
   "metadata": {
    "tags": [
     "hide-input"
    ]
   },
   "outputs": [],
   "source": [
    "\n",
    "from itables import init_notebook_mode\n",
    "import itables.options as opt\n",
    "opt.lengthMenu = [60, 100, 300]\n",
    "opt.maxBytes = 83462\n",
    "init_notebook_mode(all_interactive=True)    \n",
    "    "
   ]
  },
  {
   "cell_type": "code",
   "execution_count": null,
   "id": "5969e7ff",
   "metadata": {},
   "outputs": [],
   "source": [
    "\n",
    "import pathlib\n",
    "import pandas\n",
    "import json\n",
    "data = pathlib.Path('..','..','..','cvedata','data', 'researcher_twitter_map.json')\n",
    "    "
   ]
  },
  {
   "cell_type": "code",
   "execution_count": null,
   "id": "8ed63511",
   "metadata": {},
   "outputs": [],
   "source": [
    "\n",
    "df = pandas.read_json(data)\n",
    "df = df.swapaxes('columns','index')"
   ]
  },
  {
   "cell_type": "code",
   "execution_count": null,
   "id": "ad701122",
   "metadata": {
    "tags": [
     "full-width"
    ]
   },
   "outputs": [],
   "source": [
    "df"
   ]
  }
 ],
 "metadata": {},
 "nbformat": 4,
 "nbformat_minor": 5
}
