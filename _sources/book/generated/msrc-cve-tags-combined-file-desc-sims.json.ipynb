{
 "cells": [
  {
   "cell_type": "markdown",
   "id": "6df09acc",
   "metadata": {},
   "source": [
    "# msrc-cve-tags-combined-file-desc-sims.json"
   ]
  },
  {
   "cell_type": "markdown",
   "id": "11759676",
   "metadata": {},
   "source": [
    "|               | msrc-cve-tags-combined-file-desc-sims.json                                                                |\n",
    "|:--------------|:----------------------------------------------------------------------------------------------------------|\n",
    "| size          | 2241075                                                                                                   |\n",
    "| last_modified | 2022-12-05T16:43:21.154551                                                                                |\n",
    "| count         | 7                                                                                                         |\n",
    "| gen_time      | 119.24831318855286                                                                                        |\n",
    "| key_index     |                                                                                                           |\n",
    "| key_data      |                                                                                                           |\n",
    "| swap_axes     | False                                                                                                     |\n",
    "| normalize     | False                                                                                                     |\n",
    "| skip_book     | False                                                                                                     |\n",
    "| sources       | ['https://github.com/m417z/winbindex/archive/refs/heads/gh-pages.zip', 'https://api.msrc.microsoft.com/'] |"
   ]
  },
  {
   "cell_type": "code",
   "execution_count": null,
   "id": "da977113",
   "metadata": {
    "tags": [
     "hide-input"
    ]
   },
   "outputs": [],
   "source": [
    "\n",
    "from itables import init_notebook_mode\n",
    "import itables.options as opt\n",
    "opt.lengthMenu = [60, 100, 300]\n",
    "opt.maxBytes = 0\n",
    "init_notebook_mode(all_interactive=True)    \n",
    "    "
   ]
  },
  {
   "cell_type": "code",
   "execution_count": null,
   "id": "d8a4aa90",
   "metadata": {},
   "outputs": [],
   "source": [
    "\n",
    "import pathlib\n",
    "import pandas\n",
    "import json\n",
    "data = pathlib.Path(\"/home/runner/work/cvedata/cvedata/cvedata/data\", 'msrc-cve-tags-combined-file-desc-sims.json')\n"
   ]
  },
  {
   "cell_type": "code",
   "execution_count": null,
   "id": "29f45e8f",
   "metadata": {},
   "outputs": [],
   "source": [
    "json_data = json.loads(data.read_text())\n",
    "df = pandas.read_json(json.dumps(json_data))"
   ]
  },
  {
   "cell_type": "code",
   "execution_count": null,
   "id": "2223b993",
   "metadata": {
    "tags": [
     "full-width"
    ]
   },
   "outputs": [],
   "source": [
    "df"
   ]
  }
 ],
 "metadata": {},
 "nbformat": 4,
 "nbformat_minor": 5
}
