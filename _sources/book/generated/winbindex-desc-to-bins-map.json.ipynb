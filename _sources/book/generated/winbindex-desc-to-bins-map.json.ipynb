{
 "cells": [
  {
   "cell_type": "markdown",
   "id": "b1b68973",
   "metadata": {},
   "source": [
    "# winbindex-desc-to-bins-map.json"
   ]
  },
  {
   "cell_type": "markdown",
   "id": "234fac38",
   "metadata": {},
   "source": [
    "|               | winbindex-desc-to-bins-map.json                                        |\n",
    "|:--------------|:-----------------------------------------------------------------------|\n",
    "| size          | 876798                                                                 |\n",
    "| last_modified | 2022-11-19T12:19:21.772252                                             |\n",
    "| count         | 9068                                                                   |\n",
    "| gen_time      | 154.79562759399414                                                     |\n",
    "| key_index     |                                                                        |\n",
    "| key_data      |                                                                        |\n",
    "| swap_axes     | True                                                                   |\n",
    "| normalize     | True                                                                   |\n",
    "| skip_book     | False                                                                  |\n",
    "| sources       | ['https://github.com/m417z/winbindex/archive/refs/heads/gh-pages.zip'] |"
   ]
  },
  {
   "cell_type": "code",
   "execution_count": null,
   "id": "ae87dc14",
   "metadata": {
    "tags": [
     "hide-input"
    ]
   },
   "outputs": [],
   "source": [
    "\n",
    "from itables import init_notebook_mode\n",
    "import itables.options as opt\n",
    "opt.lengthMenu = [60, 100, 300]\n",
    "opt.maxBytes = 0\n",
    "init_notebook_mode(all_interactive=True)    \n",
    "    "
   ]
  },
  {
   "cell_type": "code",
   "execution_count": null,
   "id": "5ca8b9aa",
   "metadata": {},
   "outputs": [],
   "source": [
    "\n",
    "import pathlib\n",
    "import pandas\n",
    "import json\n",
    "data = pathlib.Path(\"/home/runner/work/cvedata/cvedata/cvedata/data\", 'winbindex-desc-to-bins-map.json')\n"
   ]
  },
  {
   "cell_type": "code",
   "execution_count": null,
   "id": "854d9833",
   "metadata": {},
   "outputs": [],
   "source": [
    "json_data = json.loads(data.read_text())\n",
    "df = pandas.json_normalize(json_data)\n",
    "df = df.swapaxes('columns','index')"
   ]
  },
  {
   "cell_type": "code",
   "execution_count": null,
   "id": "9dc60c5c",
   "metadata": {
    "tags": [
     "full-width"
    ]
   },
   "outputs": [],
   "source": [
    "df"
   ]
  }
 ],
 "metadata": {},
 "nbformat": 4,
 "nbformat_minor": 5
}
