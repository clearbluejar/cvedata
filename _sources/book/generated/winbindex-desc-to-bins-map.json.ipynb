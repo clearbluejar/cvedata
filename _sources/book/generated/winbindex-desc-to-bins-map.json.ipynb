{
 "cells": [
  {
   "cell_type": "markdown",
   "id": "9f450b64",
   "metadata": {},
   "source": [
    "# winbindex-desc-to-bins-map.json"
   ]
  },
  {
   "cell_type": "markdown",
   "id": "28e30052",
   "metadata": {},
   "source": [
    "|               | winbindex-desc-to-bins-map.json                                        |\n",
    "|:--------------|:-----------------------------------------------------------------------|\n",
    "| size          | 876798                                                                 |\n",
    "| last_modified | 2022-11-19T12:19:21.772252                                             |\n",
    "| count         | 9068                                                                   |\n",
    "| gen_time      | 154.79562759399414                                                     |\n",
    "| key_index     |                                                                        |\n",
    "| key_data      |                                                                        |\n",
    "| swap_axes     | True                                                                   |\n",
    "| normalize     | True                                                                   |\n",
    "| skip_book     | False                                                                  |\n",
    "| sources       | ['https://github.com/m417z/winbindex/archive/refs/heads/gh-pages.zip'] |"
   ]
  },
  {
   "cell_type": "code",
   "execution_count": null,
   "id": "4a94b780",
   "metadata": {
    "tags": [
     "hide-input"
    ]
   },
   "outputs": [],
   "source": [
    "\n",
    "from itables import init_notebook_mode\n",
    "import itables.options as opt\n",
    "opt.lengthMenu = [60, 100, 300]\n",
    "opt.maxBytes = 0\n",
    "init_notebook_mode(all_interactive=True)    \n",
    "    "
   ]
  },
  {
   "cell_type": "code",
   "execution_count": null,
   "id": "f51ab793",
   "metadata": {},
   "outputs": [],
   "source": [
    "\n",
    "import pathlib\n",
    "import pandas\n",
    "import json\n",
    "data = pathlib.Path(\"/home/runner/work/cvedata/cvedata/cvedata/data\", 'winbindex-desc-to-bins-map.json')\n"
   ]
  },
  {
   "cell_type": "code",
   "execution_count": null,
   "id": "3a235154",
   "metadata": {},
   "outputs": [],
   "source": [
    "json_data = json.loads(data.read_text())\n",
    "df = pandas.json_normalize(json_data)\n",
    "df = df.swapaxes('columns','index')"
   ]
  },
  {
   "cell_type": "code",
   "execution_count": null,
   "id": "b6dc85dc",
   "metadata": {
    "tags": [
     "full-width"
    ]
   },
   "outputs": [],
   "source": [
    "df"
   ]
  }
 ],
 "metadata": {},
 "nbformat": 4,
 "nbformat_minor": 5
}
