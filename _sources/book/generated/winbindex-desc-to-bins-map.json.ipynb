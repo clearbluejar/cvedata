{
 "cells": [
  {
   "cell_type": "markdown",
   "id": "e4932385",
   "metadata": {},
   "source": [
    "# winbindex-desc-to-bins-map.json"
   ]
  },
  {
   "cell_type": "markdown",
   "id": "18cf39d8",
   "metadata": {},
   "source": [
    "|               | winbindex-desc-to-bins-map.json                                        |\n",
    "|:--------------|:-----------------------------------------------------------------------|\n",
    "| size          | 876904                                                                 |\n",
    "| last_modified | 2022-11-22T06:33:42.258770                                             |\n",
    "| count         | 9069                                                                   |\n",
    "| gen_time      | 163.7973508834839                                                      |\n",
    "| key_index     |                                                                        |\n",
    "| key_data      |                                                                        |\n",
    "| swap_axes     | True                                                                   |\n",
    "| normalize     | True                                                                   |\n",
    "| skip_book     | False                                                                  |\n",
    "| sources       | ['https://github.com/m417z/winbindex/archive/refs/heads/gh-pages.zip'] |"
   ]
  },
  {
   "cell_type": "code",
   "execution_count": null,
   "id": "b702a36c",
   "metadata": {
    "tags": [
     "hide-input"
    ]
   },
   "outputs": [],
   "source": [
    "\n",
    "from itables import init_notebook_mode\n",
    "import itables.options as opt\n",
    "opt.lengthMenu = [60, 100, 300]\n",
    "opt.maxBytes = 0\n",
    "init_notebook_mode(all_interactive=True)    \n",
    "    "
   ]
  },
  {
   "cell_type": "code",
   "execution_count": null,
   "id": "b891dbde",
   "metadata": {},
   "outputs": [],
   "source": [
    "\n",
    "import pathlib\n",
    "import pandas\n",
    "import json\n",
    "data = pathlib.Path(\"/home/runner/work/cvedata/cvedata/cvedata/data\", 'winbindex-desc-to-bins-map.json')\n"
   ]
  },
  {
   "cell_type": "code",
   "execution_count": null,
   "id": "e91de5c0",
   "metadata": {},
   "outputs": [],
   "source": [
    "json_data = json.loads(data.read_text())\n",
    "df = pandas.json_normalize(json_data)\n",
    "df = df.swapaxes('columns','index')"
   ]
  },
  {
   "cell_type": "code",
   "execution_count": null,
   "id": "11c9f1e9",
   "metadata": {
    "tags": [
     "full-width"
    ]
   },
   "outputs": [],
   "source": [
    "df"
   ]
  }
 ],
 "metadata": {},
 "nbformat": 4,
 "nbformat_minor": 5
}
