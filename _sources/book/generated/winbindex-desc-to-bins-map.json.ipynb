{
 "cells": [
  {
   "cell_type": "markdown",
   "id": "f2c18663",
   "metadata": {},
   "source": [
    "# winbindex-desc-to-bins-map.json"
   ]
  },
  {
   "cell_type": "markdown",
   "id": "44f2d1b6",
   "metadata": {},
   "source": [
    "|               | winbindex-desc-to-bins-map.json                                        |\n",
    "|:--------------|:-----------------------------------------------------------------------|\n",
    "| size          | 876088                                                                 |\n",
    "| last_modified | 2022-10-25T10:20:59.837984                                             |\n",
    "| count         | 9061                                                                   |\n",
    "| gen_time      | 151.192556142807                                                       |\n",
    "| skip_book     | False                                                                  |\n",
    "| sources       | ['https://github.com/m417z/winbindex/archive/refs/heads/gh-pages.zip'] |\n",
    "| key_index     |                                                                        |\n",
    "| swap_axes     | True                                                                   |\n",
    "| normalize     | True                                                                   |"
   ]
  },
  {
   "cell_type": "code",
   "execution_count": null,
   "id": "181a286b",
   "metadata": {
    "tags": [
     "hide-input"
    ]
   },
   "outputs": [],
   "source": [
    "\n",
    "from itables import init_notebook_mode\n",
    "import itables.options as opt\n",
    "opt.lengthMenu = [60, 100, 300]\n",
    "opt.maxBytes = 876088\n",
    "init_notebook_mode(all_interactive=True)    \n",
    "    "
   ]
  },
  {
   "cell_type": "code",
   "execution_count": null,
   "id": "0fe6db56",
   "metadata": {},
   "outputs": [],
   "source": [
    "\n",
    "import pathlib\n",
    "import pandas\n",
    "import json\n",
    "data = pathlib.Path('..','..','..','cvedata','data', 'winbindex-desc-to-bins-map.json')\n",
    "    "
   ]
  },
  {
   "cell_type": "code",
   "execution_count": null,
   "id": "b5d3408f",
   "metadata": {},
   "outputs": [],
   "source": [
    "\n",
    "df = pandas.json_normalize(json.loads(data.read_text()))\n",
    "df = df.swapaxes('columns','index')"
   ]
  },
  {
   "cell_type": "code",
   "execution_count": null,
   "id": "d9e81653",
   "metadata": {
    "tags": [
     "full-width"
    ]
   },
   "outputs": [],
   "source": [
    "df"
   ]
  }
 ],
 "metadata": {},
 "nbformat": 4,
 "nbformat_minor": 5
}
