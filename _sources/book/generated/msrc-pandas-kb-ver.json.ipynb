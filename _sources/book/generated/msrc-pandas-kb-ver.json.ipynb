{
 "cells": [
  {
   "cell_type": "markdown",
   "id": "d248e2f7",
   "metadata": {},
   "source": [
    "# msrc-pandas-kb-ver.json"
   ]
  },
  {
   "cell_type": "markdown",
   "id": "f524be6e",
   "metadata": {},
   "source": [
    "|               | msrc-pandas-kb-ver.json             |\n",
    "|:--------------|:------------------------------------|\n",
    "| size          | 38726                               |\n",
    "| last_modified | 2022-12-14T04:07:49.470893          |\n",
    "| count         | 2                                   |\n",
    "| gen_time      | 0.085093736648559                   |\n",
    "| key_index     |                                     |\n",
    "| key_data      |                                     |\n",
    "| swap_axes     | False                               |\n",
    "| normalize     | False                               |\n",
    "| skip_book     | False                               |\n",
    "| sources       | ['https://api.msrc.microsoft.com/'] |"
   ]
  },
  {
   "cell_type": "code",
   "execution_count": null,
   "id": "90b152c0",
   "metadata": {
    "tags": [
     "hide-input"
    ]
   },
   "outputs": [],
   "source": [
    "\n",
    "from itables import init_notebook_mode\n",
    "import itables.options as opt\n",
    "opt.lengthMenu = [60, 100, 300]\n",
    "opt.maxBytes = 0\n",
    "init_notebook_mode(all_interactive=True)    \n",
    "    "
   ]
  },
  {
   "cell_type": "code",
   "execution_count": null,
   "id": "c204d871",
   "metadata": {},
   "outputs": [],
   "source": [
    "\n",
    "import pathlib\n",
    "import pandas\n",
    "import json\n",
    "data = pathlib.Path(\"/home/runner/work/cvedata/cvedata/cvedata/data\", 'msrc-pandas-kb-ver.json')\n"
   ]
  },
  {
   "cell_type": "code",
   "execution_count": null,
   "id": "36a1c63b",
   "metadata": {},
   "outputs": [],
   "source": [
    "json_data = json.loads(data.read_text())\n",
    "df = pandas.read_json(json.dumps(json_data))"
   ]
  },
  {
   "cell_type": "code",
   "execution_count": null,
   "id": "4a23c57f",
   "metadata": {
    "tags": [
     "full-width"
    ]
   },
   "outputs": [],
   "source": [
    "df"
   ]
  }
 ],
 "metadata": {},
 "nbformat": 4,
 "nbformat_minor": 5
}
