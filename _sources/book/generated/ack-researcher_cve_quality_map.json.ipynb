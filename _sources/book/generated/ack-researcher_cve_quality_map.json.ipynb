{
 "cells": [
  {
   "cell_type": "markdown",
   "id": "6e6a92d1",
   "metadata": {},
   "source": [
    "# ack-researcher_cve_quality_map.json"
   ]
  },
  {
   "cell_type": "markdown",
   "id": "85ad70b1",
   "metadata": {},
   "source": [
    "|               | ack-researcher_cve_quality_map.json                                          |\n",
    "|:--------------|:-----------------------------------------------------------------------------|\n",
    "| size          | 118836                                                                       |\n",
    "| last_modified | 2022-11-22T06:40:24.296265                                                   |\n",
    "| count         | 3                                                                            |\n",
    "| gen_time      | 59.91763615608215                                                            |\n",
    "| key_index     |                                                                              |\n",
    "| key_data      |                                                                              |\n",
    "| swap_axes     | False                                                                        |\n",
    "| normalize     | False                                                                        |\n",
    "| skip_book     | False                                                                        |\n",
    "| sources       | ['https://chromereleases.googleblog.com', 'https://api.msrc.microsoft.com/'] |"
   ]
  },
  {
   "cell_type": "code",
   "execution_count": null,
   "id": "608b019c",
   "metadata": {
    "tags": [
     "hide-input"
    ]
   },
   "outputs": [],
   "source": [
    "\n",
    "from itables import init_notebook_mode\n",
    "import itables.options as opt\n",
    "opt.lengthMenu = [60, 100, 300]\n",
    "opt.maxBytes = 0\n",
    "init_notebook_mode(all_interactive=True)    \n",
    "    "
   ]
  },
  {
   "cell_type": "code",
   "execution_count": null,
   "id": "b07d16ac",
   "metadata": {},
   "outputs": [],
   "source": [
    "\n",
    "import pathlib\n",
    "import pandas\n",
    "import json\n",
    "data = pathlib.Path(\"/home/runner/work/cvedata/cvedata/cvedata/data\", 'ack-researcher_cve_quality_map.json')\n"
   ]
  },
  {
   "cell_type": "code",
   "execution_count": null,
   "id": "89ff99f9",
   "metadata": {},
   "outputs": [],
   "source": [
    "json_data = json.loads(data.read_text())\n",
    "df = pandas.read_json(json.dumps(json_data))"
   ]
  },
  {
   "cell_type": "code",
   "execution_count": null,
   "id": "a0fa0a6c",
   "metadata": {
    "tags": [
     "full-width"
    ]
   },
   "outputs": [],
   "source": [
    "df"
   ]
  }
 ],
 "metadata": {},
 "nbformat": 4,
 "nbformat_minor": 5
}
