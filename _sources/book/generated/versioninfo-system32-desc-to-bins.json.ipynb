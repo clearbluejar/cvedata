{
 "cells": [
  {
   "cell_type": "markdown",
   "id": "ef764a81",
   "metadata": {},
   "source": [
    "# versioninfo-system32-desc-to-bins.json"
   ]
  },
  {
   "cell_type": "markdown",
   "id": "fb7c9f67",
   "metadata": {},
   "source": [
    "|               | versioninfo-system32-desc-to-bins.json                                                                                                                                                                                                                                                                                                                                                                                            |\n",
    "|:--------------|:----------------------------------------------------------------------------------------------------------------------------------------------------------------------------------------------------------------------------------------------------------------------------------------------------------------------------------------------------------------------------------------------------------------------------------|\n",
    "| size          | 716172                                                                                                                                                                                                                                                                                                                                                                                                                            |\n",
    "| last_modified | 2022-11-19T12:19:40.544660                                                                                                                                                                                                                                                                                                                                                                                                        |\n",
    "| count         | 24                                                                                                                                                                                                                                                                                                                                                                                                                                |\n",
    "| gen_time      | 1.024763107299804                                                                                                                                                                                                                                                                                                                                                                                                                 |\n",
    "| key_index     |                                                                                                                                                                                                                                                                                                                                                                                                                                   |\n",
    "| key_data      |                                                                                                                                                                                                                                                                                                                                                                                                                                   |\n",
    "| swap_axes     | False                                                                                                                                                                                                                                                                                                                                                                                                                             |\n",
    "| normalize     | False                                                                                                                                                                                                                                                                                                                                                                                                                             |\n",
    "| skip_book     | False                                                                                                                                                                                                                                                                                                                                                                                                                             |\n",
    "| sources       | ['https://github.com/clearbluejar/win-sys32-versioninfo/releases/download/v0.1.0/10.0.22621.0-versioninfo-system32.json', 'https://github.com/clearbluejar/win-sys32-versioninfo/releases/download/v0.1.0/10.0.20348.0-versioninfo-system32-winprogiles-recurse.json', 'https://github.com/clearbluejar/win-sys32-versioninfo/releases/download/v0.1.0/10.0.19045.0-versioninfo-system32-winprogiles-recurse-o365-compress.json'] |"
   ]
  },
  {
   "cell_type": "code",
   "execution_count": null,
   "id": "d5edb200",
   "metadata": {
    "tags": [
     "hide-input"
    ]
   },
   "outputs": [],
   "source": [
    "\n",
    "from itables import init_notebook_mode\n",
    "import itables.options as opt\n",
    "opt.lengthMenu = [60, 100, 300]\n",
    "opt.maxBytes = 0\n",
    "init_notebook_mode(all_interactive=True)    \n",
    "    "
   ]
  },
  {
   "cell_type": "code",
   "execution_count": null,
   "id": "ea195cd9",
   "metadata": {},
   "outputs": [],
   "source": [
    "\n",
    "import pathlib\n",
    "import pandas\n",
    "import json\n",
    "data = pathlib.Path(\"/home/runner/work/cvedata/cvedata/cvedata/data\", 'versioninfo-system32-desc-to-bins.json')\n"
   ]
  },
  {
   "cell_type": "code",
   "execution_count": null,
   "id": "7ebc6dc1",
   "metadata": {},
   "outputs": [],
   "source": [
    "json_data = json.loads(data.read_text())\n",
    "df = pandas.read_json(json.dumps(json_data))"
   ]
  },
  {
   "cell_type": "code",
   "execution_count": null,
   "id": "61ef308c",
   "metadata": {
    "tags": [
     "full-width"
    ]
   },
   "outputs": [],
   "source": [
    "df"
   ]
  }
 ],
 "metadata": {},
 "nbformat": 4,
 "nbformat_minor": 5
}
