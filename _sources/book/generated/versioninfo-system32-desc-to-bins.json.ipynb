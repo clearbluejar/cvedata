{
 "cells": [
  {
   "cell_type": "markdown",
   "id": "89e819fe",
   "metadata": {},
   "source": [
    "# versioninfo-system32-desc-to-bins.json"
   ]
  },
  {
   "cell_type": "markdown",
   "id": "ee50417f",
   "metadata": {},
   "source": [
    "|               | versioninfo-system32-desc-to-bins.json   |\n",
    "|:--------------|:-----------------------------------------|\n",
    "| size          | 219941                                   |\n",
    "| last_modified | 2022-11-11T01:39:50.186653               |\n",
    "| count         | 24                                       |\n",
    "| gen_time      | 0.19194221496582                         |\n",
    "| sources       | ['C:\\\\Windows\\\\System32']                |"
   ]
  },
  {
   "cell_type": "code",
   "execution_count": null,
   "id": "26bad42f",
   "metadata": {
    "tags": [
     "hide-input"
    ]
   },
   "outputs": [],
   "source": [
    "\n",
    "from itables import init_notebook_mode\n",
    "import itables.options as opt\n",
    "opt.lengthMenu = [60, 100, 300]\n",
    "opt.maxBytes = 0\n",
    "init_notebook_mode(all_interactive=True)    \n",
    "    "
   ]
  },
  {
   "cell_type": "code",
   "execution_count": null,
   "id": "bfca1f7b",
   "metadata": {},
   "outputs": [],
   "source": [
    "\n",
    "import pathlib\n",
    "import pandas\n",
    "import json\n",
    "data = pathlib.Path(\"/home/runner/work/cvedata/cvedata/cvedata/data\", 'versioninfo-system32-desc-to-bins.json')\n"
   ]
  },
  {
   "cell_type": "code",
   "execution_count": null,
   "id": "6dc81444",
   "metadata": {},
   "outputs": [],
   "source": [
    "json_data = json.loads(data.read_text())\n",
    "df = pandas.read_json(json.dumps(json_data))"
   ]
  },
  {
   "cell_type": "code",
   "execution_count": null,
   "id": "3d9b03cc",
   "metadata": {
    "tags": [
     "full-width"
    ]
   },
   "outputs": [],
   "source": [
    "df"
   ]
  }
 ],
 "metadata": {},
 "nbformat": 4,
 "nbformat_minor": 5
}
