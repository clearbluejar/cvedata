{
 "cells": [
  {
   "cell_type": "markdown",
   "id": "98c5c0cd",
   "metadata": {},
   "source": [
    "# msrc_cvrf_merged.json.gz"
   ]
  },
  {
   "cell_type": "markdown",
   "id": "ae02a438",
   "metadata": {},
   "source": [
    "|               | msrc_cvrf_merged.json.gz            |\n",
    "|:--------------|:------------------------------------|\n",
    "| size          | 4555981                             |\n",
    "| last_modified | 2022-11-11T01:15:34.690407          |\n",
    "| count         | 80                                  |\n",
    "| gen_time      | 59.129507064819336                  |\n",
    "| sources       | ['https://api.msrc.microsoft.com/'] |"
   ]
  }
 ],
 "metadata": {},
 "nbformat": 4,
 "nbformat_minor": 5
}
