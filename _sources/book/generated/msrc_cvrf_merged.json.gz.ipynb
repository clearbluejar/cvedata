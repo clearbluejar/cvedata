{
 "cells": [
  {
   "cell_type": "markdown",
   "id": "c1d66d4f",
   "metadata": {},
   "source": [
    "# msrc_cvrf_merged.json.gz"
   ]
  },
  {
   "cell_type": "markdown",
   "id": "2662b09c",
   "metadata": {},
   "source": [
    "|               | msrc_cvrf_merged.json.gz            |\n",
    "|:--------------|:------------------------------------|\n",
    "| size          | 4497761                             |\n",
    "| last_modified | 2022-10-25T11:23:22.392199          |\n",
    "| count         | 79                                  |\n",
    "| gen_time      | 99.50728440284729                   |\n",
    "| skip_book     | True                                |\n",
    "| sources       | ['https://api.msrc.microsoft.com/'] |\n",
    "| key_index     | nan                                 |\n",
    "| swap_axes     | nan                                 |\n",
    "| normalize     | nan                                 |"
   ]
  }
 ],
 "metadata": {},
 "nbformat": 4,
 "nbformat_minor": 5
}
