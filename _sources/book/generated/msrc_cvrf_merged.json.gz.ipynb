{
 "cells": [
  {
   "cell_type": "markdown",
   "id": "f3aa1cec",
   "metadata": {},
   "source": [
    "# msrc_cvrf_merged.json.gz"
   ]
  },
  {
   "cell_type": "markdown",
   "id": "683b2b94",
   "metadata": {},
   "source": [
    "|               | msrc_cvrf_merged.json.gz            |\n",
    "|:--------------|:------------------------------------|\n",
    "| size          | 4497761                             |\n",
    "| last_modified | 2022-10-25T10:15:54.663566          |\n",
    "| count         | 79                                  |\n",
    "| gen_time      | 70.5021390914917                    |\n",
    "| skip_book     | True                                |\n",
    "| sources       | ['https://api.msrc.microsoft.com/'] |\n",
    "| key_index     | nan                                 |\n",
    "| swap_axes     | nan                                 |\n",
    "| normalize     | nan                                 |"
   ]
  }
 ],
 "metadata": {},
 "nbformat": 4,
 "nbformat_minor": 5
}
