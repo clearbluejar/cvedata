{
 "cells": [
  {
   "cell_type": "markdown",
   "id": "b6d43aa0",
   "metadata": {},
   "source": [
    "# msrc_cvrf_merged.json.gz"
   ]
  },
  {
   "cell_type": "markdown",
   "id": "1f88f17c",
   "metadata": {},
   "source": [
    "|               | msrc_cvrf_merged.json.gz            |\n",
    "|:--------------|:------------------------------------|\n",
    "| size          | 4559162                             |\n",
    "| last_modified | 2022-11-19T12:02:36.331744          |\n",
    "| count         | 80                                  |\n",
    "| gen_time      | 90.26401734352112                   |\n",
    "| key_index     |                                     |\n",
    "| key_data      |                                     |\n",
    "| swap_axes     | False                               |\n",
    "| normalize     | False                               |\n",
    "| skip_book     | True                                |\n",
    "| sources       | ['https://api.msrc.microsoft.com/'] |"
   ]
  }
 ],
 "metadata": {},
 "nbformat": 4,
 "nbformat_minor": 5
}
