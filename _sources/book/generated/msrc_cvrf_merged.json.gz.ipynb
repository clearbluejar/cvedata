{
 "cells": [
  {
   "cell_type": "markdown",
   "id": "bf9075cb",
   "metadata": {},
   "source": [
    "# msrc_cvrf_merged.json.gz"
   ]
  },
  {
   "cell_type": "markdown",
   "id": "29eb7ac0",
   "metadata": {},
   "source": [
    "|               | msrc_cvrf_merged.json.gz            |\n",
    "|:--------------|:------------------------------------|\n",
    "| size          | 4559162                             |\n",
    "| last_modified | 2022-11-19T12:02:36.331744          |\n",
    "| count         | 80                                  |\n",
    "| gen_time      | 90.26401734352112                   |\n",
    "| key_index     |                                     |\n",
    "| key_data      |                                     |\n",
    "| swap_axes     | False                               |\n",
    "| normalize     | False                               |\n",
    "| skip_book     | True                                |\n",
    "| sources       | ['https://api.msrc.microsoft.com/'] |"
   ]
  }
 ],
 "metadata": {},
 "nbformat": 4,
 "nbformat_minor": 5
}
