{
 "cells": [
  {
   "cell_type": "markdown",
   "id": "8a3c2544",
   "metadata": {},
   "source": [
    "# msrc-kb-ver.json"
   ]
  },
  {
   "cell_type": "markdown",
   "id": "e5c685c9",
   "metadata": {},
   "source": [
    "|               | msrc-kb-ver.json                    |\n",
    "|:--------------|:------------------------------------|\n",
    "| size          | 38652                               |\n",
    "| last_modified | 2022-11-11T01:36:51.129113          |\n",
    "| count         | 2                                   |\n",
    "| gen_time      | 24.13603663444519                   |\n",
    "| key_index     |                                     |\n",
    "| key_data      |                                     |\n",
    "| swap_axes     | False                               |\n",
    "| normalize     | False                               |\n",
    "| skip_book     | False                               |\n",
    "| sources       | ['https://api.msrc.microsoft.com/'] |"
   ]
  },
  {
   "cell_type": "code",
   "execution_count": null,
   "id": "003a7fa8",
   "metadata": {
    "tags": [
     "hide-input"
    ]
   },
   "outputs": [],
   "source": [
    "\n",
    "from itables import init_notebook_mode\n",
    "import itables.options as opt\n",
    "opt.lengthMenu = [60, 100, 300]\n",
    "opt.maxBytes = 0\n",
    "init_notebook_mode(all_interactive=True)    \n",
    "    "
   ]
  },
  {
   "cell_type": "code",
   "execution_count": null,
   "id": "8ebd2d81",
   "metadata": {},
   "outputs": [],
   "source": [
    "\n",
    "import pathlib\n",
    "import pandas\n",
    "import json\n",
    "data = pathlib.Path(\"/home/runner/work/cvedata/cvedata/cvedata/data\", 'msrc-kb-ver.json')\n"
   ]
  },
  {
   "cell_type": "code",
   "execution_count": null,
   "id": "184dae31",
   "metadata": {},
   "outputs": [],
   "source": [
    "json_data = json.loads(data.read_text())\n",
    "df = pandas.read_json(json.dumps(json_data))"
   ]
  },
  {
   "cell_type": "code",
   "execution_count": null,
   "id": "0c237702",
   "metadata": {
    "tags": [
     "full-width"
    ]
   },
   "outputs": [],
   "source": [
    "df"
   ]
  }
 ],
 "metadata": {},
 "nbformat": 4,
 "nbformat_minor": 5
}
