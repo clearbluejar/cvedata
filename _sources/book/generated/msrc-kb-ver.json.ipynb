{
 "cells": [
  {
   "cell_type": "markdown",
   "id": "f8c59c45",
   "metadata": {},
   "source": [
    "# msrc-kb-ver.json"
   ]
  },
  {
   "cell_type": "markdown",
   "id": "e3078b35",
   "metadata": {},
   "source": [
    "|               | msrc-kb-ver.json                    |\n",
    "|:--------------|:------------------------------------|\n",
    "| size          | 38726                               |\n",
    "| last_modified | 2022-11-19T12:16:47.893552          |\n",
    "| count         | 2                                   |\n",
    "| gen_time      | 17.10971689224243                   |\n",
    "| key_index     |                                     |\n",
    "| key_data      |                                     |\n",
    "| swap_axes     | False                               |\n",
    "| normalize     | False                               |\n",
    "| skip_book     | False                               |\n",
    "| sources       | ['https://api.msrc.microsoft.com/'] |"
   ]
  },
  {
   "cell_type": "code",
   "execution_count": null,
   "id": "1f68cd02",
   "metadata": {
    "tags": [
     "hide-input"
    ]
   },
   "outputs": [],
   "source": [
    "\n",
    "from itables import init_notebook_mode\n",
    "import itables.options as opt\n",
    "opt.lengthMenu = [60, 100, 300]\n",
    "opt.maxBytes = 0\n",
    "init_notebook_mode(all_interactive=True)    \n",
    "    "
   ]
  },
  {
   "cell_type": "code",
   "execution_count": null,
   "id": "6fa8d146",
   "metadata": {},
   "outputs": [],
   "source": [
    "\n",
    "import pathlib\n",
    "import pandas\n",
    "import json\n",
    "data = pathlib.Path(\"/home/runner/work/cvedata/cvedata/cvedata/data\", 'msrc-kb-ver.json')\n"
   ]
  },
  {
   "cell_type": "code",
   "execution_count": null,
   "id": "214d1a43",
   "metadata": {},
   "outputs": [],
   "source": [
    "json_data = json.loads(data.read_text())\n",
    "df = pandas.read_json(json.dumps(json_data))"
   ]
  },
  {
   "cell_type": "code",
   "execution_count": null,
   "id": "c07c31ce",
   "metadata": {
    "tags": [
     "full-width"
    ]
   },
   "outputs": [],
   "source": [
    "df"
   ]
  }
 ],
 "metadata": {},
 "nbformat": 4,
 "nbformat_minor": 5
}
