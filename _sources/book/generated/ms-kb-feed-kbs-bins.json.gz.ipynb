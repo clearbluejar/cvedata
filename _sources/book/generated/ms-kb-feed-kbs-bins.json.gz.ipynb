{
 "cells": [
  {
   "cell_type": "markdown",
   "id": "40c89612",
   "metadata": {},
   "source": [
    "# ms-kb-feed-kbs-bins.json.gz"
   ]
  },
  {
   "cell_type": "markdown",
   "id": "abbe9370",
   "metadata": {},
   "source": [
    "|               | ms-kb-feed-kbs-bins.json.gz                                                                                                                                                                                                                                                                                                                                                                                                                    |\n",
    "|:--------------|:-----------------------------------------------------------------------------------------------------------------------------------------------------------------------------------------------------------------------------------------------------------------------------------------------------------------------------------------------------------------------------------------------------------------------------------------------|\n",
    "| size          | 373699                                                                                                                                                                                                                                                                                                                                                                                                                                         |\n",
    "| last_modified | 2022-11-29T21:39:11.856785                                                                                                                                                                                                                                                                                                                                                                                                                     |\n",
    "| count         | 4                                                                                                                                                                                                                                                                                                                                                                                                                                              |\n",
    "| gen_time      | 1.7116022109985352                                                                                                                                                                                                                                                                                                                                                                                                                             |\n",
    "| key_index     |                                                                                                                                                                                                                                                                                                                                                                                                                                                |\n",
    "| key_data      |                                                                                                                                                                                                                                                                                                                                                                                                                                                |\n",
    "| swap_axes     | False                                                                                                                                                                                                                                                                                                                                                                                                                                          |\n",
    "| normalize     | False                                                                                                                                                                                                                                                                                                                                                                                                                                          |\n",
    "| skip_book     | False                                                                                                                                                                                                                                                                                                                                                                                                                                          |\n",
    "| sources       | ['https://support.microsoft.com/en-us/feed/atom/6ae59d69-36fc-8e4d-23dd-631d98bf74a9', 'https://support.microsoft.com/en-us/feed/atom/4ec863cc-2ecd-e187-6cb3-b50c6545db92', 'https://support.microsoft.com/en-us/feed/atom/2d67e9fb-2bd2-6742-08ee-628da707657f', 'https://support.microsoft.com/en-us/feed/atom/eb958e25-cff9-2d06-53ca-f656481bb31f', 'https://support.microsoft.com/en-us/feed/atom/c3a1be8a-50db-47b7-d5eb-259debc3abcc'] |"
   ]
  },
  {
   "cell_type": "code",
   "execution_count": null,
   "id": "a8891cb1",
   "metadata": {
    "tags": [
     "hide-input"
    ]
   },
   "outputs": [],
   "source": [
    "\n",
    "from itables import init_notebook_mode\n",
    "import itables.options as opt\n",
    "opt.lengthMenu = [60, 100, 300]\n",
    "opt.maxBytes = 0\n",
    "init_notebook_mode(all_interactive=True)    \n",
    "    "
   ]
  },
  {
   "cell_type": "code",
   "execution_count": null,
   "id": "a796f1eb",
   "metadata": {},
   "outputs": [],
   "source": [
    "\n",
    "import pathlib\n",
    "import pandas\n",
    "import json\n",
    "data = pathlib.Path(\"/home/runner/work/cvedata/cvedata/cvedata/data\", 'ms-kb-feed-kbs-bins.json.gz')\n"
   ]
  },
  {
   "cell_type": "code",
   "execution_count": null,
   "id": "1607b97d",
   "metadata": {},
   "outputs": [],
   "source": [
    "import gzip\n",
    "with gzip.open(data) as f:\n",
    "    json_data = json.load(f)\n",
    "df = pandas.read_json(json.dumps(json_data))"
   ]
  },
  {
   "cell_type": "code",
   "execution_count": null,
   "id": "644682c5",
   "metadata": {
    "tags": [
     "full-width"
    ]
   },
   "outputs": [],
   "source": [
    "df"
   ]
  }
 ],
 "metadata": {},
 "nbformat": 4,
 "nbformat_minor": 5
}
