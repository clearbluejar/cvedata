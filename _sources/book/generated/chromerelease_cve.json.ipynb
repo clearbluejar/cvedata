{
 "cells": [
  {
   "cell_type": "markdown",
   "id": "3af8c209",
   "metadata": {},
   "source": [
    "# chromerelease_cve.json"
   ]
  },
  {
   "cell_type": "markdown",
   "id": "0e4d65b5",
   "metadata": {},
   "source": [
    "|               | chromerelease_cve.json                    |\n",
    "|:--------------|:------------------------------------------|\n",
    "| size          | 809447                                    |\n",
    "| last_modified | 2022-11-11T01:42:12.199807                |\n",
    "| count         | 2321                                      |\n",
    "| gen_time      | 0.11705899238586401                       |\n",
    "| key_index     | cve_id                                    |\n",
    "| key_data      |                                           |\n",
    "| swap_axes     | False                                     |\n",
    "| normalize     | True                                      |\n",
    "| skip_book     | False                                     |\n",
    "| sources       | ['https://chromereleases.googleblog.com'] |"
   ]
  },
  {
   "cell_type": "code",
   "execution_count": null,
   "id": "9f88d961",
   "metadata": {
    "tags": [
     "hide-input"
    ]
   },
   "outputs": [],
   "source": [
    "\n",
    "from itables import init_notebook_mode\n",
    "import itables.options as opt\n",
    "opt.lengthMenu = [60, 100, 300]\n",
    "opt.maxBytes = 0\n",
    "init_notebook_mode(all_interactive=True)    \n",
    "    "
   ]
  },
  {
   "cell_type": "code",
   "execution_count": null,
   "id": "9c43d1b7",
   "metadata": {},
   "outputs": [],
   "source": [
    "\n",
    "import pathlib\n",
    "import pandas\n",
    "import json\n",
    "data = pathlib.Path(\"/home/runner/work/cvedata/cvedata/cvedata/data\", 'chromerelease_cve.json')\n"
   ]
  },
  {
   "cell_type": "code",
   "execution_count": null,
   "id": "425e7bb9",
   "metadata": {},
   "outputs": [],
   "source": [
    "json_data = json.loads(data.read_text())\n",
    "df = pandas.json_normalize(json_data)"
   ]
  },
  {
   "cell_type": "code",
   "execution_count": null,
   "id": "8f600e03",
   "metadata": {
    "tags": [
     "full-width"
    ]
   },
   "outputs": [],
   "source": [
    "df.set_index('cve_id',inplace=True)\n",
    "df"
   ]
  }
 ],
 "metadata": {},
 "nbformat": 4,
 "nbformat_minor": 5
}
