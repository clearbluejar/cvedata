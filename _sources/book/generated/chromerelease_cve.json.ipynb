{
 "cells": [
  {
   "cell_type": "markdown",
   "id": "d337fb87",
   "metadata": {},
   "source": [
    "# chromerelease_cve.json"
   ]
  },
  {
   "cell_type": "markdown",
   "id": "7efae683",
   "metadata": {},
   "source": [
    "|               | chromerelease_cve.json                    |\n",
    "|:--------------|:------------------------------------------|\n",
    "| size          | 805382                                    |\n",
    "| last_modified | 2022-10-25T11:25:16.053758                |\n",
    "| count         | 2309                                      |\n",
    "| gen_time      | 0.09738540649414001                       |\n",
    "| skip_book     | False                                     |\n",
    "| sources       | ['https://chromereleases.googleblog.com'] |\n",
    "| key_index     | cve_id                                    |\n",
    "| swap_axes     | False                                     |\n",
    "| normalize     | True                                      |"
   ]
  },
  {
   "cell_type": "code",
   "execution_count": null,
   "id": "626d360c",
   "metadata": {
    "tags": [
     "hide-input"
    ]
   },
   "outputs": [],
   "source": [
    "\n",
    "from itables import init_notebook_mode\n",
    "import itables.options as opt\n",
    "opt.lengthMenu = [60, 100, 300]\n",
    "opt.maxBytes = 805382\n",
    "init_notebook_mode(all_interactive=True)    \n",
    "    "
   ]
  },
  {
   "cell_type": "code",
   "execution_count": null,
   "id": "695eba99",
   "metadata": {},
   "outputs": [],
   "source": [
    "\n",
    "import pathlib\n",
    "import pandas\n",
    "import json\n",
    "data = pathlib.Path('..','..','..','cvedata','data', 'chromerelease_cve.json')\n",
    "    "
   ]
  },
  {
   "cell_type": "code",
   "execution_count": null,
   "id": "b7cc2e6f",
   "metadata": {},
   "outputs": [],
   "source": [
    "\n",
    "df = pandas.json_normalize(json.loads(data.read_text()))"
   ]
  },
  {
   "cell_type": "code",
   "execution_count": null,
   "id": "156b82e2",
   "metadata": {
    "tags": [
     "full-width"
    ]
   },
   "outputs": [],
   "source": [
    "df.set_index('cve_id',inplace=True)\n",
    "df"
   ]
  }
 ],
 "metadata": {},
 "nbformat": 4,
 "nbformat_minor": 5
}
