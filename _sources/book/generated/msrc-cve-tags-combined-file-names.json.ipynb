{
 "cells": [
  {
   "cell_type": "markdown",
   "id": "080af29a",
   "metadata": {},
   "source": [
    "# msrc-cve-tags-combined-file-names.json"
   ]
  },
  {
   "cell_type": "markdown",
   "id": "a5ea4e7b",
   "metadata": {},
   "source": [
    "|               | msrc-cve-tags-combined-file-names.json                                                                    |\n",
    "|:--------------|:----------------------------------------------------------------------------------------------------------|\n",
    "| size          | 15684                                                                                                     |\n",
    "| last_modified | 2022-11-22T06:34:34.107499                                                                                |\n",
    "| count         | 436                                                                                                       |\n",
    "| gen_time      | 96.89868402481079                                                                                         |\n",
    "| key_index     |                                                                                                           |\n",
    "| key_data      |                                                                                                           |\n",
    "| swap_axes     | True                                                                                                      |\n",
    "| normalize     | True                                                                                                      |\n",
    "| skip_book     | False                                                                                                     |\n",
    "| sources       | ['https://github.com/m417z/winbindex/archive/refs/heads/gh-pages.zip', 'https://api.msrc.microsoft.com/'] |"
   ]
  },
  {
   "cell_type": "code",
   "execution_count": null,
   "id": "66cb7784",
   "metadata": {
    "tags": [
     "hide-input"
    ]
   },
   "outputs": [],
   "source": [
    "\n",
    "from itables import init_notebook_mode\n",
    "import itables.options as opt\n",
    "opt.lengthMenu = [60, 100, 300]\n",
    "opt.maxBytes = 0\n",
    "init_notebook_mode(all_interactive=True)    \n",
    "    "
   ]
  },
  {
   "cell_type": "code",
   "execution_count": null,
   "id": "ccc3f66b",
   "metadata": {},
   "outputs": [],
   "source": [
    "\n",
    "import pathlib\n",
    "import pandas\n",
    "import json\n",
    "data = pathlib.Path(\"/home/runner/work/cvedata/cvedata/cvedata/data\", 'msrc-cve-tags-combined-file-names.json')\n"
   ]
  },
  {
   "cell_type": "code",
   "execution_count": null,
   "id": "e5de5e7c",
   "metadata": {},
   "outputs": [],
   "source": [
    "json_data = json.loads(data.read_text())\n",
    "df = pandas.json_normalize(json_data)\n",
    "df = df.swapaxes('columns','index')"
   ]
  },
  {
   "cell_type": "code",
   "execution_count": null,
   "id": "5608ffa8",
   "metadata": {
    "tags": [
     "full-width"
    ]
   },
   "outputs": [],
   "source": [
    "df"
   ]
  }
 ],
 "metadata": {},
 "nbformat": 4,
 "nbformat_minor": 5
}
