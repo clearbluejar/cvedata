{
 "cells": [
  {
   "cell_type": "markdown",
   "id": "d8ee9680",
   "metadata": {},
   "source": [
    "# msrc-cve-tags-combined-file-names.json"
   ]
  },
  {
   "cell_type": "markdown",
   "id": "ae5bdf21",
   "metadata": {},
   "source": [
    "|               | msrc-cve-tags-combined-file-names.json                                                                    |\n",
    "|:--------------|:----------------------------------------------------------------------------------------------------------|\n",
    "| size          | 15771                                                                                                     |\n",
    "| last_modified | 2022-11-29T21:42:32.644279                                                                                |\n",
    "| count         | 436                                                                                                       |\n",
    "| gen_time      | 81.68659734725952                                                                                         |\n",
    "| key_index     |                                                                                                           |\n",
    "| key_data      |                                                                                                           |\n",
    "| swap_axes     | True                                                                                                      |\n",
    "| normalize     | True                                                                                                      |\n",
    "| skip_book     | False                                                                                                     |\n",
    "| sources       | ['https://github.com/m417z/winbindex/archive/refs/heads/gh-pages.zip', 'https://api.msrc.microsoft.com/'] |"
   ]
  },
  {
   "cell_type": "code",
   "execution_count": null,
   "id": "4a2eb93e",
   "metadata": {
    "tags": [
     "hide-input"
    ]
   },
   "outputs": [],
   "source": [
    "\n",
    "from itables import init_notebook_mode\n",
    "import itables.options as opt\n",
    "opt.lengthMenu = [60, 100, 300]\n",
    "opt.maxBytes = 0\n",
    "init_notebook_mode(all_interactive=True)    \n",
    "    "
   ]
  },
  {
   "cell_type": "code",
   "execution_count": null,
   "id": "2a56eb01",
   "metadata": {},
   "outputs": [],
   "source": [
    "\n",
    "import pathlib\n",
    "import pandas\n",
    "import json\n",
    "data = pathlib.Path(\"/home/runner/work/cvedata/cvedata/cvedata/data\", 'msrc-cve-tags-combined-file-names.json')\n"
   ]
  },
  {
   "cell_type": "code",
   "execution_count": null,
   "id": "8d8bbfcf",
   "metadata": {},
   "outputs": [],
   "source": [
    "json_data = json.loads(data.read_text())\n",
    "df = pandas.json_normalize(json_data)\n",
    "df = df.swapaxes('columns','index')"
   ]
  },
  {
   "cell_type": "code",
   "execution_count": null,
   "id": "8002a613",
   "metadata": {
    "tags": [
     "full-width"
    ]
   },
   "outputs": [],
   "source": [
    "df"
   ]
  }
 ],
 "metadata": {},
 "nbformat": 4,
 "nbformat_minor": 5
}
