{
 "cells": [
  {
   "cell_type": "markdown",
   "id": "fa09eb97",
   "metadata": {},
   "source": [
    "# msrc-cve-tags-combined-file-names.json"
   ]
  },
  {
   "cell_type": "markdown",
   "id": "a6cf0a87",
   "metadata": {},
   "source": [
    "|               | msrc-cve-tags-combined-file-names.json                                                                    |\n",
    "|:--------------|:----------------------------------------------------------------------------------------------------------|\n",
    "| size          | 15947                                                                                                     |\n",
    "| last_modified | 2022-12-14T04:11:56.926335                                                                                |\n",
    "| count         | 441                                                                                                       |\n",
    "| gen_time      | 100.99553442001343                                                                                        |\n",
    "| key_index     |                                                                                                           |\n",
    "| key_data      |                                                                                                           |\n",
    "| swap_axes     | True                                                                                                      |\n",
    "| normalize     | True                                                                                                      |\n",
    "| skip_book     | False                                                                                                     |\n",
    "| sources       | ['https://github.com/m417z/winbindex/archive/refs/heads/gh-pages.zip', 'https://api.msrc.microsoft.com/'] |"
   ]
  },
  {
   "cell_type": "code",
   "execution_count": null,
   "id": "05092027",
   "metadata": {
    "tags": [
     "hide-input"
    ]
   },
   "outputs": [],
   "source": [
    "\n",
    "from itables import init_notebook_mode\n",
    "import itables.options as opt\n",
    "opt.lengthMenu = [60, 100, 300]\n",
    "opt.maxBytes = 0\n",
    "init_notebook_mode(all_interactive=True)    \n",
    "    "
   ]
  },
  {
   "cell_type": "code",
   "execution_count": null,
   "id": "cf7c978e",
   "metadata": {},
   "outputs": [],
   "source": [
    "\n",
    "import pathlib\n",
    "import pandas\n",
    "import json\n",
    "data = pathlib.Path(\"/home/runner/work/cvedata/cvedata/cvedata/data\", 'msrc-cve-tags-combined-file-names.json')\n"
   ]
  },
  {
   "cell_type": "code",
   "execution_count": null,
   "id": "5715b397",
   "metadata": {},
   "outputs": [],
   "source": [
    "json_data = json.loads(data.read_text())\n",
    "df = pandas.json_normalize(json_data)\n",
    "df = df.swapaxes('columns','index')"
   ]
  },
  {
   "cell_type": "code",
   "execution_count": null,
   "id": "50e37d0c",
   "metadata": {
    "tags": [
     "full-width"
    ]
   },
   "outputs": [],
   "source": [
    "df"
   ]
  }
 ],
 "metadata": {},
 "nbformat": 4,
 "nbformat_minor": 5
}
