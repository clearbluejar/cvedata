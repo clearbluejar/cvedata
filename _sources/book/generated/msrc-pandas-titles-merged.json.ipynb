{
 "cells": [
  {
   "cell_type": "markdown",
   "id": "eeaed37d",
   "metadata": {},
   "source": [
    "# msrc-pandas-titles-merged.json"
   ]
  },
  {
   "cell_type": "markdown",
   "id": "734e9e12",
   "metadata": {},
   "source": [
    "|               | msrc-pandas-titles-merged.json      |\n",
    "|:--------------|:------------------------------------|\n",
    "| size          | 78093                               |\n",
    "| last_modified | 2022-12-14T04:07:49.686896          |\n",
    "| count         | 441                                 |\n",
    "| gen_time      | 0.11124110221862701                 |\n",
    "| key_index     |                                     |\n",
    "| key_data      |                                     |\n",
    "| swap_axes     | False                               |\n",
    "| normalize     | False                               |\n",
    "| skip_book     | False                               |\n",
    "| sources       | ['https://api.msrc.microsoft.com/'] |"
   ]
  },
  {
   "cell_type": "code",
   "execution_count": null,
   "id": "6992a68e",
   "metadata": {
    "tags": [
     "hide-input"
    ]
   },
   "outputs": [],
   "source": [
    "\n",
    "from itables import init_notebook_mode\n",
    "import itables.options as opt\n",
    "opt.lengthMenu = [60, 100, 300]\n",
    "opt.maxBytes = 0\n",
    "init_notebook_mode(all_interactive=True)    \n",
    "    "
   ]
  },
  {
   "cell_type": "code",
   "execution_count": null,
   "id": "81654a04",
   "metadata": {},
   "outputs": [],
   "source": [
    "\n",
    "import pathlib\n",
    "import pandas\n",
    "import json\n",
    "data = pathlib.Path(\"/home/runner/work/cvedata/cvedata/cvedata/data\", 'msrc-pandas-titles-merged.json')\n"
   ]
  },
  {
   "cell_type": "code",
   "execution_count": null,
   "id": "2ec70aaa",
   "metadata": {},
   "outputs": [],
   "source": [
    "json_data = json.loads(data.read_text())\n",
    "df = pandas.read_json(json.dumps(json_data))"
   ]
  },
  {
   "cell_type": "code",
   "execution_count": null,
   "id": "b69afc28",
   "metadata": {
    "tags": [
     "full-width"
    ]
   },
   "outputs": [],
   "source": [
    "df"
   ]
  }
 ],
 "metadata": {},
 "nbformat": 4,
 "nbformat_minor": 5
}
