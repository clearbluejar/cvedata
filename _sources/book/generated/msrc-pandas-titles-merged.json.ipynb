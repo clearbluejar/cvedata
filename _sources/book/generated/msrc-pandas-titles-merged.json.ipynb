{
 "cells": [
  {
   "cell_type": "markdown",
   "id": "d25e1034",
   "metadata": {},
   "source": [
    "# msrc-pandas-titles-merged.json"
   ]
  },
  {
   "cell_type": "markdown",
   "id": "1df4392e",
   "metadata": {},
   "source": [
    "|               | msrc-pandas-titles-merged.json      |\n",
    "|:--------------|:------------------------------------|\n",
    "| size          | 76330                               |\n",
    "| last_modified | 2022-11-29T21:39:20.785120          |\n",
    "| count         | 436                                 |\n",
    "| gen_time      | 0.042173862457275                   |\n",
    "| key_index     |                                     |\n",
    "| key_data      |                                     |\n",
    "| swap_axes     | False                               |\n",
    "| normalize     | False                               |\n",
    "| skip_book     | False                               |\n",
    "| sources       | ['https://api.msrc.microsoft.com/'] |"
   ]
  },
  {
   "cell_type": "code",
   "execution_count": null,
   "id": "31645054",
   "metadata": {
    "tags": [
     "hide-input"
    ]
   },
   "outputs": [],
   "source": [
    "\n",
    "from itables import init_notebook_mode\n",
    "import itables.options as opt\n",
    "opt.lengthMenu = [60, 100, 300]\n",
    "opt.maxBytes = 0\n",
    "init_notebook_mode(all_interactive=True)    \n",
    "    "
   ]
  },
  {
   "cell_type": "code",
   "execution_count": null,
   "id": "8cd69c3c",
   "metadata": {},
   "outputs": [],
   "source": [
    "\n",
    "import pathlib\n",
    "import pandas\n",
    "import json\n",
    "data = pathlib.Path(\"/home/runner/work/cvedata/cvedata/cvedata/data\", 'msrc-pandas-titles-merged.json')\n"
   ]
  },
  {
   "cell_type": "code",
   "execution_count": null,
   "id": "182fe87f",
   "metadata": {},
   "outputs": [],
   "source": [
    "json_data = json.loads(data.read_text())\n",
    "df = pandas.read_json(json.dumps(json_data))"
   ]
  },
  {
   "cell_type": "code",
   "execution_count": null,
   "id": "cc872e7a",
   "metadata": {
    "tags": [
     "full-width"
    ]
   },
   "outputs": [],
   "source": [
    "df"
   ]
  }
 ],
 "metadata": {},
 "nbformat": 4,
 "nbformat_minor": 5
}
