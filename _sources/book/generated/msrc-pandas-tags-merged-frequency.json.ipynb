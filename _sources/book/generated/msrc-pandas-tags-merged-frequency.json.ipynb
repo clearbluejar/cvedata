{
 "cells": [
  {
   "cell_type": "markdown",
   "id": "0c823359",
   "metadata": {},
   "source": [
    "# msrc-pandas-tags-merged-frequency.json"
   ]
  },
  {
   "cell_type": "markdown",
   "id": "90417036",
   "metadata": {},
   "source": [
    "|               | msrc-pandas-tags-merged-frequency.json   |\n",
    "|:--------------|:-----------------------------------------|\n",
    "| size          | 14922                                    |\n",
    "| last_modified | 2022-11-29T21:39:20.745119               |\n",
    "| count         | 436                                      |\n",
    "| gen_time      | 0.042112827301025                        |\n",
    "| key_index     |                                          |\n",
    "| key_data      |                                          |\n",
    "| swap_axes     | True                                     |\n",
    "| normalize     | True                                     |\n",
    "| skip_book     | False                                    |\n",
    "| sources       | ['https://api.msrc.microsoft.com/']      |"
   ]
  },
  {
   "cell_type": "code",
   "execution_count": null,
   "id": "230a6cc1",
   "metadata": {
    "tags": [
     "hide-input"
    ]
   },
   "outputs": [],
   "source": [
    "\n",
    "from itables import init_notebook_mode\n",
    "import itables.options as opt\n",
    "opt.lengthMenu = [60, 100, 300]\n",
    "opt.maxBytes = 0\n",
    "init_notebook_mode(all_interactive=True)    \n",
    "    "
   ]
  },
  {
   "cell_type": "code",
   "execution_count": null,
   "id": "af1be21a",
   "metadata": {},
   "outputs": [],
   "source": [
    "\n",
    "import pathlib\n",
    "import pandas\n",
    "import json\n",
    "data = pathlib.Path(\"/home/runner/work/cvedata/cvedata/cvedata/data\", 'msrc-pandas-tags-merged-frequency.json')\n"
   ]
  },
  {
   "cell_type": "code",
   "execution_count": null,
   "id": "ef635929",
   "metadata": {},
   "outputs": [],
   "source": [
    "json_data = json.loads(data.read_text())\n",
    "df = pandas.json_normalize(json_data)\n",
    "df = df.swapaxes('columns','index')"
   ]
  },
  {
   "cell_type": "code",
   "execution_count": null,
   "id": "bd68a257",
   "metadata": {
    "tags": [
     "full-width"
    ]
   },
   "outputs": [],
   "source": [
    "df"
   ]
  }
 ],
 "metadata": {},
 "nbformat": 4,
 "nbformat_minor": 5
}
