{
 "cells": [
  {
   "cell_type": "markdown",
   "id": "88dc4682",
   "metadata": {},
   "source": [
    "# msrc-pandas-tags-merged-frequency.json"
   ]
  },
  {
   "cell_type": "markdown",
   "id": "c141b4ac",
   "metadata": {},
   "source": [
    "|               | msrc-pandas-tags-merged-frequency.json   |\n",
    "|:--------------|:-----------------------------------------|\n",
    "| size          | 14922                                    |\n",
    "| last_modified | 2022-12-05T16:38:22.488635               |\n",
    "| count         | 436                                      |\n",
    "| gen_time      | 0.043046712875366                        |\n",
    "| key_index     |                                          |\n",
    "| key_data      |                                          |\n",
    "| swap_axes     | True                                     |\n",
    "| normalize     | True                                     |\n",
    "| skip_book     | False                                    |\n",
    "| sources       | ['https://api.msrc.microsoft.com/']      |"
   ]
  },
  {
   "cell_type": "code",
   "execution_count": null,
   "id": "449e9adf",
   "metadata": {
    "tags": [
     "hide-input"
    ]
   },
   "outputs": [],
   "source": [
    "\n",
    "from itables import init_notebook_mode\n",
    "import itables.options as opt\n",
    "opt.lengthMenu = [60, 100, 300]\n",
    "opt.maxBytes = 0\n",
    "init_notebook_mode(all_interactive=True)    \n",
    "    "
   ]
  },
  {
   "cell_type": "code",
   "execution_count": null,
   "id": "83892dbb",
   "metadata": {},
   "outputs": [],
   "source": [
    "\n",
    "import pathlib\n",
    "import pandas\n",
    "import json\n",
    "data = pathlib.Path(\"/home/runner/work/cvedata/cvedata/cvedata/data\", 'msrc-pandas-tags-merged-frequency.json')\n"
   ]
  },
  {
   "cell_type": "code",
   "execution_count": null,
   "id": "670dfd25",
   "metadata": {},
   "outputs": [],
   "source": [
    "json_data = json.loads(data.read_text())\n",
    "df = pandas.json_normalize(json_data)\n",
    "df = df.swapaxes('columns','index')"
   ]
  },
  {
   "cell_type": "code",
   "execution_count": null,
   "id": "ae7ff6b3",
   "metadata": {
    "tags": [
     "full-width"
    ]
   },
   "outputs": [],
   "source": [
    "df"
   ]
  }
 ],
 "metadata": {},
 "nbformat": 4,
 "nbformat_minor": 5
}
