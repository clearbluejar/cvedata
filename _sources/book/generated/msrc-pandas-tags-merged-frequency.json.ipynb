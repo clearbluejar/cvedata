{
 "cells": [
  {
   "cell_type": "markdown",
   "id": "b80dece4",
   "metadata": {},
   "source": [
    "# msrc-pandas-tags-merged-frequency.json"
   ]
  },
  {
   "cell_type": "markdown",
   "id": "d8b418d6",
   "metadata": {},
   "source": [
    "|               | msrc-pandas-tags-merged-frequency.json   |\n",
    "|:--------------|:-----------------------------------------|\n",
    "| size          | 15075                                    |\n",
    "| last_modified | 2022-12-14T04:07:49.578894               |\n",
    "| count         | 441                                      |\n",
    "| gen_time      | 0.108941078186035                        |\n",
    "| key_index     |                                          |\n",
    "| key_data      |                                          |\n",
    "| swap_axes     | True                                     |\n",
    "| normalize     | True                                     |\n",
    "| skip_book     | False                                    |\n",
    "| sources       | ['https://api.msrc.microsoft.com/']      |"
   ]
  },
  {
   "cell_type": "code",
   "execution_count": null,
   "id": "ef692cb0",
   "metadata": {
    "tags": [
     "hide-input"
    ]
   },
   "outputs": [],
   "source": [
    "\n",
    "from itables import init_notebook_mode\n",
    "import itables.options as opt\n",
    "opt.lengthMenu = [60, 100, 300]\n",
    "opt.maxBytes = 0\n",
    "init_notebook_mode(all_interactive=True)    \n",
    "    "
   ]
  },
  {
   "cell_type": "code",
   "execution_count": null,
   "id": "e5825ba5",
   "metadata": {},
   "outputs": [],
   "source": [
    "\n",
    "import pathlib\n",
    "import pandas\n",
    "import json\n",
    "data = pathlib.Path(\"/home/runner/work/cvedata/cvedata/cvedata/data\", 'msrc-pandas-tags-merged-frequency.json')\n"
   ]
  },
  {
   "cell_type": "code",
   "execution_count": null,
   "id": "d3f8b9d5",
   "metadata": {},
   "outputs": [],
   "source": [
    "json_data = json.loads(data.read_text())\n",
    "df = pandas.json_normalize(json_data)\n",
    "df = df.swapaxes('columns','index')"
   ]
  },
  {
   "cell_type": "code",
   "execution_count": null,
   "id": "fa9017c8",
   "metadata": {
    "tags": [
     "full-width"
    ]
   },
   "outputs": [],
   "source": [
    "df"
   ]
  }
 ],
 "metadata": {},
 "nbformat": 4,
 "nbformat_minor": 5
}
