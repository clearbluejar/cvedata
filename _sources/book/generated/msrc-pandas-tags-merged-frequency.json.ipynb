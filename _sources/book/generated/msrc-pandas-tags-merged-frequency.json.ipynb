{
 "cells": [
  {
   "cell_type": "markdown",
   "id": "08388bd3",
   "metadata": {},
   "source": [
    "# msrc-pandas-tags-merged-frequency.json"
   ]
  },
  {
   "cell_type": "markdown",
   "id": "b0b0b25e",
   "metadata": {},
   "source": [
    "|               | msrc-pandas-tags-merged-frequency.json   |\n",
    "|:--------------|:-----------------------------------------|\n",
    "| size          | 14922                                    |\n",
    "| last_modified | 2022-11-22T06:30:59.488615               |\n",
    "| count         | 436                                      |\n",
    "| gen_time      | 0.046265125274658                        |\n",
    "| key_index     |                                          |\n",
    "| key_data      |                                          |\n",
    "| swap_axes     | True                                     |\n",
    "| normalize     | True                                     |\n",
    "| skip_book     | False                                    |\n",
    "| sources       | ['https://api.msrc.microsoft.com/']      |"
   ]
  },
  {
   "cell_type": "code",
   "execution_count": null,
   "id": "d0161b81",
   "metadata": {
    "tags": [
     "hide-input"
    ]
   },
   "outputs": [],
   "source": [
    "\n",
    "from itables import init_notebook_mode\n",
    "import itables.options as opt\n",
    "opt.lengthMenu = [60, 100, 300]\n",
    "opt.maxBytes = 0\n",
    "init_notebook_mode(all_interactive=True)    \n",
    "    "
   ]
  },
  {
   "cell_type": "code",
   "execution_count": null,
   "id": "369e4f60",
   "metadata": {},
   "outputs": [],
   "source": [
    "\n",
    "import pathlib\n",
    "import pandas\n",
    "import json\n",
    "data = pathlib.Path(\"/home/runner/work/cvedata/cvedata/cvedata/data\", 'msrc-pandas-tags-merged-frequency.json')\n"
   ]
  },
  {
   "cell_type": "code",
   "execution_count": null,
   "id": "22cbad81",
   "metadata": {},
   "outputs": [],
   "source": [
    "json_data = json.loads(data.read_text())\n",
    "df = pandas.json_normalize(json_data)\n",
    "df = df.swapaxes('columns','index')"
   ]
  },
  {
   "cell_type": "code",
   "execution_count": null,
   "id": "78a5fe24",
   "metadata": {
    "tags": [
     "full-width"
    ]
   },
   "outputs": [],
   "source": [
    "df"
   ]
  }
 ],
 "metadata": {},
 "nbformat": 4,
 "nbformat_minor": 5
}
