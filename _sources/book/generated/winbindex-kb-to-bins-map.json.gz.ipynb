{
 "cells": [
  {
   "cell_type": "markdown",
   "id": "0cba10ae",
   "metadata": {},
   "source": [
    "# winbindex-kb-to-bins-map.json.gz"
   ]
  },
  {
   "cell_type": "markdown",
   "id": "ae216872",
   "metadata": {},
   "source": [
    "|               | winbindex-kb-to-bins-map.json.gz                                       |\n",
    "|:--------------|:-----------------------------------------------------------------------|\n",
    "| size          | 906572                                                                 |\n",
    "| last_modified | 2022-11-11T01:39:47.894634                                             |\n",
    "| count         | 665                                                                    |\n",
    "| gen_time      | 177.0234889984131                                                      |\n",
    "| sources       | ['https://github.com/m417z/winbindex/archive/refs/heads/gh-pages.zip'] |"
   ]
  },
  {
   "cell_type": "code",
   "execution_count": null,
   "id": "6ce4b272",
   "metadata": {
    "tags": [
     "hide-input"
    ]
   },
   "outputs": [],
   "source": [
    "\n",
    "from itables import init_notebook_mode\n",
    "import itables.options as opt\n",
    "opt.lengthMenu = [60, 100, 300]\n",
    "opt.maxBytes = 0\n",
    "init_notebook_mode(all_interactive=True)    \n",
    "    "
   ]
  },
  {
   "cell_type": "code",
   "execution_count": null,
   "id": "b3f805a1",
   "metadata": {},
   "outputs": [],
   "source": [
    "\n",
    "import pathlib\n",
    "import pandas\n",
    "import json\n",
    "data = pathlib.Path(\"/home/runner/work/cvedata/cvedata/cvedata/data\", 'winbindex-kb-to-bins-map.json.gz')\n"
   ]
  },
  {
   "cell_type": "code",
   "execution_count": null,
   "id": "196dab04",
   "metadata": {},
   "outputs": [],
   "source": [
    "import gzip\n",
    "with gzip.open(data) as f:\n",
    "    json_data = json.load(f)\n",
    "df = pandas.read_json(json.dumps(json_data))\n",
    "df = df.swapaxes('columns','index')"
   ]
  },
  {
   "cell_type": "code",
   "execution_count": null,
   "id": "0671ecd4",
   "metadata": {
    "tags": [
     "full-width"
    ]
   },
   "outputs": [],
   "source": [
    "df"
   ]
  }
 ],
 "metadata": {},
 "nbformat": 4,
 "nbformat_minor": 5
}
