{
 "cells": [
  {
   "cell_type": "markdown",
   "id": "d026fcfb",
   "metadata": {},
   "source": [
    "# ack-researcher_names_grouped.json"
   ]
  },
  {
   "cell_type": "markdown",
   "id": "3951d1cd",
   "metadata": {},
   "source": [
    "|               | ack-researcher_names_grouped.json                                            |\n",
    "|:--------------|:-----------------------------------------------------------------------------|\n",
    "| size          | 711849                                                                       |\n",
    "| last_modified | 2022-12-05T16:47:28.316054                                                   |\n",
    "| count         | 1874                                                                         |\n",
    "| gen_time      | 0.10939931869506801                                                          |\n",
    "| key_index     |                                                                              |\n",
    "| key_data      |                                                                              |\n",
    "| swap_axes     | True                                                                         |\n",
    "| normalize     | True                                                                         |\n",
    "| skip_book     | False                                                                        |\n",
    "| sources       | ['https://chromereleases.googleblog.com', 'https://api.msrc.microsoft.com/'] |"
   ]
  },
  {
   "cell_type": "code",
   "execution_count": null,
   "id": "6fece993",
   "metadata": {
    "tags": [
     "hide-input"
    ]
   },
   "outputs": [],
   "source": [
    "\n",
    "from itables import init_notebook_mode\n",
    "import itables.options as opt\n",
    "opt.lengthMenu = [60, 100, 300]\n",
    "opt.maxBytes = 0\n",
    "init_notebook_mode(all_interactive=True)    \n",
    "    "
   ]
  },
  {
   "cell_type": "code",
   "execution_count": null,
   "id": "e9f0ae11",
   "metadata": {},
   "outputs": [],
   "source": [
    "\n",
    "import pathlib\n",
    "import pandas\n",
    "import json\n",
    "data = pathlib.Path(\"/home/runner/work/cvedata/cvedata/cvedata/data\", 'ack-researcher_names_grouped.json')\n"
   ]
  },
  {
   "cell_type": "code",
   "execution_count": null,
   "id": "ac563ca5",
   "metadata": {},
   "outputs": [],
   "source": [
    "json_data = json.loads(data.read_text())\n",
    "df = pandas.json_normalize(json_data)\n",
    "df = df.swapaxes('columns','index')"
   ]
  },
  {
   "cell_type": "code",
   "execution_count": null,
   "id": "f5893d7b",
   "metadata": {
    "tags": [
     "full-width"
    ]
   },
   "outputs": [],
   "source": [
    "df"
   ]
  }
 ],
 "metadata": {},
 "nbformat": 4,
 "nbformat_minor": 5
}
