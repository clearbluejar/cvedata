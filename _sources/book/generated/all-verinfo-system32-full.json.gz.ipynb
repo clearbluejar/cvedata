{
 "cells": [
  {
   "cell_type": "markdown",
   "id": "a418b0b6",
   "metadata": {},
   "source": [
    "# all-verinfo-system32-full.json.gz"
   ]
  },
  {
   "cell_type": "markdown",
   "id": "93ec453e",
   "metadata": {},
   "source": [
    "|               | all-verinfo-system32-full.json.gz                                                                                                                                                                                                                                                                                                                                                                                                 |\n",
    "|:--------------|:----------------------------------------------------------------------------------------------------------------------------------------------------------------------------------------------------------------------------------------------------------------------------------------------------------------------------------------------------------------------------------------------------------------------------------|\n",
    "| size          | 2845671                                                                                                                                                                                                                                                                                                                                                                                                                           |\n",
    "| last_modified | 2022-11-19T12:19:39.204593                                                                                                                                                                                                                                                                                                                                                                                                        |\n",
    "| count         | 24                                                                                                                                                                                                                                                                                                                                                                                                                                |\n",
    "| gen_time      | 16.203006267547607                                                                                                                                                                                                                                                                                                                                                                                                                |\n",
    "| key_index     |                                                                                                                                                                                                                                                                                                                                                                                                                                   |\n",
    "| key_data      |                                                                                                                                                                                                                                                                                                                                                                                                                                   |\n",
    "| swap_axes     | False                                                                                                                                                                                                                                                                                                                                                                                                                             |\n",
    "| normalize     | False                                                                                                                                                                                                                                                                                                                                                                                                                             |\n",
    "| skip_book     | False                                                                                                                                                                                                                                                                                                                                                                                                                             |\n",
    "| sources       | ['https://github.com/clearbluejar/win-sys32-versioninfo/releases/download/v0.1.0/10.0.22621.0-versioninfo-system32.json', 'https://github.com/clearbluejar/win-sys32-versioninfo/releases/download/v0.1.0/10.0.20348.0-versioninfo-system32-winprogiles-recurse.json', 'https://github.com/clearbluejar/win-sys32-versioninfo/releases/download/v0.1.0/10.0.19045.0-versioninfo-system32-winprogiles-recurse-o365-compress.json'] |"
   ]
  },
  {
   "cell_type": "code",
   "execution_count": null,
   "id": "9e462e0f",
   "metadata": {
    "tags": [
     "hide-input"
    ]
   },
   "outputs": [],
   "source": [
    "\n",
    "from itables import init_notebook_mode\n",
    "import itables.options as opt\n",
    "opt.lengthMenu = [60, 100, 300]\n",
    "opt.maxBytes = 0\n",
    "init_notebook_mode(all_interactive=True)    \n",
    "    "
   ]
  },
  {
   "cell_type": "code",
   "execution_count": null,
   "id": "85ae68a0",
   "metadata": {},
   "outputs": [],
   "source": [
    "\n",
    "import pathlib\n",
    "import pandas\n",
    "import json\n",
    "data = pathlib.Path(\"/home/runner/work/cvedata/cvedata/cvedata/data\", 'all-verinfo-system32-full.json.gz')\n"
   ]
  },
  {
   "cell_type": "code",
   "execution_count": null,
   "id": "e8132eeb",
   "metadata": {},
   "outputs": [],
   "source": [
    "import gzip\n",
    "with gzip.open(data) as f:\n",
    "    json_data = json.load(f)\n",
    "df = pandas.read_json(json.dumps(json_data))"
   ]
  },
  {
   "cell_type": "code",
   "execution_count": null,
   "id": "f94ecd51",
   "metadata": {
    "tags": [
     "full-width"
    ]
   },
   "outputs": [],
   "source": [
    "df"
   ]
  }
 ],
 "metadata": {},
 "nbformat": 4,
 "nbformat_minor": 5
}
