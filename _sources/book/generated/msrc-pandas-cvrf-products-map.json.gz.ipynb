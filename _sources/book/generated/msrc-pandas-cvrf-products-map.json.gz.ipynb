{
 "cells": [
  {
   "cell_type": "markdown",
   "id": "bd07b40b",
   "metadata": {},
   "source": [
    "# msrc-pandas-cvrf-products-map.json.gz"
   ]
  },
  {
   "cell_type": "markdown",
   "id": "44ba900e",
   "metadata": {},
   "source": [
    "|               | msrc-pandas-cvrf-products-map.json.gz   |\n",
    "|:--------------|:----------------------------------------|\n",
    "| size          | 18620                                   |\n",
    "| last_modified | 2022-12-14T04:07:44.498831              |\n",
    "| count         | 2                                       |\n",
    "| gen_time      | 7.7640509605407715                      |\n",
    "| key_index     |                                         |\n",
    "| key_data      |                                         |\n",
    "| swap_axes     | False                                   |\n",
    "| normalize     | False                                   |\n",
    "| skip_book     | False                                   |\n",
    "| sources       | ['https://api.msrc.microsoft.com/']     |"
   ]
  },
  {
   "cell_type": "code",
   "execution_count": null,
   "id": "3dcf5a49",
   "metadata": {
    "tags": [
     "hide-input"
    ]
   },
   "outputs": [],
   "source": [
    "\n",
    "from itables import init_notebook_mode\n",
    "import itables.options as opt\n",
    "opt.lengthMenu = [60, 100, 300]\n",
    "opt.maxBytes = 0\n",
    "init_notebook_mode(all_interactive=True)    \n",
    "    "
   ]
  },
  {
   "cell_type": "code",
   "execution_count": null,
   "id": "5bb0b07a",
   "metadata": {},
   "outputs": [],
   "source": [
    "\n",
    "import pathlib\n",
    "import pandas\n",
    "import json\n",
    "data = pathlib.Path(\"/home/runner/work/cvedata/cvedata/cvedata/data\", 'msrc-pandas-cvrf-products-map.json.gz')\n"
   ]
  },
  {
   "cell_type": "code",
   "execution_count": null,
   "id": "47aae05f",
   "metadata": {},
   "outputs": [],
   "source": [
    "import gzip\n",
    "with gzip.open(data) as f:\n",
    "    json_data = json.load(f)\n",
    "df = pandas.read_json(json.dumps(json_data))"
   ]
  },
  {
   "cell_type": "code",
   "execution_count": null,
   "id": "c4ddc228",
   "metadata": {
    "tags": [
     "full-width"
    ]
   },
   "outputs": [],
   "source": [
    "df"
   ]
  }
 ],
 "metadata": {},
 "nbformat": 4,
 "nbformat_minor": 5
}
