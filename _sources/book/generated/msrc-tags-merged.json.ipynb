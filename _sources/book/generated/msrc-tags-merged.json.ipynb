{
 "cells": [
  {
   "cell_type": "markdown",
   "id": "ca2e2365",
   "metadata": {},
   "source": [
    "# msrc-tags-merged.json"
   ]
  },
  {
   "cell_type": "markdown",
   "id": "9dd56e3f",
   "metadata": {},
   "source": [
    "|               | msrc-tags-merged.json               |\n",
    "|:--------------|:------------------------------------|\n",
    "| size          | 13810                               |\n",
    "| last_modified | 2022-10-25T11:28:09.752465          |\n",
    "| count         | 431                                 |\n",
    "| gen_time      | 0.018590927124023                   |\n",
    "| skip_book     | False                               |\n",
    "| sources       | ['https://api.msrc.microsoft.com/'] |\n",
    "| key_index     |                                     |\n",
    "| swap_axes     | False                               |\n",
    "| normalize     | False                               |"
   ]
  },
  {
   "cell_type": "code",
   "execution_count": null,
   "id": "c55e4176",
   "metadata": {
    "tags": [
     "hide-input"
    ]
   },
   "outputs": [],
   "source": [
    "\n",
    "from itables import init_notebook_mode\n",
    "import itables.options as opt\n",
    "opt.lengthMenu = [60, 100, 300]\n",
    "opt.maxBytes = 13810\n",
    "init_notebook_mode(all_interactive=True)    \n",
    "    "
   ]
  },
  {
   "cell_type": "code",
   "execution_count": null,
   "id": "140bec77",
   "metadata": {},
   "outputs": [],
   "source": [
    "\n",
    "import pathlib\n",
    "import pandas\n",
    "import json\n",
    "data = pathlib.Path('..','..','..','cvedata','data', 'msrc-tags-merged.json')\n",
    "    "
   ]
  },
  {
   "cell_type": "code",
   "execution_count": null,
   "id": "19a797e0",
   "metadata": {},
   "outputs": [],
   "source": [
    "\n",
    "df = pandas.read_json(data)"
   ]
  },
  {
   "cell_type": "code",
   "execution_count": null,
   "id": "73abad42",
   "metadata": {
    "tags": [
     "full-width"
    ]
   },
   "outputs": [],
   "source": [
    "df"
   ]
  }
 ],
 "metadata": {},
 "nbformat": 4,
 "nbformat_minor": 5
}
