{
 "cells": [
  {
   "cell_type": "markdown",
   "id": "7831fe20",
   "metadata": {},
   "source": [
    "# msrc-tags-merged.json"
   ]
  },
  {
   "cell_type": "markdown",
   "id": "09f82aea",
   "metadata": {},
   "source": [
    "|               | msrc-tags-merged.json               |\n",
    "|:--------------|:------------------------------------|\n",
    "| size          | 14003                               |\n",
    "| last_modified | 2022-11-11T01:36:51.373115          |\n",
    "| count         | 437                                 |\n",
    "| gen_time      | 0.048703908920288                   |\n",
    "| key_index     |                                     |\n",
    "| key_data      |                                     |\n",
    "| swap_axes     | False                               |\n",
    "| normalize     | False                               |\n",
    "| skip_book     | False                               |\n",
    "| sources       | ['https://api.msrc.microsoft.com/'] |"
   ]
  },
  {
   "cell_type": "code",
   "execution_count": null,
   "id": "0d45772f",
   "metadata": {
    "tags": [
     "hide-input"
    ]
   },
   "outputs": [],
   "source": [
    "\n",
    "from itables import init_notebook_mode\n",
    "import itables.options as opt\n",
    "opt.lengthMenu = [60, 100, 300]\n",
    "opt.maxBytes = 0\n",
    "init_notebook_mode(all_interactive=True)    \n",
    "    "
   ]
  },
  {
   "cell_type": "code",
   "execution_count": null,
   "id": "13efdb95",
   "metadata": {},
   "outputs": [],
   "source": [
    "\n",
    "import pathlib\n",
    "import pandas\n",
    "import json\n",
    "data = pathlib.Path(\"/home/runner/work/cvedata/cvedata/cvedata/data\", 'msrc-tags-merged.json')\n"
   ]
  },
  {
   "cell_type": "code",
   "execution_count": null,
   "id": "57f59e88",
   "metadata": {},
   "outputs": [],
   "source": [
    "json_data = json.loads(data.read_text())\n",
    "df = pandas.read_json(json.dumps(json_data))"
   ]
  },
  {
   "cell_type": "code",
   "execution_count": null,
   "id": "8ee72212",
   "metadata": {
    "tags": [
     "full-width"
    ]
   },
   "outputs": [],
   "source": [
    "df"
   ]
  }
 ],
 "metadata": {},
 "nbformat": 4,
 "nbformat_minor": 5
}
