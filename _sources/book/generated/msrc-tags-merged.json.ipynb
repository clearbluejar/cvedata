{
 "cells": [
  {
   "cell_type": "markdown",
   "id": "0a22e681",
   "metadata": {},
   "source": [
    "# msrc-tags-merged.json"
   ]
  },
  {
   "cell_type": "markdown",
   "id": "31169785",
   "metadata": {},
   "source": [
    "|               | msrc-tags-merged.json               |\n",
    "|:--------------|:------------------------------------|\n",
    "| size          | 13810                               |\n",
    "| last_modified | 2022-10-25T10:21:01.657998          |\n",
    "| count         | 431                                 |\n",
    "| gen_time      | 0.017688512802124003                |\n",
    "| skip_book     | False                               |\n",
    "| sources       | ['https://api.msrc.microsoft.com/'] |\n",
    "| key_index     |                                     |\n",
    "| swap_axes     | False                               |\n",
    "| normalize     | False                               |"
   ]
  },
  {
   "cell_type": "code",
   "execution_count": null,
   "id": "9c7c68c1",
   "metadata": {
    "tags": [
     "hide-input"
    ]
   },
   "outputs": [],
   "source": [
    "\n",
    "from itables import init_notebook_mode\n",
    "import itables.options as opt\n",
    "opt.lengthMenu = [60, 100, 300]\n",
    "opt.maxBytes = 13810\n",
    "init_notebook_mode(all_interactive=True)    \n",
    "    "
   ]
  },
  {
   "cell_type": "code",
   "execution_count": null,
   "id": "ba772bdd",
   "metadata": {},
   "outputs": [],
   "source": [
    "\n",
    "import pathlib\n",
    "import pandas\n",
    "import json\n",
    "data = pathlib.Path('..','..','..','cvedata','data', 'msrc-tags-merged.json')\n",
    "    "
   ]
  },
  {
   "cell_type": "code",
   "execution_count": null,
   "id": "bea9a523",
   "metadata": {},
   "outputs": [],
   "source": [
    "\n",
    "df = pandas.read_json(data)"
   ]
  },
  {
   "cell_type": "code",
   "execution_count": null,
   "id": "14258b37",
   "metadata": {
    "tags": [
     "full-width"
    ]
   },
   "outputs": [],
   "source": [
    "df"
   ]
  }
 ],
 "metadata": {},
 "nbformat": 4,
 "nbformat_minor": 5
}
