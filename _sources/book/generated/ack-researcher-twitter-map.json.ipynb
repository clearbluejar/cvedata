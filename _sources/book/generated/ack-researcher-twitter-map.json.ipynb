{
 "cells": [
  {
   "cell_type": "markdown",
   "id": "5a394f97",
   "metadata": {},
   "source": [
    "# ack-researcher-twitter-map.json"
   ]
  },
  {
   "cell_type": "markdown",
   "id": "e685a371",
   "metadata": {},
   "source": [
    "|               | ack-researcher-twitter-map.json                                              |\n",
    "|:--------------|:-----------------------------------------------------------------------------|\n",
    "| size          | 83743                                                                        |\n",
    "| last_modified | 2022-11-29T21:48:04.112573                                                   |\n",
    "| count         | 1870                                                                         |\n",
    "| gen_time      | 0.043596267700195                                                            |\n",
    "| key_index     |                                                                              |\n",
    "| key_data      |                                                                              |\n",
    "| swap_axes     | True                                                                         |\n",
    "| normalize     | False                                                                        |\n",
    "| skip_book     | False                                                                        |\n",
    "| sources       | ['https://chromereleases.googleblog.com', 'https://api.msrc.microsoft.com/'] |"
   ]
  },
  {
   "cell_type": "code",
   "execution_count": null,
   "id": "fb11ce2e",
   "metadata": {
    "tags": [
     "hide-input"
    ]
   },
   "outputs": [],
   "source": [
    "\n",
    "from itables import init_notebook_mode\n",
    "import itables.options as opt\n",
    "opt.lengthMenu = [60, 100, 300]\n",
    "opt.maxBytes = 0\n",
    "init_notebook_mode(all_interactive=True)    \n",
    "    "
   ]
  },
  {
   "cell_type": "code",
   "execution_count": null,
   "id": "35a4bcd9",
   "metadata": {},
   "outputs": [],
   "source": [
    "\n",
    "import pathlib\n",
    "import pandas\n",
    "import json\n",
    "data = pathlib.Path(\"/home/runner/work/cvedata/cvedata/cvedata/data\", 'ack-researcher-twitter-map.json')\n"
   ]
  },
  {
   "cell_type": "code",
   "execution_count": null,
   "id": "9a22886e",
   "metadata": {},
   "outputs": [],
   "source": [
    "json_data = json.loads(data.read_text())\n",
    "df = pandas.read_json(json.dumps(json_data))\n",
    "df = df.swapaxes('columns','index')"
   ]
  },
  {
   "cell_type": "code",
   "execution_count": null,
   "id": "fec0d661",
   "metadata": {
    "tags": [
     "full-width"
    ]
   },
   "outputs": [],
   "source": [
    "df"
   ]
  }
 ],
 "metadata": {},
 "nbformat": 4,
 "nbformat_minor": 5
}
