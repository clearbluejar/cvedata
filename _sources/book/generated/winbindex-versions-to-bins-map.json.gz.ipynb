{
 "cells": [
  {
   "cell_type": "markdown",
   "id": "3b7e79ce",
   "metadata": {},
   "source": [
    "# winbindex-versions-to-bins-map.json.gz"
   ]
  },
  {
   "cell_type": "markdown",
   "id": "36ab75dd",
   "metadata": {},
   "source": [
    "|               | winbindex-versions-to-bins-map.json.gz                                 |\n",
    "|:--------------|:-----------------------------------------------------------------------|\n",
    "| size          | 814725                                                                 |\n",
    "| last_modified | 2022-11-11T01:39:48.438639                                             |\n",
    "| count         | 5546                                                                   |\n",
    "| gen_time      | 177.0234889984131                                                      |\n",
    "| sources       | ['https://github.com/m417z/winbindex/archive/refs/heads/gh-pages.zip'] |"
   ]
  },
  {
   "cell_type": "code",
   "execution_count": null,
   "id": "ffb8897f",
   "metadata": {
    "tags": [
     "hide-input"
    ]
   },
   "outputs": [],
   "source": [
    "\n",
    "from itables import init_notebook_mode\n",
    "import itables.options as opt\n",
    "opt.lengthMenu = [60, 100, 300]\n",
    "opt.maxBytes = 0\n",
    "init_notebook_mode(all_interactive=True)    \n",
    "    "
   ]
  },
  {
   "cell_type": "code",
   "execution_count": null,
   "id": "9aa451e1",
   "metadata": {},
   "outputs": [],
   "source": [
    "\n",
    "import pathlib\n",
    "import pandas\n",
    "import json\n",
    "data = pathlib.Path(\"/home/runner/work/cvedata/cvedata/cvedata/data\", 'winbindex-versions-to-bins-map.json.gz')\n"
   ]
  },
  {
   "cell_type": "code",
   "execution_count": null,
   "id": "dc931a74",
   "metadata": {},
   "outputs": [],
   "source": [
    "import gzip\n",
    "with gzip.open(data) as f:\n",
    "    json_data = json.load(f)\n",
    "df = pandas.json_normalize(json_data)\n",
    "df = df.swapaxes('columns','index')"
   ]
  },
  {
   "cell_type": "code",
   "execution_count": null,
   "id": "fe2909ce",
   "metadata": {
    "tags": [
     "full-width"
    ]
   },
   "outputs": [],
   "source": [
    "df"
   ]
  }
 ],
 "metadata": {},
 "nbformat": 4,
 "nbformat_minor": 5
}
