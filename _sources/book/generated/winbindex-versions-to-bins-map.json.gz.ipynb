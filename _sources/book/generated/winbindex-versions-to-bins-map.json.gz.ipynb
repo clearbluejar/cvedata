{
 "cells": [
  {
   "cell_type": "markdown",
   "id": "a1f8418a",
   "metadata": {},
   "source": [
    "# winbindex-versions-to-bins-map.json.gz"
   ]
  },
  {
   "cell_type": "markdown",
   "id": "5bf1fa9d",
   "metadata": {},
   "source": [
    "|               | winbindex-versions-to-bins-map.json.gz                                 |\n",
    "|:--------------|:-----------------------------------------------------------------------|\n",
    "| size          | 820292                                                                 |\n",
    "| last_modified | 2022-11-29T21:41:51.586742                                             |\n",
    "| count         | 5600                                                                   |\n",
    "| gen_time      | 150.80958008766174                                                     |\n",
    "| key_index     |                                                                        |\n",
    "| key_data      |                                                                        |\n",
    "| swap_axes     | True                                                                   |\n",
    "| normalize     | True                                                                   |\n",
    "| skip_book     | False                                                                  |\n",
    "| sources       | ['https://github.com/m417z/winbindex/archive/refs/heads/gh-pages.zip'] |"
   ]
  },
  {
   "cell_type": "code",
   "execution_count": null,
   "id": "80d9fe11",
   "metadata": {
    "tags": [
     "hide-input"
    ]
   },
   "outputs": [],
   "source": [
    "\n",
    "from itables import init_notebook_mode\n",
    "import itables.options as opt\n",
    "opt.lengthMenu = [60, 100, 300]\n",
    "opt.maxBytes = 0\n",
    "init_notebook_mode(all_interactive=True)    \n",
    "    "
   ]
  },
  {
   "cell_type": "code",
   "execution_count": null,
   "id": "ee8db375",
   "metadata": {},
   "outputs": [],
   "source": [
    "\n",
    "import pathlib\n",
    "import pandas\n",
    "import json\n",
    "data = pathlib.Path(\"/home/runner/work/cvedata/cvedata/cvedata/data\", 'winbindex-versions-to-bins-map.json.gz')\n"
   ]
  },
  {
   "cell_type": "code",
   "execution_count": null,
   "id": "9d0c7c0c",
   "metadata": {},
   "outputs": [],
   "source": [
    "import gzip\n",
    "with gzip.open(data) as f:\n",
    "    json_data = json.load(f)\n",
    "df = pandas.json_normalize(json_data)\n",
    "df = df.swapaxes('columns','index')"
   ]
  },
  {
   "cell_type": "code",
   "execution_count": null,
   "id": "75477bd4",
   "metadata": {
    "tags": [
     "full-width"
    ]
   },
   "outputs": [],
   "source": [
    "df"
   ]
  }
 ],
 "metadata": {},
 "nbformat": 4,
 "nbformat_minor": 5
}
