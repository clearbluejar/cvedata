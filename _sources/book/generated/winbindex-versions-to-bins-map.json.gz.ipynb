{
 "cells": [
  {
   "cell_type": "markdown",
   "id": "431c7f30",
   "metadata": {},
   "source": [
    "# winbindex-versions-to-bins-map.json.gz"
   ]
  },
  {
   "cell_type": "markdown",
   "id": "86550371",
   "metadata": {},
   "source": [
    "|               | winbindex-versions-to-bins-map.json.gz                                 |\n",
    "|:--------------|:-----------------------------------------------------------------------|\n",
    "| size          | 806818                                                                 |\n",
    "| last_modified | 2022-10-25T11:28:09.584464                                             |\n",
    "| count         | 5475                                                                   |\n",
    "| gen_time      | 160.6518051624298                                                      |\n",
    "| skip_book     | False                                                                  |\n",
    "| sources       | ['https://github.com/m417z/winbindex/archive/refs/heads/gh-pages.zip'] |\n",
    "| key_index     |                                                                        |\n",
    "| swap_axes     | True                                                                   |\n",
    "| normalize     | True                                                                   |"
   ]
  },
  {
   "cell_type": "code",
   "execution_count": null,
   "id": "ce6fcfb5",
   "metadata": {
    "tags": [
     "hide-input"
    ]
   },
   "outputs": [],
   "source": [
    "\n",
    "from itables import init_notebook_mode\n",
    "import itables.options as opt\n",
    "opt.lengthMenu = [60, 100, 300]\n",
    "opt.maxBytes = 806818\n",
    "init_notebook_mode(all_interactive=True)    \n",
    "    "
   ]
  },
  {
   "cell_type": "code",
   "execution_count": null,
   "id": "3360ba52",
   "metadata": {},
   "outputs": [],
   "source": [
    "\n",
    "import pathlib\n",
    "import pandas\n",
    "import json\n",
    "data = pathlib.Path('..','..','..','cvedata','data', 'winbindex-versions-to-bins-map.json.gz')\n",
    "    "
   ]
  },
  {
   "cell_type": "code",
   "execution_count": null,
   "id": "9e206559",
   "metadata": {},
   "outputs": [],
   "source": [
    "import gzip\n",
    "gz_data = None\n",
    "with gzip.open(data) as f:\n",
    "    gz_data = json.load(f)\n",
    "\n",
    "df = pandas.json_normalize(gz_data)\n",
    "df = df.swapaxes('columns','index')"
   ]
  },
  {
   "cell_type": "code",
   "execution_count": null,
   "id": "435eca7f",
   "metadata": {
    "tags": [
     "full-width"
    ]
   },
   "outputs": [],
   "source": [
    "df"
   ]
  }
 ],
 "metadata": {},
 "nbformat": 4,
 "nbformat_minor": 5
}
