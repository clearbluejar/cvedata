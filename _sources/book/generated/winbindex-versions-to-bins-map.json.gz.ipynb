{
 "cells": [
  {
   "cell_type": "markdown",
   "id": "c81d495a",
   "metadata": {},
   "source": [
    "# winbindex-versions-to-bins-map.json.gz"
   ]
  },
  {
   "cell_type": "markdown",
   "id": "0ce5caa1",
   "metadata": {},
   "source": [
    "|               | winbindex-versions-to-bins-map.json.gz                                 |\n",
    "|:--------------|:-----------------------------------------------------------------------|\n",
    "| size          | 818874                                                                 |\n",
    "| last_modified | 2022-11-22T06:33:43.314785                                             |\n",
    "| count         | 5572                                                                   |\n",
    "| gen_time      | 163.7973508834839                                                      |\n",
    "| key_index     |                                                                        |\n",
    "| key_data      |                                                                        |\n",
    "| swap_axes     | True                                                                   |\n",
    "| normalize     | True                                                                   |\n",
    "| skip_book     | False                                                                  |\n",
    "| sources       | ['https://github.com/m417z/winbindex/archive/refs/heads/gh-pages.zip'] |"
   ]
  },
  {
   "cell_type": "code",
   "execution_count": null,
   "id": "3914670e",
   "metadata": {
    "tags": [
     "hide-input"
    ]
   },
   "outputs": [],
   "source": [
    "\n",
    "from itables import init_notebook_mode\n",
    "import itables.options as opt\n",
    "opt.lengthMenu = [60, 100, 300]\n",
    "opt.maxBytes = 0\n",
    "init_notebook_mode(all_interactive=True)    \n",
    "    "
   ]
  },
  {
   "cell_type": "code",
   "execution_count": null,
   "id": "f0bc7583",
   "metadata": {},
   "outputs": [],
   "source": [
    "\n",
    "import pathlib\n",
    "import pandas\n",
    "import json\n",
    "data = pathlib.Path(\"/home/runner/work/cvedata/cvedata/cvedata/data\", 'winbindex-versions-to-bins-map.json.gz')\n"
   ]
  },
  {
   "cell_type": "code",
   "execution_count": null,
   "id": "55e36e7f",
   "metadata": {},
   "outputs": [],
   "source": [
    "import gzip\n",
    "with gzip.open(data) as f:\n",
    "    json_data = json.load(f)\n",
    "df = pandas.json_normalize(json_data)\n",
    "df = df.swapaxes('columns','index')"
   ]
  },
  {
   "cell_type": "code",
   "execution_count": null,
   "id": "f95b7735",
   "metadata": {
    "tags": [
     "full-width"
    ]
   },
   "outputs": [],
   "source": [
    "df"
   ]
  }
 ],
 "metadata": {},
 "nbformat": 4,
 "nbformat_minor": 5
}
