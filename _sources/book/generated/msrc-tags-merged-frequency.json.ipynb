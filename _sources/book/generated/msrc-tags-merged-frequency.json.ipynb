{
 "cells": [
  {
   "cell_type": "markdown",
   "id": "56d26dc6",
   "metadata": {},
   "source": [
    "# msrc-tags-merged-frequency.json"
   ]
  },
  {
   "cell_type": "markdown",
   "id": "328d162f",
   "metadata": {},
   "source": [
    "|               | msrc-tags-merged-frequency.json     |\n",
    "|:--------------|:------------------------------------|\n",
    "| size          | 15190                               |\n",
    "| last_modified | 2022-10-25T11:28:09.752465          |\n",
    "| count         | 431                                 |\n",
    "| gen_time      | 0.018590927124023                   |\n",
    "| skip_book     | False                               |\n",
    "| sources       | ['https://api.msrc.microsoft.com/'] |\n",
    "| key_index     |                                     |\n",
    "| swap_axes     | True                                |\n",
    "| normalize     | True                                |"
   ]
  },
  {
   "cell_type": "code",
   "execution_count": null,
   "id": "e066e4f9",
   "metadata": {
    "tags": [
     "hide-input"
    ]
   },
   "outputs": [],
   "source": [
    "\n",
    "from itables import init_notebook_mode\n",
    "import itables.options as opt\n",
    "opt.lengthMenu = [60, 100, 300]\n",
    "opt.maxBytes = 15190\n",
    "init_notebook_mode(all_interactive=True)    \n",
    "    "
   ]
  },
  {
   "cell_type": "code",
   "execution_count": null,
   "id": "2325ef8e",
   "metadata": {},
   "outputs": [],
   "source": [
    "\n",
    "import pathlib\n",
    "import pandas\n",
    "import json\n",
    "data = pathlib.Path('..','..','..','cvedata','data', 'msrc-tags-merged-frequency.json')\n",
    "    "
   ]
  },
  {
   "cell_type": "code",
   "execution_count": null,
   "id": "93ffdbcf",
   "metadata": {},
   "outputs": [],
   "source": [
    "\n",
    "df = pandas.json_normalize(json.loads(data.read_text()))\n",
    "df = df.swapaxes('columns','index')"
   ]
  },
  {
   "cell_type": "code",
   "execution_count": null,
   "id": "9bb93d25",
   "metadata": {
    "tags": [
     "full-width"
    ]
   },
   "outputs": [],
   "source": [
    "df"
   ]
  }
 ],
 "metadata": {},
 "nbformat": 4,
 "nbformat_minor": 5
}
