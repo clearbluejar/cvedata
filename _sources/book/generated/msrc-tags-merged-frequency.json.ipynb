{
 "cells": [
  {
   "cell_type": "markdown",
   "id": "729c85e2",
   "metadata": {},
   "source": [
    "# msrc-tags-merged-frequency.json"
   ]
  },
  {
   "cell_type": "markdown",
   "id": "703f693b",
   "metadata": {},
   "source": [
    "|               | msrc-tags-merged-frequency.json     |\n",
    "|:--------------|:------------------------------------|\n",
    "| size          | 15190                               |\n",
    "| last_modified | 2022-10-25T11:28:09.752465          |\n",
    "| count         | 431                                 |\n",
    "| gen_time      | 0.018590927124023                   |\n",
    "| skip_book     | False                               |\n",
    "| sources       | ['https://api.msrc.microsoft.com/'] |\n",
    "| key_index     |                                     |\n",
    "| swap_axes     | True                                |\n",
    "| normalize     | True                                |"
   ]
  },
  {
   "cell_type": "code",
   "execution_count": null,
   "id": "6230aae0",
   "metadata": {
    "tags": [
     "hide-input"
    ]
   },
   "outputs": [],
   "source": [
    "\n",
    "from itables import init_notebook_mode\n",
    "import itables.options as opt\n",
    "opt.lengthMenu = [60, 100, 300]\n",
    "opt.maxBytes = 15190\n",
    "init_notebook_mode(all_interactive=True)    \n",
    "    "
   ]
  },
  {
   "cell_type": "code",
   "execution_count": null,
   "id": "70709a19",
   "metadata": {},
   "outputs": [],
   "source": [
    "\n",
    "import pathlib\n",
    "import pandas\n",
    "import json\n",
    "data = pathlib.Path('..','..','..','cvedata','data', 'msrc-tags-merged-frequency.json')\n",
    "    "
   ]
  },
  {
   "cell_type": "code",
   "execution_count": null,
   "id": "8563fb2b",
   "metadata": {},
   "outputs": [],
   "source": [
    "\n",
    "df = pandas.json_normalize(json.loads(data.read_text()))\n",
    "df = df.swapaxes('columns','index')"
   ]
  },
  {
   "cell_type": "code",
   "execution_count": null,
   "id": "7ed6e84f",
   "metadata": {
    "tags": [
     "full-width"
    ]
   },
   "outputs": [],
   "source": [
    "df"
   ]
  }
 ],
 "metadata": {},
 "nbformat": 4,
 "nbformat_minor": 5
}
