{
 "cells": [
  {
   "cell_type": "markdown",
   "id": "3df28bce",
   "metadata": {},
   "source": [
    "# msrc-tags-merged-frequency.json"
   ]
  },
  {
   "cell_type": "markdown",
   "id": "1bf01335",
   "metadata": {},
   "source": [
    "|               | msrc-tags-merged-frequency.json     |\n",
    "|:--------------|:------------------------------------|\n",
    "| size          | 15190                               |\n",
    "| last_modified | 2022-10-25T10:21:01.661998          |\n",
    "| count         | 431                                 |\n",
    "| gen_time      | 0.017688512802124003                |\n",
    "| skip_book     | False                               |\n",
    "| sources       | ['https://api.msrc.microsoft.com/'] |\n",
    "| key_index     |                                     |\n",
    "| swap_axes     | True                                |\n",
    "| normalize     | True                                |"
   ]
  },
  {
   "cell_type": "code",
   "execution_count": null,
   "id": "8cbc1a33",
   "metadata": {
    "tags": [
     "hide-input"
    ]
   },
   "outputs": [],
   "source": [
    "\n",
    "from itables import init_notebook_mode\n",
    "import itables.options as opt\n",
    "opt.lengthMenu = [60, 100, 300]\n",
    "opt.maxBytes = 15190\n",
    "init_notebook_mode(all_interactive=True)    \n",
    "    "
   ]
  },
  {
   "cell_type": "code",
   "execution_count": null,
   "id": "772ea905",
   "metadata": {},
   "outputs": [],
   "source": [
    "\n",
    "import pathlib\n",
    "import pandas\n",
    "import json\n",
    "data = pathlib.Path('..','..','..','cvedata','data', 'msrc-tags-merged-frequency.json')\n",
    "    "
   ]
  },
  {
   "cell_type": "code",
   "execution_count": null,
   "id": "2aa3b24b",
   "metadata": {},
   "outputs": [],
   "source": [
    "\n",
    "df = pandas.json_normalize(json.loads(data.read_text()))\n",
    "df = df.swapaxes('columns','index')"
   ]
  },
  {
   "cell_type": "code",
   "execution_count": null,
   "id": "b69b794c",
   "metadata": {
    "tags": [
     "full-width"
    ]
   },
   "outputs": [],
   "source": [
    "df"
   ]
  }
 ],
 "metadata": {},
 "nbformat": 4,
 "nbformat_minor": 5
}
