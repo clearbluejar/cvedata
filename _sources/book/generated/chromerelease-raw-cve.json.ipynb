{
 "cells": [
  {
   "cell_type": "markdown",
   "id": "0005a493",
   "metadata": {},
   "source": [
    "# chromerelease-raw-cve.json"
   ]
  },
  {
   "cell_type": "markdown",
   "id": "d245f32f",
   "metadata": {},
   "source": [
    "|               | chromerelease-raw-cve.json                |\n",
    "|:--------------|:------------------------------------------|\n",
    "| size          | 412770                                    |\n",
    "| last_modified | 2022-11-22T06:39:24.059443                |\n",
    "| count         | 2321                                      |\n",
    "| gen_time      | 88.43039011955261                         |\n",
    "| key_index     |                                           |\n",
    "| key_data      |                                           |\n",
    "| swap_axes     | False                                     |\n",
    "| normalize     | False                                     |\n",
    "| skip_book     | False                                     |\n",
    "| sources       | ['https://chromereleases.googleblog.com'] |"
   ]
  },
  {
   "cell_type": "code",
   "execution_count": null,
   "id": "2f76add7",
   "metadata": {
    "tags": [
     "hide-input"
    ]
   },
   "outputs": [],
   "source": [
    "\n",
    "from itables import init_notebook_mode\n",
    "import itables.options as opt\n",
    "opt.lengthMenu = [60, 100, 300]\n",
    "opt.maxBytes = 0\n",
    "init_notebook_mode(all_interactive=True)    \n",
    "    "
   ]
  },
  {
   "cell_type": "code",
   "execution_count": null,
   "id": "4894e89c",
   "metadata": {},
   "outputs": [],
   "source": [
    "\n",
    "import pathlib\n",
    "import pandas\n",
    "import json\n",
    "data = pathlib.Path(\"/home/runner/work/cvedata/cvedata/cvedata/data\", 'chromerelease-raw-cve.json')\n"
   ]
  },
  {
   "cell_type": "code",
   "execution_count": null,
   "id": "21d57cd0",
   "metadata": {},
   "outputs": [],
   "source": [
    "json_data = json.loads(data.read_text())\n",
    "df = pandas.read_json(json.dumps(json_data))"
   ]
  },
  {
   "cell_type": "code",
   "execution_count": null,
   "id": "39d7160a",
   "metadata": {
    "tags": [
     "full-width"
    ]
   },
   "outputs": [],
   "source": [
    "df"
   ]
  }
 ],
 "metadata": {},
 "nbformat": 4,
 "nbformat_minor": 5
}
