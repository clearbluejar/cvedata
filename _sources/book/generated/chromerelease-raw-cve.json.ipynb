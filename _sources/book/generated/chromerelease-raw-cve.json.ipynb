{
 "cells": [
  {
   "cell_type": "markdown",
   "id": "4cce81f2",
   "metadata": {},
   "source": [
    "# chromerelease-raw-cve.json"
   ]
  },
  {
   "cell_type": "markdown",
   "id": "e2ee3a4e",
   "metadata": {},
   "source": [
    "|               | chromerelease-raw-cve.json                |\n",
    "|:--------------|:------------------------------------------|\n",
    "| size          | 412820                                    |\n",
    "| last_modified | 2022-11-29T21:48:03.792561                |\n",
    "| count         | 2321                                      |\n",
    "| gen_time      | 140.7647602558136                         |\n",
    "| key_index     |                                           |\n",
    "| key_data      |                                           |\n",
    "| swap_axes     | False                                     |\n",
    "| normalize     | False                                     |\n",
    "| skip_book     | False                                     |\n",
    "| sources       | ['https://chromereleases.googleblog.com'] |"
   ]
  },
  {
   "cell_type": "code",
   "execution_count": null,
   "id": "de646431",
   "metadata": {
    "tags": [
     "hide-input"
    ]
   },
   "outputs": [],
   "source": [
    "\n",
    "from itables import init_notebook_mode\n",
    "import itables.options as opt\n",
    "opt.lengthMenu = [60, 100, 300]\n",
    "opt.maxBytes = 0\n",
    "init_notebook_mode(all_interactive=True)    \n",
    "    "
   ]
  },
  {
   "cell_type": "code",
   "execution_count": null,
   "id": "986cf0c5",
   "metadata": {},
   "outputs": [],
   "source": [
    "\n",
    "import pathlib\n",
    "import pandas\n",
    "import json\n",
    "data = pathlib.Path(\"/home/runner/work/cvedata/cvedata/cvedata/data\", 'chromerelease-raw-cve.json')\n"
   ]
  },
  {
   "cell_type": "code",
   "execution_count": null,
   "id": "97f10a75",
   "metadata": {},
   "outputs": [],
   "source": [
    "json_data = json.loads(data.read_text())\n",
    "df = pandas.read_json(json.dumps(json_data))"
   ]
  },
  {
   "cell_type": "code",
   "execution_count": null,
   "id": "201cd5f3",
   "metadata": {
    "tags": [
     "full-width"
    ]
   },
   "outputs": [],
   "source": [
    "df"
   ]
  }
 ],
 "metadata": {},
 "nbformat": 4,
 "nbformat_minor": 5
}
