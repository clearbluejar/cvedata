{
 "cells": [
  {
   "cell_type": "markdown",
   "id": "27bc3efe",
   "metadata": {},
   "source": [
    "# researcher_names.json"
   ]
  },
  {
   "cell_type": "markdown",
   "id": "0fee47a7",
   "metadata": {},
   "source": [
    "|               | researcher_names.json                                                        |\n",
    "|:--------------|:-----------------------------------------------------------------------------|\n",
    "| size          | 259433                                                                       |\n",
    "| last_modified | 2022-11-11T01:42:12.291808                                                   |\n",
    "| count         | 3198                                                                         |\n",
    "| gen_time      | 0.082508325576782                                                            |\n",
    "| key_index     |                                                                              |\n",
    "| key_data      |                                                                              |\n",
    "| swap_axes     | False                                                                        |\n",
    "| normalize     | False                                                                        |\n",
    "| skip_book     | False                                                                        |\n",
    "| sources       | ['https://chromereleases.googleblog.com', 'https://api.msrc.microsoft.com/'] |"
   ]
  },
  {
   "cell_type": "code",
   "execution_count": null,
   "id": "5c27ddf0",
   "metadata": {
    "tags": [
     "hide-input"
    ]
   },
   "outputs": [],
   "source": [
    "\n",
    "from itables import init_notebook_mode\n",
    "import itables.options as opt\n",
    "opt.lengthMenu = [60, 100, 300]\n",
    "opt.maxBytes = 0\n",
    "init_notebook_mode(all_interactive=True)    \n",
    "    "
   ]
  },
  {
   "cell_type": "code",
   "execution_count": null,
   "id": "e20bc3cd",
   "metadata": {},
   "outputs": [],
   "source": [
    "\n",
    "import pathlib\n",
    "import pandas\n",
    "import json\n",
    "data = pathlib.Path(\"/home/runner/work/cvedata/cvedata/cvedata/data\", 'researcher_names.json')\n"
   ]
  },
  {
   "cell_type": "code",
   "execution_count": null,
   "id": "131041b6",
   "metadata": {},
   "outputs": [],
   "source": [
    "json_data = json.loads(data.read_text())\n",
    "df = pandas.read_json(json.dumps(json_data))"
   ]
  },
  {
   "cell_type": "code",
   "execution_count": null,
   "id": "66067990",
   "metadata": {
    "tags": [
     "full-width"
    ]
   },
   "outputs": [],
   "source": [
    "df"
   ]
  }
 ],
 "metadata": {},
 "nbformat": 4,
 "nbformat_minor": 5
}
