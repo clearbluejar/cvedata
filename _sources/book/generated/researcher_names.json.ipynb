{
 "cells": [
  {
   "cell_type": "markdown",
   "id": "f29a7d44",
   "metadata": {},
   "source": [
    "# researcher_names.json"
   ]
  },
  {
   "cell_type": "markdown",
   "id": "6f2eac2f",
   "metadata": {},
   "source": [
    "|               | researcher_names.json                                                        |\n",
    "|:--------------|:-----------------------------------------------------------------------------|\n",
    "| size          | 971245                                                                       |\n",
    "| last_modified | 2022-11-19T12:21:35.154042                                                   |\n",
    "| count         | 8433                                                                         |\n",
    "| gen_time      | 0.050008535385131                                                            |\n",
    "| key_index     |                                                                              |\n",
    "| key_data      |                                                                              |\n",
    "| swap_axes     | False                                                                        |\n",
    "| normalize     | False                                                                        |\n",
    "| skip_book     | False                                                                        |\n",
    "| sources       | ['https://chromereleases.googleblog.com', 'https://api.msrc.microsoft.com/'] |"
   ]
  },
  {
   "cell_type": "code",
   "execution_count": null,
   "id": "d150d73a",
   "metadata": {
    "tags": [
     "hide-input"
    ]
   },
   "outputs": [],
   "source": [
    "\n",
    "from itables import init_notebook_mode\n",
    "import itables.options as opt\n",
    "opt.lengthMenu = [60, 100, 300]\n",
    "opt.maxBytes = 0\n",
    "init_notebook_mode(all_interactive=True)    \n",
    "    "
   ]
  },
  {
   "cell_type": "code",
   "execution_count": null,
   "id": "91acd2dd",
   "metadata": {},
   "outputs": [],
   "source": [
    "\n",
    "import pathlib\n",
    "import pandas\n",
    "import json\n",
    "data = pathlib.Path(\"/home/runner/work/cvedata/cvedata/cvedata/data\", 'researcher_names.json')\n"
   ]
  },
  {
   "cell_type": "code",
   "execution_count": null,
   "id": "89f54036",
   "metadata": {},
   "outputs": [],
   "source": [
    "json_data = json.loads(data.read_text())\n",
    "df = pandas.read_json(json.dumps(json_data))"
   ]
  },
  {
   "cell_type": "code",
   "execution_count": null,
   "id": "bf70396d",
   "metadata": {
    "tags": [
     "full-width"
    ]
   },
   "outputs": [],
   "source": [
    "df"
   ]
  }
 ],
 "metadata": {},
 "nbformat": 4,
 "nbformat_minor": 5
}
