{
 "cells": [
  {
   "cell_type": "markdown",
   "id": "58f5cc6f",
   "metadata": {},
   "source": [
    "# researcher_names.json"
   ]
  },
  {
   "cell_type": "markdown",
   "id": "1994be0e",
   "metadata": {},
   "source": [
    "|               | researcher_names.json                                                        |\n",
    "|:--------------|:-----------------------------------------------------------------------------|\n",
    "| size          | 259433                                                                       |\n",
    "| last_modified | 2022-11-11T01:42:12.291808                                                   |\n",
    "| count         | 3198                                                                         |\n",
    "| gen_time      | 0.082508325576782                                                            |\n",
    "| key_index     |                                                                              |\n",
    "| key_data      |                                                                              |\n",
    "| swap_axes     | False                                                                        |\n",
    "| normalize     | False                                                                        |\n",
    "| skip_book     | False                                                                        |\n",
    "| sources       | ['https://chromereleases.googleblog.com', 'https://api.msrc.microsoft.com/'] |"
   ]
  },
  {
   "cell_type": "code",
   "execution_count": null,
   "id": "ef98f436",
   "metadata": {
    "tags": [
     "hide-input"
    ]
   },
   "outputs": [],
   "source": [
    "\n",
    "from itables import init_notebook_mode\n",
    "import itables.options as opt\n",
    "opt.lengthMenu = [60, 100, 300]\n",
    "opt.maxBytes = 0\n",
    "init_notebook_mode(all_interactive=True)    \n",
    "    "
   ]
  },
  {
   "cell_type": "code",
   "execution_count": null,
   "id": "ecc8e80d",
   "metadata": {},
   "outputs": [],
   "source": [
    "\n",
    "import pathlib\n",
    "import pandas\n",
    "import json\n",
    "data = pathlib.Path(\"/home/runner/work/cvedata/cvedata/cvedata/data\", 'researcher_names.json')\n"
   ]
  },
  {
   "cell_type": "code",
   "execution_count": null,
   "id": "8bcc0ed8",
   "metadata": {},
   "outputs": [],
   "source": [
    "json_data = json.loads(data.read_text())\n",
    "df = pandas.read_json(json.dumps(json_data))"
   ]
  },
  {
   "cell_type": "code",
   "execution_count": null,
   "id": "0c0fd3ba",
   "metadata": {
    "tags": [
     "full-width"
    ]
   },
   "outputs": [],
   "source": [
    "df"
   ]
  }
 ],
 "metadata": {},
 "nbformat": 4,
 "nbformat_minor": 5
}
