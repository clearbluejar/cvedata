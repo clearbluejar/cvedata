{
 "cells": [
  {
   "cell_type": "markdown",
   "id": "2dd1ba81",
   "metadata": {},
   "source": [
    "# msrc-cve-to-bins.json"
   ]
  },
  {
   "cell_type": "markdown",
   "id": "eaf9cda7",
   "metadata": {},
   "source": [
    "|               | msrc-cve-to-bins.json      |\n",
    "|:--------------|:---------------------------|\n",
    "| size          | 8160816                    |\n",
    "| last_modified | 2022-12-05T16:44:58.551155 |\n",
    "| count         | 12                         |\n",
    "| gen_time      | 12.467047214508057         |\n",
    "| key_index     |                            |\n",
    "| key_data      |                            |\n",
    "| swap_axes     | False                      |\n",
    "| normalize     | False                      |\n",
    "| skip_book     | False                      |\n",
    "| sources       |                            |"
   ]
  },
  {
   "cell_type": "code",
   "execution_count": null,
   "id": "b563ed1d",
   "metadata": {
    "tags": [
     "hide-input"
    ]
   },
   "outputs": [],
   "source": [
    "\n",
    "from itables import init_notebook_mode\n",
    "import itables.options as opt\n",
    "opt.lengthMenu = [60, 100, 300]\n",
    "opt.maxBytes = 0\n",
    "init_notebook_mode(all_interactive=True)    \n",
    "    "
   ]
  },
  {
   "cell_type": "code",
   "execution_count": null,
   "id": "ee013f40",
   "metadata": {},
   "outputs": [],
   "source": [
    "\n",
    "import pathlib\n",
    "import pandas\n",
    "import json\n",
    "data = pathlib.Path(\"/home/runner/work/cvedata/cvedata/cvedata/data\", 'msrc-cve-to-bins.json')\n"
   ]
  },
  {
   "cell_type": "code",
   "execution_count": null,
   "id": "eeb21ec4",
   "metadata": {},
   "outputs": [],
   "source": [
    "json_data = json.loads(data.read_text())\n",
    "df = pandas.read_json(json.dumps(json_data))"
   ]
  },
  {
   "cell_type": "code",
   "execution_count": null,
   "id": "37f083ad",
   "metadata": {
    "tags": [
     "full-width"
    ]
   },
   "outputs": [],
   "source": [
    "df"
   ]
  }
 ],
 "metadata": {},
 "nbformat": 4,
 "nbformat_minor": 5
}
