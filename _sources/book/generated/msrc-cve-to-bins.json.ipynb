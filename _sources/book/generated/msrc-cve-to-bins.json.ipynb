{
 "cells": [
  {
   "cell_type": "markdown",
   "id": "cdcff2ef",
   "metadata": {},
   "source": [
    "# msrc-cve-to-bins.json"
   ]
  },
  {
   "cell_type": "markdown",
   "id": "ac1394fb",
   "metadata": {},
   "source": [
    "|               | msrc-cve-to-bins.json      |\n",
    "|:--------------|:---------------------------|\n",
    "| size          | 8688186                    |\n",
    "| last_modified | 2022-11-29T21:45:42.931399 |\n",
    "| count         | 12                         |\n",
    "| gen_time      | 11.500601291656494         |\n",
    "| key_index     |                            |\n",
    "| key_data      |                            |\n",
    "| swap_axes     | False                      |\n",
    "| normalize     | False                      |\n",
    "| skip_book     | False                      |\n",
    "| sources       |                            |"
   ]
  },
  {
   "cell_type": "code",
   "execution_count": null,
   "id": "a918209c",
   "metadata": {
    "tags": [
     "hide-input"
    ]
   },
   "outputs": [],
   "source": [
    "\n",
    "from itables import init_notebook_mode\n",
    "import itables.options as opt\n",
    "opt.lengthMenu = [60, 100, 300]\n",
    "opt.maxBytes = 0\n",
    "init_notebook_mode(all_interactive=True)    \n",
    "    "
   ]
  },
  {
   "cell_type": "code",
   "execution_count": null,
   "id": "32b3df2f",
   "metadata": {},
   "outputs": [],
   "source": [
    "\n",
    "import pathlib\n",
    "import pandas\n",
    "import json\n",
    "data = pathlib.Path(\"/home/runner/work/cvedata/cvedata/cvedata/data\", 'msrc-cve-to-bins.json')\n"
   ]
  },
  {
   "cell_type": "code",
   "execution_count": null,
   "id": "f32fb232",
   "metadata": {},
   "outputs": [],
   "source": [
    "json_data = json.loads(data.read_text())\n",
    "df = pandas.read_json(json.dumps(json_data))"
   ]
  },
  {
   "cell_type": "code",
   "execution_count": null,
   "id": "57e5a63a",
   "metadata": {
    "tags": [
     "full-width"
    ]
   },
   "outputs": [],
   "source": [
    "df"
   ]
  }
 ],
 "metadata": {},
 "nbformat": 4,
 "nbformat_minor": 5
}
