{
 "cells": [
  {
   "cell_type": "markdown",
   "id": "7cbd3afb",
   "metadata": {},
   "source": [
    "# msrc-cve-to-bins.json"
   ]
  },
  {
   "cell_type": "markdown",
   "id": "4ecd1111",
   "metadata": {},
   "source": [
    "|               | msrc-cve-to-bins.json      |\n",
    "|:--------------|:---------------------------|\n",
    "| size          | 14362062                   |\n",
    "| last_modified | 2022-12-14T04:15:46.889039 |\n",
    "| count         | 13                         |\n",
    "| gen_time      | 14.797981977462769         |\n",
    "| key_index     |                            |\n",
    "| key_data      |                            |\n",
    "| swap_axes     | False                      |\n",
    "| normalize     | False                      |\n",
    "| skip_book     | False                      |\n",
    "| sources       |                            |"
   ]
  },
  {
   "cell_type": "code",
   "execution_count": null,
   "id": "e66a4b10",
   "metadata": {
    "tags": [
     "hide-input"
    ]
   },
   "outputs": [],
   "source": [
    "\n",
    "from itables import init_notebook_mode\n",
    "import itables.options as opt\n",
    "opt.lengthMenu = [60, 100, 300]\n",
    "opt.maxBytes = 0\n",
    "init_notebook_mode(all_interactive=True)    \n",
    "    "
   ]
  },
  {
   "cell_type": "code",
   "execution_count": null,
   "id": "2dc7b3f2",
   "metadata": {},
   "outputs": [],
   "source": [
    "\n",
    "import pathlib\n",
    "import pandas\n",
    "import json\n",
    "data = pathlib.Path(\"/home/runner/work/cvedata/cvedata/cvedata/data\", 'msrc-cve-to-bins.json')\n"
   ]
  },
  {
   "cell_type": "code",
   "execution_count": null,
   "id": "7e9af1e6",
   "metadata": {},
   "outputs": [],
   "source": [
    "json_data = json.loads(data.read_text())\n",
    "df = pandas.read_json(json.dumps(json_data))"
   ]
  },
  {
   "cell_type": "code",
   "execution_count": null,
   "id": "84989525",
   "metadata": {
    "tags": [
     "full-width"
    ]
   },
   "outputs": [],
   "source": [
    "df"
   ]
  }
 ],
 "metadata": {},
 "nbformat": 4,
 "nbformat_minor": 5
}
