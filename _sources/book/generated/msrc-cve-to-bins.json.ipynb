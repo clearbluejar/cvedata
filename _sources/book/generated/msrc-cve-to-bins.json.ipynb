{
 "cells": [
  {
   "cell_type": "markdown",
   "id": "f522ba59",
   "metadata": {},
   "source": [
    "# msrc-cve-to-bins.json"
   ]
  },
  {
   "cell_type": "markdown",
   "id": "78a83a9a",
   "metadata": {},
   "source": [
    "|               | msrc-cve-to-bins.json      |\n",
    "|:--------------|:---------------------------|\n",
    "| size          | 8693406                    |\n",
    "| last_modified | 2022-11-22T06:37:55.518231 |\n",
    "| count         | 12                         |\n",
    "| gen_time      | 12.119824409484863         |\n",
    "| key_index     |                            |\n",
    "| key_data      |                            |\n",
    "| swap_axes     | False                      |\n",
    "| normalize     | False                      |\n",
    "| skip_book     | False                      |\n",
    "| sources       |                            |"
   ]
  },
  {
   "cell_type": "code",
   "execution_count": null,
   "id": "649fbbb3",
   "metadata": {
    "tags": [
     "hide-input"
    ]
   },
   "outputs": [],
   "source": [
    "\n",
    "from itables import init_notebook_mode\n",
    "import itables.options as opt\n",
    "opt.lengthMenu = [60, 100, 300]\n",
    "opt.maxBytes = 0\n",
    "init_notebook_mode(all_interactive=True)    \n",
    "    "
   ]
  },
  {
   "cell_type": "code",
   "execution_count": null,
   "id": "a8d3f055",
   "metadata": {},
   "outputs": [],
   "source": [
    "\n",
    "import pathlib\n",
    "import pandas\n",
    "import json\n",
    "data = pathlib.Path(\"/home/runner/work/cvedata/cvedata/cvedata/data\", 'msrc-cve-to-bins.json')\n"
   ]
  },
  {
   "cell_type": "code",
   "execution_count": null,
   "id": "ea5b4a6b",
   "metadata": {},
   "outputs": [],
   "source": [
    "json_data = json.loads(data.read_text())\n",
    "df = pandas.read_json(json.dumps(json_data))"
   ]
  },
  {
   "cell_type": "code",
   "execution_count": null,
   "id": "7fa73b74",
   "metadata": {
    "tags": [
     "full-width"
    ]
   },
   "outputs": [],
   "source": [
    "df"
   ]
  }
 ],
 "metadata": {},
 "nbformat": 4,
 "nbformat_minor": 5
}
