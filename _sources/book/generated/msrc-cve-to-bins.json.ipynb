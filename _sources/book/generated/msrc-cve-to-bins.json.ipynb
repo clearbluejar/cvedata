{
 "cells": [
  {
   "cell_type": "markdown",
   "id": "e333bfcf",
   "metadata": {},
   "source": [
    "# msrc-cve-to-bins.json"
   ]
  },
  {
   "cell_type": "markdown",
   "id": "6307b87f",
   "metadata": {},
   "source": [
    "|               | msrc-cve-to-bins.json      |\n",
    "|:--------------|:---------------------------|\n",
    "| size          | 8693406                    |\n",
    "| last_modified | 2022-11-22T06:37:55.518231 |\n",
    "| count         | 12                         |\n",
    "| gen_time      | 12.119824409484863         |\n",
    "| key_index     |                            |\n",
    "| key_data      |                            |\n",
    "| swap_axes     | False                      |\n",
    "| normalize     | False                      |\n",
    "| skip_book     | False                      |\n",
    "| sources       |                            |"
   ]
  },
  {
   "cell_type": "code",
   "execution_count": null,
   "id": "409e24f2",
   "metadata": {
    "tags": [
     "hide-input"
    ]
   },
   "outputs": [],
   "source": [
    "\n",
    "from itables import init_notebook_mode\n",
    "import itables.options as opt\n",
    "opt.lengthMenu = [60, 100, 300]\n",
    "opt.maxBytes = 0\n",
    "init_notebook_mode(all_interactive=True)    \n",
    "    "
   ]
  },
  {
   "cell_type": "code",
   "execution_count": null,
   "id": "b32a9f00",
   "metadata": {},
   "outputs": [],
   "source": [
    "\n",
    "import pathlib\n",
    "import pandas\n",
    "import json\n",
    "data = pathlib.Path(\"/home/runner/work/cvedata/cvedata/cvedata/data\", 'msrc-cve-to-bins.json')\n"
   ]
  },
  {
   "cell_type": "code",
   "execution_count": null,
   "id": "87fa0901",
   "metadata": {},
   "outputs": [],
   "source": [
    "json_data = json.loads(data.read_text())\n",
    "df = pandas.read_json(json.dumps(json_data))"
   ]
  },
  {
   "cell_type": "code",
   "execution_count": null,
   "id": "f5d48be6",
   "metadata": {
    "tags": [
     "full-width"
    ]
   },
   "outputs": [],
   "source": [
    "df"
   ]
  }
 ],
 "metadata": {},
 "nbformat": 4,
 "nbformat_minor": 5
}
