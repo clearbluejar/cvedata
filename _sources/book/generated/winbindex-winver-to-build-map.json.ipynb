{
 "cells": [
  {
   "cell_type": "markdown",
   "id": "edafe9a4",
   "metadata": {},
   "source": [
    "# winbindex-winver-to-build-map.json"
   ]
  },
  {
   "cell_type": "markdown",
   "id": "50365588",
   "metadata": {},
   "source": [
    "|               | winbindex-winver-to-build-map.json                                     |\n",
    "|:--------------|:-----------------------------------------------------------------------|\n",
    "| size          | 14750                                                                  |\n",
    "| last_modified | 2022-11-11T01:39:47.362629                                             |\n",
    "| count         | 13                                                                     |\n",
    "| gen_time      | 177.0234889984131                                                      |\n",
    "| key_index     |                                                                        |\n",
    "| key_data      |                                                                        |\n",
    "| swap_axes     | False                                                                  |\n",
    "| normalize     | True                                                                   |\n",
    "| skip_book     | False                                                                  |\n",
    "| sources       | ['https://github.com/m417z/winbindex/archive/refs/heads/gh-pages.zip'] |"
   ]
  },
  {
   "cell_type": "code",
   "execution_count": null,
   "id": "bf0deb3c",
   "metadata": {
    "tags": [
     "hide-input"
    ]
   },
   "outputs": [],
   "source": [
    "\n",
    "from itables import init_notebook_mode\n",
    "import itables.options as opt\n",
    "opt.lengthMenu = [60, 100, 300]\n",
    "opt.maxBytes = 0\n",
    "init_notebook_mode(all_interactive=True)    \n",
    "    "
   ]
  },
  {
   "cell_type": "code",
   "execution_count": null,
   "id": "b6e34720",
   "metadata": {},
   "outputs": [],
   "source": [
    "\n",
    "import pathlib\n",
    "import pandas\n",
    "import json\n",
    "data = pathlib.Path(\"/home/runner/work/cvedata/cvedata/cvedata/data\", 'winbindex-winver-to-build-map.json')\n"
   ]
  },
  {
   "cell_type": "code",
   "execution_count": null,
   "id": "e886f93f",
   "metadata": {},
   "outputs": [],
   "source": [
    "json_data = json.loads(data.read_text())\n",
    "df = pandas.json_normalize(json_data)"
   ]
  },
  {
   "cell_type": "code",
   "execution_count": null,
   "id": "b03ce8c2",
   "metadata": {
    "tags": [
     "full-width"
    ]
   },
   "outputs": [],
   "source": [
    "df"
   ]
  }
 ],
 "metadata": {},
 "nbformat": 4,
 "nbformat_minor": 5
}
