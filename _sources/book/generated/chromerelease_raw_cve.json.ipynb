{
 "cells": [
  {
   "cell_type": "markdown",
   "id": "862e2063",
   "metadata": {},
   "source": [
    "# chromerelease_raw_cve.json"
   ]
  },
  {
   "cell_type": "markdown",
   "id": "8689d7e1",
   "metadata": {},
   "source": [
    "|               | chromerelease_raw_cve.json                |\n",
    "|:--------------|:------------------------------------------|\n",
    "| size          | 410724                                    |\n",
    "| last_modified | 2022-10-25T10:18:14.800676                |\n",
    "| count         | 2309                                      |\n",
    "| gen_time      | 137.91717553138733                        |\n",
    "| skip_book     | False                                     |\n",
    "| sources       | ['https://chromereleases.googleblog.com'] |\n",
    "| key_index     |                                           |\n",
    "| swap_axes     | True                                      |\n",
    "| normalize     | False                                     |"
   ]
  },
  {
   "cell_type": "code",
   "execution_count": null,
   "id": "cbb565aa",
   "metadata": {
    "tags": [
     "hide-input"
    ]
   },
   "outputs": [],
   "source": [
    "\n",
    "from itables import init_notebook_mode\n",
    "import itables.options as opt\n",
    "opt.lengthMenu = [60, 100, 300]\n",
    "opt.maxBytes = 410724\n",
    "init_notebook_mode(all_interactive=True)    \n",
    "    "
   ]
  },
  {
   "cell_type": "code",
   "execution_count": null,
   "id": "1d721e87",
   "metadata": {},
   "outputs": [],
   "source": [
    "\n",
    "import pathlib\n",
    "import pandas\n",
    "import json\n",
    "data = pathlib.Path('..','..','..','cvedata','data', 'chromerelease_raw_cve.json')\n",
    "    "
   ]
  },
  {
   "cell_type": "code",
   "execution_count": null,
   "id": "97997e92",
   "metadata": {},
   "outputs": [],
   "source": [
    "\n",
    "df = pandas.read_json(data)\n",
    "df = df.swapaxes('columns','index')"
   ]
  },
  {
   "cell_type": "code",
   "execution_count": null,
   "id": "4469dc45",
   "metadata": {
    "tags": [
     "full-width"
    ]
   },
   "outputs": [],
   "source": [
    "df"
   ]
  }
 ],
 "metadata": {},
 "nbformat": 4,
 "nbformat_minor": 5
}
