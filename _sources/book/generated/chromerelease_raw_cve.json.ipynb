{
 "cells": [
  {
   "cell_type": "markdown",
   "id": "abc19b7a",
   "metadata": {},
   "source": [
    "# chromerelease_raw_cve.json"
   ]
  },
  {
   "cell_type": "markdown",
   "id": "0d8b451a",
   "metadata": {},
   "source": [
    "|               | chromerelease_raw_cve.json                |\n",
    "|:--------------|:------------------------------------------|\n",
    "| size          | 412770                                    |\n",
    "| last_modified | 2022-11-19T12:21:35.002026                |\n",
    "| count         | 2321                                      |\n",
    "| gen_time      | 113.3134868144989                         |\n",
    "| key_index     |                                           |\n",
    "| key_data      |                                           |\n",
    "| swap_axes     | False                                     |\n",
    "| normalize     | False                                     |\n",
    "| skip_book     | False                                     |\n",
    "| sources       | ['https://chromereleases.googleblog.com'] |"
   ]
  },
  {
   "cell_type": "code",
   "execution_count": null,
   "id": "17d8ea6b",
   "metadata": {
    "tags": [
     "hide-input"
    ]
   },
   "outputs": [],
   "source": [
    "\n",
    "from itables import init_notebook_mode\n",
    "import itables.options as opt\n",
    "opt.lengthMenu = [60, 100, 300]\n",
    "opt.maxBytes = 0\n",
    "init_notebook_mode(all_interactive=True)    \n",
    "    "
   ]
  },
  {
   "cell_type": "code",
   "execution_count": null,
   "id": "db57d679",
   "metadata": {},
   "outputs": [],
   "source": [
    "\n",
    "import pathlib\n",
    "import pandas\n",
    "import json\n",
    "data = pathlib.Path(\"/home/runner/work/cvedata/cvedata/cvedata/data\", 'chromerelease_raw_cve.json')\n"
   ]
  },
  {
   "cell_type": "code",
   "execution_count": null,
   "id": "06e91e39",
   "metadata": {},
   "outputs": [],
   "source": [
    "json_data = json.loads(data.read_text())\n",
    "df = pandas.read_json(json.dumps(json_data))"
   ]
  },
  {
   "cell_type": "code",
   "execution_count": null,
   "id": "a1fa5364",
   "metadata": {
    "tags": [
     "full-width"
    ]
   },
   "outputs": [],
   "source": [
    "df"
   ]
  }
 ],
 "metadata": {},
 "nbformat": 4,
 "nbformat_minor": 5
}
