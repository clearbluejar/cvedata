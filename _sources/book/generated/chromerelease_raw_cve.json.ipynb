{
 "cells": [
  {
   "cell_type": "markdown",
   "id": "a0d90c56",
   "metadata": {},
   "source": [
    "# chromerelease_raw_cve.json"
   ]
  },
  {
   "cell_type": "markdown",
   "id": "29cf7864",
   "metadata": {},
   "source": [
    "|               | chromerelease_raw_cve.json                |\n",
    "|:--------------|:------------------------------------------|\n",
    "| size          | 412770                                    |\n",
    "| last_modified | 2022-11-11T01:42:12.079806                |\n",
    "| count         | 2321                                      |\n",
    "| gen_time      | 141.8568844795227                         |\n",
    "| key_index     |                                           |\n",
    "| key_data      |                                           |\n",
    "| swap_axes     | False                                     |\n",
    "| normalize     | False                                     |\n",
    "| skip_book     | False                                     |\n",
    "| sources       | ['https://chromereleases.googleblog.com'] |"
   ]
  },
  {
   "cell_type": "code",
   "execution_count": null,
   "id": "64acce93",
   "metadata": {
    "tags": [
     "hide-input"
    ]
   },
   "outputs": [],
   "source": [
    "\n",
    "from itables import init_notebook_mode\n",
    "import itables.options as opt\n",
    "opt.lengthMenu = [60, 100, 300]\n",
    "opt.maxBytes = 0\n",
    "init_notebook_mode(all_interactive=True)    \n",
    "    "
   ]
  },
  {
   "cell_type": "code",
   "execution_count": null,
   "id": "993c892a",
   "metadata": {},
   "outputs": [],
   "source": [
    "\n",
    "import pathlib\n",
    "import pandas\n",
    "import json\n",
    "data = pathlib.Path(\"/home/runner/work/cvedata/cvedata/cvedata/data\", 'chromerelease_raw_cve.json')\n"
   ]
  },
  {
   "cell_type": "code",
   "execution_count": null,
   "id": "27960240",
   "metadata": {},
   "outputs": [],
   "source": [
    "json_data = json.loads(data.read_text())\n",
    "df = pandas.read_json(json.dumps(json_data))"
   ]
  },
  {
   "cell_type": "code",
   "execution_count": null,
   "id": "9edf43fe",
   "metadata": {
    "tags": [
     "full-width"
    ]
   },
   "outputs": [],
   "source": [
    "df"
   ]
  }
 ],
 "metadata": {},
 "nbformat": 4,
 "nbformat_minor": 5
}
