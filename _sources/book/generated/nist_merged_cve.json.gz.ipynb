{
 "cells": [
  {
   "cell_type": "markdown",
   "id": "b71010b5",
   "metadata": {},
   "source": [
    "# nist_merged_cve.json.gz"
   ]
  },
  {
   "cell_type": "markdown",
   "id": "45a3e28a",
   "metadata": {},
   "source": [
    "|               | nist_merged_cve.json.gz                      |\n",
    "|:--------------|:---------------------------------------------|\n",
    "| size          | 25463422                                     |\n",
    "| last_modified | 2022-10-25T10:22:34.742709                   |\n",
    "| count         | 7                                            |\n",
    "| gen_time      | 39.17812371253967                            |\n",
    "| skip_book     | True                                         |\n",
    "| sources       | ['https://nvd.nist.gov/feeds/json/cve/1.1/'] |\n",
    "| key_index     | nan                                          |\n",
    "| swap_axes     | nan                                          |\n",
    "| normalize     | nan                                          |"
   ]
  }
 ],
 "metadata": {},
 "nbformat": 4,
 "nbformat_minor": 5
}
