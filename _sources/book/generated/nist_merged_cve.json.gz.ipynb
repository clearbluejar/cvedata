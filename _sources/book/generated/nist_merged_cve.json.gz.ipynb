{
 "cells": [
  {
   "cell_type": "markdown",
   "id": "891bfa4e",
   "metadata": {},
   "source": [
    "# nist_merged_cve.json.gz"
   ]
  },
  {
   "cell_type": "markdown",
   "id": "327d8919",
   "metadata": {},
   "source": [
    "|               | nist_merged_cve.json.gz                      |\n",
    "|:--------------|:---------------------------------------------|\n",
    "| size          | 25463422                                     |\n",
    "| last_modified | 2022-10-25T11:29:43.689757                   |\n",
    "| count         | 7                                            |\n",
    "| gen_time      | 39.57109022140503                            |\n",
    "| skip_book     | True                                         |\n",
    "| sources       | ['https://nvd.nist.gov/feeds/json/cve/1.1/'] |\n",
    "| key_index     | nan                                          |\n",
    "| swap_axes     | nan                                          |\n",
    "| normalize     | nan                                          |"
   ]
  }
 ],
 "metadata": {},
 "nbformat": 4,
 "nbformat_minor": 5
}
