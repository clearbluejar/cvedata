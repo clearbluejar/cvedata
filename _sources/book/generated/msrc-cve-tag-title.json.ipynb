{
 "cells": [
  {
   "cell_type": "markdown",
   "id": "bb6503b2",
   "metadata": {},
   "source": [
    "# msrc-cve-tag-title.json"
   ]
  },
  {
   "cell_type": "markdown",
   "id": "ed519ab0",
   "metadata": {},
   "source": [
    "|               | msrc-cve-tag-title.json             |\n",
    "|:--------------|:------------------------------------|\n",
    "| size          | 157084                              |\n",
    "| last_modified | 2022-11-19T12:16:30.936785          |\n",
    "| count         | 3                                   |\n",
    "| gen_time      | 3.351942062377929                   |\n",
    "| key_index     |                                     |\n",
    "| key_data      |                                     |\n",
    "| swap_axes     | False                               |\n",
    "| normalize     | False                               |\n",
    "| skip_book     | False                               |\n",
    "| sources       | ['https://api.msrc.microsoft.com/'] |"
   ]
  },
  {
   "cell_type": "code",
   "execution_count": null,
   "id": "c6f0c7bd",
   "metadata": {
    "tags": [
     "hide-input"
    ]
   },
   "outputs": [],
   "source": [
    "\n",
    "from itables import init_notebook_mode\n",
    "import itables.options as opt\n",
    "opt.lengthMenu = [60, 100, 300]\n",
    "opt.maxBytes = 0\n",
    "init_notebook_mode(all_interactive=True)    \n",
    "    "
   ]
  },
  {
   "cell_type": "code",
   "execution_count": null,
   "id": "b126cae7",
   "metadata": {},
   "outputs": [],
   "source": [
    "\n",
    "import pathlib\n",
    "import pandas\n",
    "import json\n",
    "data = pathlib.Path(\"/home/runner/work/cvedata/cvedata/cvedata/data\", 'msrc-cve-tag-title.json')\n"
   ]
  },
  {
   "cell_type": "code",
   "execution_count": null,
   "id": "ea2fce1c",
   "metadata": {},
   "outputs": [],
   "source": [
    "json_data = json.loads(data.read_text())\n",
    "df = pandas.read_json(json.dumps(json_data))"
   ]
  },
  {
   "cell_type": "code",
   "execution_count": null,
   "id": "3e8851a9",
   "metadata": {
    "tags": [
     "full-width"
    ]
   },
   "outputs": [],
   "source": [
    "df"
   ]
  }
 ],
 "metadata": {},
 "nbformat": 4,
 "nbformat_minor": 5
}
