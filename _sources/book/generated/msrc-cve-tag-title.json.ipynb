{
 "cells": [
  {
   "cell_type": "markdown",
   "id": "fa03983f",
   "metadata": {},
   "source": [
    "# msrc-cve-tag-title.json"
   ]
  },
  {
   "cell_type": "markdown",
   "id": "6f41a1c8",
   "metadata": {},
   "source": [
    "|               | msrc-cve-tag-title.json             |\n",
    "|:--------------|:------------------------------------|\n",
    "| size          | 158439                              |\n",
    "| last_modified | 2022-11-11T01:36:27.188910          |\n",
    "| count         | 3                                   |\n",
    "| gen_time      | 4.114177465438843                   |\n",
    "| key_index     |                                     |\n",
    "| key_data      |                                     |\n",
    "| swap_axes     | False                               |\n",
    "| normalize     | False                               |\n",
    "| skip_book     | False                               |\n",
    "| sources       | ['https://api.msrc.microsoft.com/'] |"
   ]
  },
  {
   "cell_type": "code",
   "execution_count": null,
   "id": "3bb68869",
   "metadata": {
    "tags": [
     "hide-input"
    ]
   },
   "outputs": [],
   "source": [
    "\n",
    "from itables import init_notebook_mode\n",
    "import itables.options as opt\n",
    "opt.lengthMenu = [60, 100, 300]\n",
    "opt.maxBytes = 0\n",
    "init_notebook_mode(all_interactive=True)    \n",
    "    "
   ]
  },
  {
   "cell_type": "code",
   "execution_count": null,
   "id": "42095fde",
   "metadata": {},
   "outputs": [],
   "source": [
    "\n",
    "import pathlib\n",
    "import pandas\n",
    "import json\n",
    "data = pathlib.Path(\"/home/runner/work/cvedata/cvedata/cvedata/data\", 'msrc-cve-tag-title.json')\n"
   ]
  },
  {
   "cell_type": "code",
   "execution_count": null,
   "id": "fbc3cd4c",
   "metadata": {},
   "outputs": [],
   "source": [
    "json_data = json.loads(data.read_text())\n",
    "df = pandas.read_json(json.dumps(json_data))"
   ]
  },
  {
   "cell_type": "code",
   "execution_count": null,
   "id": "b5c2b017",
   "metadata": {
    "tags": [
     "full-width"
    ]
   },
   "outputs": [],
   "source": [
    "df"
   ]
  }
 ],
 "metadata": {},
 "nbformat": 4,
 "nbformat_minor": 5
}
