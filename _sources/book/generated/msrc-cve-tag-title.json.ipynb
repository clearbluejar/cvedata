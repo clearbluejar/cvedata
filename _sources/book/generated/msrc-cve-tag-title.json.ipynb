{
 "cells": [
  {
   "cell_type": "markdown",
   "id": "60c735ce",
   "metadata": {},
   "source": [
    "# msrc-cve-tag-title.json"
   ]
  },
  {
   "cell_type": "markdown",
   "id": "10c97612",
   "metadata": {},
   "source": [
    "|               | msrc-cve-tag-title.json             |\n",
    "|:--------------|:------------------------------------|\n",
    "| size          | 158439                              |\n",
    "| last_modified | 2022-11-11T01:36:27.188910          |\n",
    "| count         | 3                                   |\n",
    "| gen_time      | 4.114177465438843                   |\n",
    "| key_index     |                                     |\n",
    "| key_data      |                                     |\n",
    "| swap_axes     | False                               |\n",
    "| normalize     | False                               |\n",
    "| skip_book     | False                               |\n",
    "| sources       | ['https://api.msrc.microsoft.com/'] |"
   ]
  },
  {
   "cell_type": "code",
   "execution_count": null,
   "id": "949f70b9",
   "metadata": {
    "tags": [
     "hide-input"
    ]
   },
   "outputs": [],
   "source": [
    "\n",
    "from itables import init_notebook_mode\n",
    "import itables.options as opt\n",
    "opt.lengthMenu = [60, 100, 300]\n",
    "opt.maxBytes = 0\n",
    "init_notebook_mode(all_interactive=True)    \n",
    "    "
   ]
  },
  {
   "cell_type": "code",
   "execution_count": null,
   "id": "175ee0b8",
   "metadata": {},
   "outputs": [],
   "source": [
    "\n",
    "import pathlib\n",
    "import pandas\n",
    "import json\n",
    "data = pathlib.Path(\"/home/runner/work/cvedata/cvedata/cvedata/data\", 'msrc-cve-tag-title.json')\n"
   ]
  },
  {
   "cell_type": "code",
   "execution_count": null,
   "id": "3f21dea7",
   "metadata": {},
   "outputs": [],
   "source": [
    "json_data = json.loads(data.read_text())\n",
    "df = pandas.read_json(json.dumps(json_data))"
   ]
  },
  {
   "cell_type": "code",
   "execution_count": null,
   "id": "d847dac9",
   "metadata": {
    "tags": [
     "full-width"
    ]
   },
   "outputs": [],
   "source": [
    "df"
   ]
  }
 ],
 "metadata": {},
 "nbformat": 4,
 "nbformat_minor": 5
}
