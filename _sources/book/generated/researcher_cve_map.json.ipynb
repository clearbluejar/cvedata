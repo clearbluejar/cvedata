{
 "cells": [
  {
   "cell_type": "markdown",
   "id": "d7d590b8",
   "metadata": {},
   "source": [
    "# researcher_cve_map.json"
   ]
  },
  {
   "cell_type": "markdown",
   "id": "65c05786",
   "metadata": {},
   "source": [
    "|               | researcher_cve_map.json                                                      |\n",
    "|:--------------|:-----------------------------------------------------------------------------|\n",
    "| size          | 366039                                                                       |\n",
    "| last_modified | 2022-10-25T10:18:28.336784                                                   |\n",
    "| count         | 1862                                                                         |\n",
    "| gen_time      | 13.340210199356079                                                           |\n",
    "| skip_book     | False                                                                        |\n",
    "| sources       | ['https://chromereleases.googleblog.com', 'https://api.msrc.microsoft.com/'] |\n",
    "| key_index     |                                                                              |\n",
    "| swap_axes     | False                                                                        |\n",
    "| normalize     | False                                                                        |"
   ]
  },
  {
   "cell_type": "code",
   "execution_count": null,
   "id": "8ed32300",
   "metadata": {
    "tags": [
     "hide-input"
    ]
   },
   "outputs": [],
   "source": [
    "\n",
    "from itables import init_notebook_mode\n",
    "import itables.options as opt\n",
    "opt.lengthMenu = [60, 100, 300]\n",
    "opt.maxBytes = 366039\n",
    "init_notebook_mode(all_interactive=True)    \n",
    "    "
   ]
  },
  {
   "cell_type": "code",
   "execution_count": null,
   "id": "f384c28f",
   "metadata": {},
   "outputs": [],
   "source": [
    "\n",
    "import pathlib\n",
    "import pandas\n",
    "import json\n",
    "data = pathlib.Path('..','..','..','cvedata','data', 'researcher_cve_map.json')\n",
    "    "
   ]
  },
  {
   "cell_type": "code",
   "execution_count": null,
   "id": "c061f0e6",
   "metadata": {},
   "outputs": [],
   "source": [
    "\n",
    "df = pandas.read_json(data)"
   ]
  },
  {
   "cell_type": "code",
   "execution_count": null,
   "id": "59f63a49",
   "metadata": {
    "tags": [
     "full-width"
    ]
   },
   "outputs": [],
   "source": [
    "df"
   ]
  }
 ],
 "metadata": {},
 "nbformat": 4,
 "nbformat_minor": 5
}
