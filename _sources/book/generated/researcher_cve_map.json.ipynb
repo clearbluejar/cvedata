{
 "cells": [
  {
   "cell_type": "markdown",
   "id": "7b4188c2",
   "metadata": {},
   "source": [
    "# researcher_cve_map.json"
   ]
  },
  {
   "cell_type": "markdown",
   "id": "94f022ec",
   "metadata": {},
   "source": [
    "|               | researcher_cve_map.json                                                      |\n",
    "|:--------------|:-----------------------------------------------------------------------------|\n",
    "| size          | 366092                                                                       |\n",
    "| last_modified | 2022-11-11T01:42:25.347917                                                   |\n",
    "| count         | 1874                                                                         |\n",
    "| gen_time      | 12.955524682998657                                                           |\n",
    "| sources       | ['https://chromereleases.googleblog.com', 'https://api.msrc.microsoft.com/'] |"
   ]
  },
  {
   "cell_type": "code",
   "execution_count": null,
   "id": "d8ead2e1",
   "metadata": {
    "tags": [
     "hide-input"
    ]
   },
   "outputs": [],
   "source": [
    "\n",
    "from itables import init_notebook_mode\n",
    "import itables.options as opt\n",
    "opt.lengthMenu = [60, 100, 300]\n",
    "opt.maxBytes = 0\n",
    "init_notebook_mode(all_interactive=True)    \n",
    "    "
   ]
  },
  {
   "cell_type": "code",
   "execution_count": null,
   "id": "5ca70389",
   "metadata": {},
   "outputs": [],
   "source": [
    "\n",
    "import pathlib\n",
    "import pandas\n",
    "import json\n",
    "data = pathlib.Path(\"/home/runner/work/cvedata/cvedata/cvedata/data\", 'researcher_cve_map.json')\n"
   ]
  },
  {
   "cell_type": "code",
   "execution_count": null,
   "id": "4c327381",
   "metadata": {},
   "outputs": [],
   "source": [
    "json_data = json.loads(data.read_text())\n",
    "df = pandas.read_json(json.dumps(json_data))"
   ]
  },
  {
   "cell_type": "code",
   "execution_count": null,
   "id": "5ec3c70a",
   "metadata": {
    "tags": [
     "full-width"
    ]
   },
   "outputs": [],
   "source": [
    "df"
   ]
  }
 ],
 "metadata": {},
 "nbformat": 4,
 "nbformat_minor": 5
}
