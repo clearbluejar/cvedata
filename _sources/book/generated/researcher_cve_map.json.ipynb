{
 "cells": [
  {
   "cell_type": "markdown",
   "id": "d718c2ae",
   "metadata": {},
   "source": [
    "# researcher_cve_map.json"
   ]
  },
  {
   "cell_type": "markdown",
   "id": "01ab847e",
   "metadata": {},
   "source": [
    "|               | researcher_cve_map.json                                                      |\n",
    "|:--------------|:-----------------------------------------------------------------------------|\n",
    "| size          | 366039                                                                       |\n",
    "| last_modified | 2022-10-25T11:25:27.289898                                                   |\n",
    "| count         | 1862                                                                         |\n",
    "| gen_time      | 11.131185293197632                                                           |\n",
    "| skip_book     | False                                                                        |\n",
    "| sources       | ['https://chromereleases.googleblog.com', 'https://api.msrc.microsoft.com/'] |\n",
    "| key_index     |                                                                              |\n",
    "| swap_axes     | False                                                                        |\n",
    "| normalize     | False                                                                        |"
   ]
  },
  {
   "cell_type": "code",
   "execution_count": null,
   "id": "7037b7e1",
   "metadata": {
    "tags": [
     "hide-input"
    ]
   },
   "outputs": [],
   "source": [
    "\n",
    "from itables import init_notebook_mode\n",
    "import itables.options as opt\n",
    "opt.lengthMenu = [60, 100, 300]\n",
    "opt.maxBytes = 366039\n",
    "init_notebook_mode(all_interactive=True)    \n",
    "    "
   ]
  },
  {
   "cell_type": "code",
   "execution_count": null,
   "id": "d8256b69",
   "metadata": {},
   "outputs": [],
   "source": [
    "\n",
    "import pathlib\n",
    "import pandas\n",
    "import json\n",
    "data = pathlib.Path('..','..','..','cvedata','data', 'researcher_cve_map.json')\n",
    "    "
   ]
  },
  {
   "cell_type": "code",
   "execution_count": null,
   "id": "926d46c5",
   "metadata": {},
   "outputs": [],
   "source": [
    "\n",
    "df = pandas.read_json(data)"
   ]
  },
  {
   "cell_type": "code",
   "execution_count": null,
   "id": "77c2ab24",
   "metadata": {
    "tags": [
     "full-width"
    ]
   },
   "outputs": [],
   "source": [
    "df"
   ]
  }
 ],
 "metadata": {},
 "nbformat": 4,
 "nbformat_minor": 5
}
