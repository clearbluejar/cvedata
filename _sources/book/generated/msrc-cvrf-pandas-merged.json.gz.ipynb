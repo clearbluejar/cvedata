{
 "cells": [
  {
   "cell_type": "markdown",
   "id": "c38b3799",
   "metadata": {},
   "source": [
    "# msrc-cvrf-pandas-merged.json.gz"
   ]
  },
  {
   "cell_type": "markdown",
   "id": "26f300d3",
   "metadata": {},
   "source": [
    "|               | msrc-cvrf-pandas-merged.json.gz     |\n",
    "|:--------------|:------------------------------------|\n",
    "| size          | 255582                              |\n",
    "| last_modified | 2022-10-25T11:30:30.226375          |\n",
    "| count         | 7                                   |\n",
    "| gen_time      | 23.80226469039917                   |\n",
    "| skip_book     | False                               |\n",
    "| sources       | ['https://api.msrc.microsoft.com/'] |\n",
    "| key_index     |                                     |\n",
    "| swap_axes     | False                               |\n",
    "| normalize     | False                               |"
   ]
  },
  {
   "cell_type": "code",
   "execution_count": null,
   "id": "6455bf0c",
   "metadata": {
    "tags": [
     "hide-input"
    ]
   },
   "outputs": [],
   "source": [
    "\n",
    "from itables import init_notebook_mode\n",
    "import itables.options as opt\n",
    "opt.lengthMenu = [60, 100, 300]\n",
    "opt.maxBytes = 255582\n",
    "init_notebook_mode(all_interactive=True)    \n",
    "    "
   ]
  },
  {
   "cell_type": "code",
   "execution_count": null,
   "id": "dfd3d884",
   "metadata": {},
   "outputs": [],
   "source": [
    "\n",
    "import pathlib\n",
    "import pandas\n",
    "import json\n",
    "data = pathlib.Path('..','..','..','cvedata','data', 'msrc-cvrf-pandas-merged.json.gz')\n",
    "    "
   ]
  },
  {
   "cell_type": "code",
   "execution_count": null,
   "id": "56d68997",
   "metadata": {},
   "outputs": [],
   "source": [
    "\n",
    "df = pandas.read_json(data,compression='gzip')"
   ]
  },
  {
   "cell_type": "code",
   "execution_count": null,
   "id": "f777d676",
   "metadata": {
    "tags": [
     "full-width"
    ]
   },
   "outputs": [],
   "source": [
    "df"
   ]
  }
 ],
 "metadata": {},
 "nbformat": 4,
 "nbformat_minor": 5
}
