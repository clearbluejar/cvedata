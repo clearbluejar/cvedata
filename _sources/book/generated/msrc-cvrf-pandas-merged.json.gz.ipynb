{
 "cells": [
  {
   "cell_type": "markdown",
   "id": "88e67d37",
   "metadata": {},
   "source": [
    "# msrc-cvrf-pandas-merged.json.gz"
   ]
  },
  {
   "cell_type": "markdown",
   "id": "7d1945a7",
   "metadata": {},
   "source": [
    "|               | msrc-cvrf-pandas-merged.json.gz     |\n",
    "|:--------------|:------------------------------------|\n",
    "| size          | 307160                              |\n",
    "| last_modified | 2022-11-19T12:16:24.936526          |\n",
    "| count         | 8                                   |\n",
    "| gen_time      | 5.054724454879761                   |\n",
    "| key_index     |                                     |\n",
    "| key_data      |                                     |\n",
    "| swap_axes     | False                               |\n",
    "| normalize     | False                               |\n",
    "| skip_book     | False                               |\n",
    "| sources       | ['https://api.msrc.microsoft.com/'] |"
   ]
  },
  {
   "cell_type": "code",
   "execution_count": null,
   "id": "6cb0a304",
   "metadata": {
    "tags": [
     "hide-input"
    ]
   },
   "outputs": [],
   "source": [
    "\n",
    "from itables import init_notebook_mode\n",
    "import itables.options as opt\n",
    "opt.lengthMenu = [60, 100, 300]\n",
    "opt.maxBytes = 0\n",
    "init_notebook_mode(all_interactive=True)    \n",
    "    "
   ]
  },
  {
   "cell_type": "code",
   "execution_count": null,
   "id": "714810ac",
   "metadata": {},
   "outputs": [],
   "source": [
    "\n",
    "import pathlib\n",
    "import pandas\n",
    "import json\n",
    "data = pathlib.Path(\"/home/runner/work/cvedata/cvedata/cvedata/data\", 'msrc-cvrf-pandas-merged.json.gz')\n"
   ]
  },
  {
   "cell_type": "code",
   "execution_count": null,
   "id": "787f4a8b",
   "metadata": {},
   "outputs": [],
   "source": [
    "import gzip\n",
    "with gzip.open(data) as f:\n",
    "    json_data = json.load(f)\n",
    "df = pandas.read_json(json.dumps(json_data))"
   ]
  },
  {
   "cell_type": "code",
   "execution_count": null,
   "id": "daf2f818",
   "metadata": {
    "tags": [
     "full-width"
    ]
   },
   "outputs": [],
   "source": [
    "df"
   ]
  }
 ],
 "metadata": {},
 "nbformat": 4,
 "nbformat_minor": 5
}
