{
 "cells": [
  {
   "cell_type": "markdown",
   "id": "3b66ad78",
   "metadata": {},
   "source": [
    "# msrc-pandas-titles-merged-frequency.json"
   ]
  },
  {
   "cell_type": "markdown",
   "id": "c99cdd56",
   "metadata": {},
   "source": [
    "|               | msrc-pandas-titles-merged-frequency.json   |\n",
    "|:--------------|:-------------------------------------------|\n",
    "| size          | 79734                                      |\n",
    "| last_modified | 2022-12-05T16:38:22.536635                 |\n",
    "| count         | 436                                        |\n",
    "| gen_time      | 0.043603181838989                          |\n",
    "| key_index     |                                            |\n",
    "| key_data      |                                            |\n",
    "| swap_axes     | True                                       |\n",
    "| normalize     | True                                       |\n",
    "| skip_book     | False                                      |\n",
    "| sources       | ['https://api.msrc.microsoft.com/']        |"
   ]
  },
  {
   "cell_type": "code",
   "execution_count": null,
   "id": "dd26b45c",
   "metadata": {
    "tags": [
     "hide-input"
    ]
   },
   "outputs": [],
   "source": [
    "\n",
    "from itables import init_notebook_mode\n",
    "import itables.options as opt\n",
    "opt.lengthMenu = [60, 100, 300]\n",
    "opt.maxBytes = 0\n",
    "init_notebook_mode(all_interactive=True)    \n",
    "    "
   ]
  },
  {
   "cell_type": "code",
   "execution_count": null,
   "id": "a5a555ed",
   "metadata": {},
   "outputs": [],
   "source": [
    "\n",
    "import pathlib\n",
    "import pandas\n",
    "import json\n",
    "data = pathlib.Path(\"/home/runner/work/cvedata/cvedata/cvedata/data\", 'msrc-pandas-titles-merged-frequency.json')\n"
   ]
  },
  {
   "cell_type": "code",
   "execution_count": null,
   "id": "2c572d7f",
   "metadata": {},
   "outputs": [],
   "source": [
    "json_data = json.loads(data.read_text())\n",
    "df = pandas.json_normalize(json_data)\n",
    "df = df.swapaxes('columns','index')"
   ]
  },
  {
   "cell_type": "code",
   "execution_count": null,
   "id": "906f5ec4",
   "metadata": {
    "tags": [
     "full-width"
    ]
   },
   "outputs": [],
   "source": [
    "df"
   ]
  }
 ],
 "metadata": {},
 "nbformat": 4,
 "nbformat_minor": 5
}
