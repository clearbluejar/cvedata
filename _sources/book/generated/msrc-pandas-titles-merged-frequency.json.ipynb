{
 "cells": [
  {
   "cell_type": "markdown",
   "id": "4cdbb121",
   "metadata": {},
   "source": [
    "# msrc-pandas-titles-merged-frequency.json"
   ]
  },
  {
   "cell_type": "markdown",
   "id": "98534155",
   "metadata": {},
   "source": [
    "|               | msrc-pandas-titles-merged-frequency.json   |\n",
    "|:--------------|:-------------------------------------------|\n",
    "| size          | 79734                                      |\n",
    "| last_modified | 2022-11-29T21:39:20.789120                 |\n",
    "| count         | 436                                        |\n",
    "| gen_time      | 0.042173862457275                          |\n",
    "| key_index     |                                            |\n",
    "| key_data      |                                            |\n",
    "| swap_axes     | True                                       |\n",
    "| normalize     | True                                       |\n",
    "| skip_book     | False                                      |\n",
    "| sources       | ['https://api.msrc.microsoft.com/']        |"
   ]
  },
  {
   "cell_type": "code",
   "execution_count": null,
   "id": "59798c2d",
   "metadata": {
    "tags": [
     "hide-input"
    ]
   },
   "outputs": [],
   "source": [
    "\n",
    "from itables import init_notebook_mode\n",
    "import itables.options as opt\n",
    "opt.lengthMenu = [60, 100, 300]\n",
    "opt.maxBytes = 0\n",
    "init_notebook_mode(all_interactive=True)    \n",
    "    "
   ]
  },
  {
   "cell_type": "code",
   "execution_count": null,
   "id": "4c3222f9",
   "metadata": {},
   "outputs": [],
   "source": [
    "\n",
    "import pathlib\n",
    "import pandas\n",
    "import json\n",
    "data = pathlib.Path(\"/home/runner/work/cvedata/cvedata/cvedata/data\", 'msrc-pandas-titles-merged-frequency.json')\n"
   ]
  },
  {
   "cell_type": "code",
   "execution_count": null,
   "id": "9bfff28f",
   "metadata": {},
   "outputs": [],
   "source": [
    "json_data = json.loads(data.read_text())\n",
    "df = pandas.json_normalize(json_data)\n",
    "df = df.swapaxes('columns','index')"
   ]
  },
  {
   "cell_type": "code",
   "execution_count": null,
   "id": "b9388fd4",
   "metadata": {
    "tags": [
     "full-width"
    ]
   },
   "outputs": [],
   "source": [
    "df"
   ]
  }
 ],
 "metadata": {},
 "nbformat": 4,
 "nbformat_minor": 5
}
