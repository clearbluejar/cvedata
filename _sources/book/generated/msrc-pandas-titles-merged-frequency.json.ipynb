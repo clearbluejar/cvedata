{
 "cells": [
  {
   "cell_type": "markdown",
   "id": "89960e2c",
   "metadata": {},
   "source": [
    "# msrc-pandas-titles-merged-frequency.json"
   ]
  },
  {
   "cell_type": "markdown",
   "id": "8baa9b0f",
   "metadata": {},
   "source": [
    "|               | msrc-pandas-titles-merged-frequency.json   |\n",
    "|:--------------|:-------------------------------------------|\n",
    "| size          | 81558                                      |\n",
    "| last_modified | 2022-12-14T04:07:49.690896                 |\n",
    "| count         | 441                                        |\n",
    "| gen_time      | 0.11124110221862701                        |\n",
    "| key_index     |                                            |\n",
    "| key_data      |                                            |\n",
    "| swap_axes     | True                                       |\n",
    "| normalize     | True                                       |\n",
    "| skip_book     | False                                      |\n",
    "| sources       | ['https://api.msrc.microsoft.com/']        |"
   ]
  },
  {
   "cell_type": "code",
   "execution_count": null,
   "id": "b8f6aae7",
   "metadata": {
    "tags": [
     "hide-input"
    ]
   },
   "outputs": [],
   "source": [
    "\n",
    "from itables import init_notebook_mode\n",
    "import itables.options as opt\n",
    "opt.lengthMenu = [60, 100, 300]\n",
    "opt.maxBytes = 0\n",
    "init_notebook_mode(all_interactive=True)    \n",
    "    "
   ]
  },
  {
   "cell_type": "code",
   "execution_count": null,
   "id": "d2fc065f",
   "metadata": {},
   "outputs": [],
   "source": [
    "\n",
    "import pathlib\n",
    "import pandas\n",
    "import json\n",
    "data = pathlib.Path(\"/home/runner/work/cvedata/cvedata/cvedata/data\", 'msrc-pandas-titles-merged-frequency.json')\n"
   ]
  },
  {
   "cell_type": "code",
   "execution_count": null,
   "id": "ec9f646f",
   "metadata": {},
   "outputs": [],
   "source": [
    "json_data = json.loads(data.read_text())\n",
    "df = pandas.json_normalize(json_data)\n",
    "df = df.swapaxes('columns','index')"
   ]
  },
  {
   "cell_type": "code",
   "execution_count": null,
   "id": "8c524d8a",
   "metadata": {
    "tags": [
     "full-width"
    ]
   },
   "outputs": [],
   "source": [
    "df"
   ]
  }
 ],
 "metadata": {},
 "nbformat": 4,
 "nbformat_minor": 5
}
