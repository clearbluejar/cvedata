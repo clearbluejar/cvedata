{
 "cells": [
  {
   "cell_type": "markdown",
   "id": "b9c87d4e",
   "metadata": {},
   "source": [
    "# msrc-pandas-titles-merged-frequency.json"
   ]
  },
  {
   "cell_type": "markdown",
   "id": "eb2a047e",
   "metadata": {},
   "source": [
    "|               | msrc-pandas-titles-merged-frequency.json   |\n",
    "|:--------------|:-------------------------------------------|\n",
    "| size          | 79734                                      |\n",
    "| last_modified | 2022-11-22T06:30:59.536616                 |\n",
    "| count         | 436                                        |\n",
    "| gen_time      | 0.045761108398437                          |\n",
    "| key_index     |                                            |\n",
    "| key_data      |                                            |\n",
    "| swap_axes     | True                                       |\n",
    "| normalize     | True                                       |\n",
    "| skip_book     | False                                      |\n",
    "| sources       | ['https://api.msrc.microsoft.com/']        |"
   ]
  },
  {
   "cell_type": "code",
   "execution_count": null,
   "id": "23418d4b",
   "metadata": {
    "tags": [
     "hide-input"
    ]
   },
   "outputs": [],
   "source": [
    "\n",
    "from itables import init_notebook_mode\n",
    "import itables.options as opt\n",
    "opt.lengthMenu = [60, 100, 300]\n",
    "opt.maxBytes = 0\n",
    "init_notebook_mode(all_interactive=True)    \n",
    "    "
   ]
  },
  {
   "cell_type": "code",
   "execution_count": null,
   "id": "36c87060",
   "metadata": {},
   "outputs": [],
   "source": [
    "\n",
    "import pathlib\n",
    "import pandas\n",
    "import json\n",
    "data = pathlib.Path(\"/home/runner/work/cvedata/cvedata/cvedata/data\", 'msrc-pandas-titles-merged-frequency.json')\n"
   ]
  },
  {
   "cell_type": "code",
   "execution_count": null,
   "id": "adc822ab",
   "metadata": {},
   "outputs": [],
   "source": [
    "json_data = json.loads(data.read_text())\n",
    "df = pandas.json_normalize(json_data)\n",
    "df = df.swapaxes('columns','index')"
   ]
  },
  {
   "cell_type": "code",
   "execution_count": null,
   "id": "1105bbb4",
   "metadata": {
    "tags": [
     "full-width"
    ]
   },
   "outputs": [],
   "source": [
    "df"
   ]
  }
 ],
 "metadata": {},
 "nbformat": 4,
 "nbformat_minor": 5
}
