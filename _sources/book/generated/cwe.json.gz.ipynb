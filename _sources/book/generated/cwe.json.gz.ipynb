{
 "cells": [
  {
   "cell_type": "markdown",
   "id": "e73a468e",
   "metadata": {},
   "source": [
    "# cwe.json.gz"
   ]
  },
  {
   "cell_type": "markdown",
   "id": "887784f4",
   "metadata": {},
   "source": [
    "|               | cwe.json.gz                                            |\n",
    "|:--------------|:-------------------------------------------------------|\n",
    "| size          | 22733                                                  |\n",
    "| last_modified | 2022-10-25T10:18:30.328799                             |\n",
    "| count         | 1402                                                   |\n",
    "| gen_time      | 1.994418382644653                                      |\n",
    "| skip_book     | False                                                  |\n",
    "| sources       | ['https://cwe.mitre.org/data/xml/cwec_latest.xml.zip'] |\n",
    "| key_index     |                                                        |\n",
    "| swap_axes     | True                                                   |\n",
    "| normalize     | False                                                  |"
   ]
  },
  {
   "cell_type": "code",
   "execution_count": null,
   "id": "30e8cdee",
   "metadata": {
    "tags": [
     "hide-input"
    ]
   },
   "outputs": [],
   "source": [
    "\n",
    "from itables import init_notebook_mode\n",
    "import itables.options as opt\n",
    "opt.lengthMenu = [60, 100, 300]\n",
    "opt.maxBytes = 22733\n",
    "init_notebook_mode(all_interactive=True)    \n",
    "    "
   ]
  },
  {
   "cell_type": "code",
   "execution_count": null,
   "id": "a8116ffc",
   "metadata": {},
   "outputs": [],
   "source": [
    "\n",
    "import pathlib\n",
    "import pandas\n",
    "import json\n",
    "data = pathlib.Path('..','..','..','cvedata','data', 'cwe.json.gz')\n",
    "    "
   ]
  },
  {
   "cell_type": "code",
   "execution_count": null,
   "id": "6299f27e",
   "metadata": {},
   "outputs": [],
   "source": [
    "\n",
    "df = pandas.read_json(data,compression='gzip')\n",
    "df = df.swapaxes('columns','index')"
   ]
  },
  {
   "cell_type": "code",
   "execution_count": null,
   "id": "5fcb85c9",
   "metadata": {
    "tags": [
     "full-width"
    ]
   },
   "outputs": [],
   "source": [
    "df"
   ]
  }
 ],
 "metadata": {},
 "nbformat": 4,
 "nbformat_minor": 5
}
