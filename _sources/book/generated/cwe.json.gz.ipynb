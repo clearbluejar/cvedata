{
 "cells": [
  {
   "cell_type": "markdown",
   "id": "12b4e12e",
   "metadata": {},
   "source": [
    "# cwe.json.gz"
   ]
  },
  {
   "cell_type": "markdown",
   "id": "2e840c14",
   "metadata": {},
   "source": [
    "|               | cwe.json.gz                                            |\n",
    "|:--------------|:-------------------------------------------------------|\n",
    "| size          | 22733                                                  |\n",
    "| last_modified | 2022-11-19T12:01:06.188346                             |\n",
    "| count         | 1402                                                   |\n",
    "| gen_time      | 1.55908727645874                                       |\n",
    "| key_index     |                                                        |\n",
    "| key_data      |                                                        |\n",
    "| swap_axes     | True                                                   |\n",
    "| normalize     | False                                                  |\n",
    "| skip_book     | False                                                  |\n",
    "| sources       | ['https://cwe.mitre.org/data/xml/cwec_latest.xml.zip'] |"
   ]
  },
  {
   "cell_type": "code",
   "execution_count": null,
   "id": "4a85463a",
   "metadata": {
    "tags": [
     "hide-input"
    ]
   },
   "outputs": [],
   "source": [
    "\n",
    "from itables import init_notebook_mode\n",
    "import itables.options as opt\n",
    "opt.lengthMenu = [60, 100, 300]\n",
    "opt.maxBytes = 0\n",
    "init_notebook_mode(all_interactive=True)    \n",
    "    "
   ]
  },
  {
   "cell_type": "code",
   "execution_count": null,
   "id": "31c53735",
   "metadata": {},
   "outputs": [],
   "source": [
    "\n",
    "import pathlib\n",
    "import pandas\n",
    "import json\n",
    "data = pathlib.Path(\"/home/runner/work/cvedata/cvedata/cvedata/data\", 'cwe.json.gz')\n"
   ]
  },
  {
   "cell_type": "code",
   "execution_count": null,
   "id": "d9ac3325",
   "metadata": {},
   "outputs": [],
   "source": [
    "import gzip\n",
    "with gzip.open(data) as f:\n",
    "    json_data = json.load(f)\n",
    "df = pandas.read_json(json.dumps(json_data))\n",
    "df = df.swapaxes('columns','index')"
   ]
  },
  {
   "cell_type": "code",
   "execution_count": null,
   "id": "ab0e861c",
   "metadata": {
    "tags": [
     "full-width"
    ]
   },
   "outputs": [],
   "source": [
    "df"
   ]
  }
 ],
 "metadata": {},
 "nbformat": 4,
 "nbformat_minor": 5
}
