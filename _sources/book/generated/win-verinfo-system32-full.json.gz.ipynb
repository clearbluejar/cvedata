{
 "cells": [
  {
   "cell_type": "markdown",
   "id": "60b176b8",
   "metadata": {},
   "source": [
    "# win-verinfo-system32-full.json.gz"
   ]
  },
  {
   "cell_type": "markdown",
   "id": "3e306bca",
   "metadata": {},
   "source": [
    "|               | win-verinfo-system32-full.json.gz                                                                                                                                                                                                                                                                                                                                                                                                                                                                                                                                                             |\n",
    "|:--------------|:----------------------------------------------------------------------------------------------------------------------------------------------------------------------------------------------------------------------------------------------------------------------------------------------------------------------------------------------------------------------------------------------------------------------------------------------------------------------------------------------------------------------------------------------------------------------------------------------|\n",
    "| size          | 2902129                                                                                                                                                                                                                                                                                                                                                                                                                                                                                                                                                                                       |\n",
    "| last_modified | 2022-11-22T06:34:01.795055                                                                                                                                                                                                                                                                                                                                                                                                                                                                                                                                                                    |\n",
    "| count         | 24                                                                                                                                                                                                                                                                                                                                                                                                                                                                                                                                                                                            |\n",
    "| gen_time      | 19.429661750793457                                                                                                                                                                                                                                                                                                                                                                                                                                                                                                                                                                            |\n",
    "| key_index     |                                                                                                                                                                                                                                                                                                                                                                                                                                                                                                                                                                                               |\n",
    "| key_data      |                                                                                                                                                                                                                                                                                                                                                                                                                                                                                                                                                                                               |\n",
    "| swap_axes     | False                                                                                                                                                                                                                                                                                                                                                                                                                                                                                                                                                                                         |\n",
    "| normalize     | False                                                                                                                                                                                                                                                                                                                                                                                                                                                                                                                                                                                         |\n",
    "| skip_book     | False                                                                                                                                                                                                                                                                                                                                                                                                                                                                                                                                                                                         |\n",
    "| sources       | ['https://github.com/clearbluejar/win-sys32-versioninfo/releases/download/v0.1.0/10.0.22621.0-versioninfo-system32.json', 'https://github.com/clearbluejar/win-sys32-versioninfo/releases/download/v0.1.0/10.0.20348.0-versioninfo-system32-winprogiles-recurse.json', 'https://github.com/clearbluejar/win-sys32-versioninfo/releases/download/v0.1.0/10.0.19045.0-versioninfo-system32-winprogiles-recurse-o365-compress.json', 'https://github.com/clearbluejar/win-sys32-versioninfo/releases/download/v0.1.0/10.0.20348.0-versioninfo-system32-winprogiles-recurse-serv2022-roles.json'] |"
   ]
  },
  {
   "cell_type": "code",
   "execution_count": null,
   "id": "156ac44a",
   "metadata": {
    "tags": [
     "hide-input"
    ]
   },
   "outputs": [],
   "source": [
    "\n",
    "from itables import init_notebook_mode\n",
    "import itables.options as opt\n",
    "opt.lengthMenu = [60, 100, 300]\n",
    "opt.maxBytes = 0\n",
    "init_notebook_mode(all_interactive=True)    \n",
    "    "
   ]
  },
  {
   "cell_type": "code",
   "execution_count": null,
   "id": "77c3dc24",
   "metadata": {},
   "outputs": [],
   "source": [
    "\n",
    "import pathlib\n",
    "import pandas\n",
    "import json\n",
    "data = pathlib.Path(\"/home/runner/work/cvedata/cvedata/cvedata/data\", 'win-verinfo-system32-full.json.gz')\n"
   ]
  },
  {
   "cell_type": "code",
   "execution_count": null,
   "id": "e1149c73",
   "metadata": {},
   "outputs": [],
   "source": [
    "import gzip\n",
    "with gzip.open(data) as f:\n",
    "    json_data = json.load(f)\n",
    "df = pandas.read_json(json.dumps(json_data))"
   ]
  },
  {
   "cell_type": "code",
   "execution_count": null,
   "id": "ce1cb4ce",
   "metadata": {
    "tags": [
     "full-width"
    ]
   },
   "outputs": [],
   "source": [
    "df"
   ]
  }
 ],
 "metadata": {},
 "nbformat": 4,
 "nbformat_minor": 5
}
