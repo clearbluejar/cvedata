{
 "cells": [
  {
   "cell_type": "markdown",
   "id": "a3565d86",
   "metadata": {},
   "source": [
    "# nvdcve-1.1-2008.json.gz"
   ]
  },
  {
   "cell_type": "markdown",
   "id": "0be9ad3e",
   "metadata": {},
   "source": [
    "|               | nvdcve-1.1-2008.json.gz                      |\n",
    "|:--------------|:---------------------------------------------|\n",
    "| size          | 1885389                                      |\n",
    "| last_modified | 2022-11-22T06:11:30.460748                   |\n",
    "| count         | 7171                                         |\n",
    "| gen_time      | 2.38291072845459                             |\n",
    "| key_index     |                                              |\n",
    "| key_data      | cves                                         |\n",
    "| swap_axes     | False                                        |\n",
    "| normalize     | True                                         |\n",
    "| skip_book     | False                                        |\n",
    "| sources       | ['https://nvd.nist.gov/feeds/json/cve/1.1/'] |"
   ]
  },
  {
   "cell_type": "code",
   "execution_count": null,
   "id": "86255161",
   "metadata": {
    "tags": [
     "hide-input"
    ]
   },
   "outputs": [],
   "source": [
    "\n",
    "from itables import init_notebook_mode\n",
    "import itables.options as opt\n",
    "opt.lengthMenu = [60, 100, 300]\n",
    "opt.maxColumns = 12\n",
    "init_notebook_mode(all_interactive=True)    \n",
    "    "
   ]
  },
  {
   "cell_type": "code",
   "execution_count": null,
   "id": "d6b2f394",
   "metadata": {},
   "outputs": [],
   "source": [
    "\n",
    "import pathlib\n",
    "import pandas\n",
    "import json\n",
    "data = pathlib.Path(\"/home/runner/work/cvedata/cvedata/cvedata/data/nist\", 'nvdcve-1.1-2008.json.gz')\n"
   ]
  },
  {
   "cell_type": "code",
   "execution_count": null,
   "id": "365a3aeb",
   "metadata": {},
   "outputs": [],
   "source": [
    "import gzip\n",
    "with gzip.open(data) as f:\n",
    "    json_data = json.load(f)\n",
    "json_data = json_data['cves']\n",
    "json_data = [json_data[k] for k in json_data]\n",
    "df = pandas.json_normalize(json_data)"
   ]
  },
  {
   "cell_type": "code",
   "execution_count": null,
   "id": "f776dbf9",
   "metadata": {
    "tags": [
     "full-width"
    ]
   },
   "outputs": [],
   "source": [
    "df"
   ]
  }
 ],
 "metadata": {},
 "nbformat": 4,
 "nbformat_minor": 5
}
