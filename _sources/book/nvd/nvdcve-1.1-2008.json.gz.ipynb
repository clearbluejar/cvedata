{
 "cells": [
  {
   "cell_type": "markdown",
   "id": "f1560e8a",
   "metadata": {},
   "source": [
    "# nvdcve-1.1-2008.json.gz"
   ]
  },
  {
   "cell_type": "markdown",
   "id": "ba28966f",
   "metadata": {},
   "source": [
    "|               | nvdcve-1.1-2008.json.gz                      |\n",
    "|:--------------|:---------------------------------------------|\n",
    "| size          | 1885389                                      |\n",
    "| last_modified | 2022-11-11T01:13:27.717357                   |\n",
    "| count         | 7171                                         |\n",
    "| gen_time      | 2.827176332473755                            |\n",
    "| key_index     |                                              |\n",
    "| key_data      | cves                                         |\n",
    "| swap_axes     | False                                        |\n",
    "| normalize     | True                                         |\n",
    "| skip_book     | False                                        |\n",
    "| sources       | ['https://nvd.nist.gov/feeds/json/cve/1.1/'] |"
   ]
  },
  {
   "cell_type": "code",
   "execution_count": null,
   "id": "1f1dbf6f",
   "metadata": {
    "tags": [
     "hide-input"
    ]
   },
   "outputs": [],
   "source": [
    "\n",
    "from itables import init_notebook_mode\n",
    "import itables.options as opt\n",
    "opt.lengthMenu = [60, 100, 300]\n",
    "opt.maxColumns = 12\n",
    "init_notebook_mode(all_interactive=True)    \n",
    "    "
   ]
  },
  {
   "cell_type": "code",
   "execution_count": null,
   "id": "d030f714",
   "metadata": {},
   "outputs": [],
   "source": [
    "\n",
    "import pathlib\n",
    "import pandas\n",
    "import json\n",
    "data = pathlib.Path(\"/home/runner/work/cvedata/cvedata/cvedata/data\", 'nvdcve-1.1-2008.json.gz')\n"
   ]
  },
  {
   "cell_type": "code",
   "execution_count": null,
   "id": "5706dfd8",
   "metadata": {},
   "outputs": [],
   "source": [
    "import gzip\n",
    "with gzip.open(data) as f:\n",
    "    json_data = json.load(f)\n",
    "json_data = json_data['cves']\n",
    "json_data = [json_data[k] for k in json_data]\n",
    "df = pandas.json_normalize(json_data)"
   ]
  },
  {
   "cell_type": "code",
   "execution_count": null,
   "id": "e690c720",
   "metadata": {
    "tags": [
     "full-width"
    ]
   },
   "outputs": [],
   "source": [
    "df"
   ]
  }
 ],
 "metadata": {},
 "nbformat": 4,
 "nbformat_minor": 5
}
