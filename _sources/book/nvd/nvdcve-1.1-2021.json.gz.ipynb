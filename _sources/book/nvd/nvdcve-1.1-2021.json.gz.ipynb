{
 "cells": [
  {
   "cell_type": "markdown",
   "id": "ac67b69b",
   "metadata": {},
   "source": [
    "# nvdcve-1.1-2021.json.gz"
   ]
  },
  {
   "cell_type": "markdown",
   "id": "13574d37",
   "metadata": {},
   "source": [
    "|               | nvdcve-1.1-2021.json.gz                      |\n",
    "|:--------------|:---------------------------------------------|\n",
    "| size          | 5089728                                      |\n",
    "| last_modified | 2022-11-11T01:14:27.877861                   |\n",
    "| count         | 20891                                        |\n",
    "| gen_time      | 9.284712791442871                            |\n",
    "| sources       | ['https://nvd.nist.gov/feeds/json/cve/1.1/'] |"
   ]
  },
  {
   "cell_type": "code",
   "execution_count": null,
   "id": "b814d798",
   "metadata": {
    "tags": [
     "hide-input"
    ]
   },
   "outputs": [],
   "source": [
    "\n",
    "from itables import init_notebook_mode\n",
    "import itables.options as opt\n",
    "opt.lengthMenu = [60, 100, 300]\n",
    "opt.maxColumns = 12\n",
    "init_notebook_mode(all_interactive=True)    \n",
    "    "
   ]
  },
  {
   "cell_type": "code",
   "execution_count": null,
   "id": "ef6ac3fc",
   "metadata": {},
   "outputs": [],
   "source": [
    "\n",
    "import pathlib\n",
    "import pandas\n",
    "import json\n",
    "data = pathlib.Path(\"/home/runner/work/cvedata/cvedata/cvedata/data\", 'nvdcve-1.1-2021.json.gz')\n"
   ]
  },
  {
   "cell_type": "code",
   "execution_count": null,
   "id": "23e293e5",
   "metadata": {},
   "outputs": [],
   "source": [
    "import gzip\n",
    "with gzip.open(data) as f:\n",
    "    json_data = json.load(f)\n",
    "json_data = json_data['cves']\n",
    "json_data = [json_data[k] for k in json_data]\n",
    "df = pandas.json_normalize(json_data)"
   ]
  },
  {
   "cell_type": "code",
   "execution_count": null,
   "id": "581a176e",
   "metadata": {
    "tags": [
     "full-width"
    ]
   },
   "outputs": [],
   "source": [
    "df"
   ]
  }
 ],
 "metadata": {},
 "nbformat": 4,
 "nbformat_minor": 5
}
