{
 "cells": [
  {
   "cell_type": "markdown",
   "id": "7bcc964e",
   "metadata": {},
   "source": [
    "# nvdcve-1.1-2005.json.gz"
   ]
  },
  {
   "cell_type": "markdown",
   "id": "c400bb7b",
   "metadata": {},
   "source": [
    "|               | nvdcve-1.1-2005.json.gz                      |\n",
    "|:--------------|:---------------------------------------------|\n",
    "| size          | 1179128                                      |\n",
    "| last_modified | 2022-11-22T06:11:23.992653                   |\n",
    "| count         | 4765                                         |\n",
    "| gen_time      | 1.229112863540649                            |\n",
    "| key_index     |                                              |\n",
    "| key_data      | cves                                         |\n",
    "| swap_axes     | False                                        |\n",
    "| normalize     | True                                         |\n",
    "| skip_book     | False                                        |\n",
    "| sources       | ['https://nvd.nist.gov/feeds/json/cve/1.1/'] |"
   ]
  },
  {
   "cell_type": "code",
   "execution_count": null,
   "id": "2f64a606",
   "metadata": {
    "tags": [
     "hide-input"
    ]
   },
   "outputs": [],
   "source": [
    "\n",
    "from itables import init_notebook_mode\n",
    "import itables.options as opt\n",
    "opt.lengthMenu = [60, 100, 300]\n",
    "opt.maxColumns = 12\n",
    "init_notebook_mode(all_interactive=True)    \n",
    "    "
   ]
  },
  {
   "cell_type": "code",
   "execution_count": null,
   "id": "6b4d802c",
   "metadata": {},
   "outputs": [],
   "source": [
    "\n",
    "import pathlib\n",
    "import pandas\n",
    "import json\n",
    "data = pathlib.Path(\"/home/runner/work/cvedata/cvedata/cvedata/data/nist\", 'nvdcve-1.1-2005.json.gz')\n"
   ]
  },
  {
   "cell_type": "code",
   "execution_count": null,
   "id": "005637af",
   "metadata": {},
   "outputs": [],
   "source": [
    "import gzip\n",
    "with gzip.open(data) as f:\n",
    "    json_data = json.load(f)\n",
    "json_data = json_data['cves']\n",
    "json_data = [json_data[k] for k in json_data]\n",
    "df = pandas.json_normalize(json_data)"
   ]
  },
  {
   "cell_type": "code",
   "execution_count": null,
   "id": "8298a2f2",
   "metadata": {
    "tags": [
     "full-width"
    ]
   },
   "outputs": [],
   "source": [
    "df"
   ]
  }
 ],
 "metadata": {},
 "nbformat": 4,
 "nbformat_minor": 5
}
