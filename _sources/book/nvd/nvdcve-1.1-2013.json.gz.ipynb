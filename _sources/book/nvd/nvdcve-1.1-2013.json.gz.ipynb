{
 "cells": [
  {
   "cell_type": "markdown",
   "id": "aa5a16c6",
   "metadata": {},
   "source": [
    "# nvdcve-1.1-2013.json.gz"
   ]
  },
  {
   "cell_type": "markdown",
   "id": "c33b24e3",
   "metadata": {},
   "source": [
    "|               | nvdcve-1.1-2013.json.gz                      |\n",
    "|:--------------|:---------------------------------------------|\n",
    "| size          | 1921123                                      |\n",
    "| last_modified | 2022-11-11T01:13:42.905466                   |\n",
    "| count         | 6678                                         |\n",
    "| gen_time      | 3.628681898117065                            |\n",
    "| sources       | ['https://nvd.nist.gov/feeds/json/cve/1.1/'] |"
   ]
  },
  {
   "cell_type": "code",
   "execution_count": null,
   "id": "bed97645",
   "metadata": {
    "tags": [
     "hide-input"
    ]
   },
   "outputs": [],
   "source": [
    "\n",
    "from itables import init_notebook_mode\n",
    "import itables.options as opt\n",
    "opt.lengthMenu = [60, 100, 300]\n",
    "opt.maxColumns = 12\n",
    "init_notebook_mode(all_interactive=True)    \n",
    "    "
   ]
  },
  {
   "cell_type": "code",
   "execution_count": null,
   "id": "9f3e2a76",
   "metadata": {},
   "outputs": [],
   "source": [
    "\n",
    "import pathlib\n",
    "import pandas\n",
    "import json\n",
    "data = pathlib.Path(\"/home/runner/work/cvedata/cvedata/cvedata/data\", 'nvdcve-1.1-2013.json.gz')\n"
   ]
  },
  {
   "cell_type": "code",
   "execution_count": null,
   "id": "598fc972",
   "metadata": {},
   "outputs": [],
   "source": [
    "import gzip\n",
    "with gzip.open(data) as f:\n",
    "    json_data = json.load(f)\n",
    "json_data = json_data['cves']\n",
    "json_data = [json_data[k] for k in json_data]\n",
    "df = pandas.json_normalize(json_data)"
   ]
  },
  {
   "cell_type": "code",
   "execution_count": null,
   "id": "53c519c6",
   "metadata": {
    "tags": [
     "full-width"
    ]
   },
   "outputs": [],
   "source": [
    "df"
   ]
  }
 ],
 "metadata": {},
 "nbformat": 4,
 "nbformat_minor": 5
}
