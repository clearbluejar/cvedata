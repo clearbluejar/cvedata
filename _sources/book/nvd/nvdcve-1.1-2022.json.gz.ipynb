{
 "cells": [
  {
   "cell_type": "markdown",
   "id": "1a30678a",
   "metadata": {},
   "source": [
    "# nvdcve-1.1-2022.json.gz"
   ]
  },
  {
   "cell_type": "markdown",
   "id": "3785dae9",
   "metadata": {},
   "source": [
    "|               | nvdcve-1.1-2022.json.gz                      |\n",
    "|:--------------|:---------------------------------------------|\n",
    "| size          | 3569153                                      |\n",
    "| last_modified | 2022-11-11T01:14:33.017897                   |\n",
    "| count         | 16554                                        |\n",
    "| gen_time      | 5.138648509979248                            |\n",
    "| key_index     |                                              |\n",
    "| key_data      | cves                                         |\n",
    "| swap_axes     | False                                        |\n",
    "| normalize     | True                                         |\n",
    "| skip_book     | False                                        |\n",
    "| sources       | ['https://nvd.nist.gov/feeds/json/cve/1.1/'] |"
   ]
  },
  {
   "cell_type": "code",
   "execution_count": null,
   "id": "a9e77260",
   "metadata": {
    "tags": [
     "hide-input"
    ]
   },
   "outputs": [],
   "source": [
    "\n",
    "from itables import init_notebook_mode\n",
    "import itables.options as opt\n",
    "opt.lengthMenu = [60, 100, 300]\n",
    "opt.maxColumns = 12\n",
    "init_notebook_mode(all_interactive=True)    \n",
    "    "
   ]
  },
  {
   "cell_type": "code",
   "execution_count": null,
   "id": "63325659",
   "metadata": {},
   "outputs": [],
   "source": [
    "\n",
    "import pathlib\n",
    "import pandas\n",
    "import json\n",
    "data = pathlib.Path(\"/home/runner/work/cvedata/cvedata/cvedata/data\", 'nvdcve-1.1-2022.json.gz')\n"
   ]
  },
  {
   "cell_type": "code",
   "execution_count": null,
   "id": "2f57d510",
   "metadata": {},
   "outputs": [],
   "source": [
    "import gzip\n",
    "with gzip.open(data) as f:\n",
    "    json_data = json.load(f)\n",
    "json_data = json_data['cves']\n",
    "json_data = [json_data[k] for k in json_data]\n",
    "df = pandas.json_normalize(json_data)"
   ]
  },
  {
   "cell_type": "code",
   "execution_count": null,
   "id": "3ebc4a6b",
   "metadata": {
    "tags": [
     "full-width"
    ]
   },
   "outputs": [],
   "source": [
    "df"
   ]
  }
 ],
 "metadata": {},
 "nbformat": 4,
 "nbformat_minor": 5
}
