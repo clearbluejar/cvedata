{
 "cells": [
  {
   "cell_type": "markdown",
   "id": "5686b0a4",
   "metadata": {},
   "source": [
    "# nvdcve-1.1-2016.json.gz"
   ]
  },
  {
   "cell_type": "markdown",
   "id": "c4ed587a",
   "metadata": {},
   "source": [
    "|               | nvdcve-1.1-2016.json.gz                      |\n",
    "|:--------------|:---------------------------------------------|\n",
    "| size          | 2243164                                      |\n",
    "| last_modified | 2022-11-22T06:11:49.389000                   |\n",
    "| count         | 10510                                        |\n",
    "| gen_time      | 2.844549179077148                            |\n",
    "| key_index     |                                              |\n",
    "| key_data      | cves                                         |\n",
    "| swap_axes     | False                                        |\n",
    "| normalize     | True                                         |\n",
    "| skip_book     | False                                        |\n",
    "| sources       | ['https://nvd.nist.gov/feeds/json/cve/1.1/'] |"
   ]
  },
  {
   "cell_type": "code",
   "execution_count": null,
   "id": "24adccba",
   "metadata": {
    "tags": [
     "hide-input"
    ]
   },
   "outputs": [],
   "source": [
    "\n",
    "from itables import init_notebook_mode\n",
    "import itables.options as opt\n",
    "opt.lengthMenu = [60, 100, 300]\n",
    "opt.maxColumns = 12\n",
    "init_notebook_mode(all_interactive=True)    \n",
    "    "
   ]
  },
  {
   "cell_type": "code",
   "execution_count": null,
   "id": "1777b938",
   "metadata": {},
   "outputs": [],
   "source": [
    "\n",
    "import pathlib\n",
    "import pandas\n",
    "import json\n",
    "data = pathlib.Path(\"/home/runner/work/cvedata/cvedata/cvedata/data/nist\", 'nvdcve-1.1-2016.json.gz')\n"
   ]
  },
  {
   "cell_type": "code",
   "execution_count": null,
   "id": "9501374e",
   "metadata": {},
   "outputs": [],
   "source": [
    "import gzip\n",
    "with gzip.open(data) as f:\n",
    "    json_data = json.load(f)\n",
    "json_data = json_data['cves']\n",
    "json_data = [json_data[k] for k in json_data]\n",
    "df = pandas.json_normalize(json_data)"
   ]
  },
  {
   "cell_type": "code",
   "execution_count": null,
   "id": "61a4a57e",
   "metadata": {
    "tags": [
     "full-width"
    ]
   },
   "outputs": [],
   "source": [
    "df"
   ]
  }
 ],
 "metadata": {},
 "nbformat": 4,
 "nbformat_minor": 5
}
