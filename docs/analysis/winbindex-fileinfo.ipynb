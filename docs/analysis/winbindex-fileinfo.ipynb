{
 "cells": [
  {
   "attachments": {},
   "cell_type": "markdown",
   "id": "f2f71e70",
   "metadata": {},
   "source": [
    "# Winbindex Metadata File Analysis"
   ]
  },
  {
   "cell_type": "code",
   "execution_count": null,
   "id": "e532f407",
   "metadata": {},
   "outputs": [],
   "source": [
    "import pathlib\n",
    "import pandas\n",
    "import json\n",
    "data = pathlib.Path(\"../../cvedata/data/\", 'winbindex-fileinfo-pandas.json.gz')"
   ]
  },
  {
   "cell_type": "code",
   "execution_count": null,
   "id": "3233c057",
   "metadata": {},
   "outputs": [],
   "source": [
    "df = pandas.read_json(data)\n",
    "df.head()"
   ]
  },
  {
   "cell_type": "code",
   "execution_count": null,
   "id": "16f37554",
   "metadata": {
    "tags": [
     "full-width"
    ]
   },
   "outputs": [],
   "source": [
    "# Drop invalid entries\n",
    "total_rows = df.shape[0]\n",
    "df = df[df['timestamp'].notna()]\n",
    "df = df[df['virtualSize'].notna()]\n",
    "df = df[df['version'].notna()]\n",
    "\n",
    "invalid_rows_total = total_rows - df.shape[0]\n",
    "invalid_rows_total"
   ]
  },
  {
   "cell_type": "code",
   "execution_count": null,
   "id": "9b903394",
   "metadata": {},
   "outputs": [],
   "source": [
    "# clean up version\n",
    "df['version'] = df['version'].apply(lambda x: x.split()[0])"
   ]
  },
  {
   "cell_type": "code",
   "execution_count": null,
   "id": "2c019dbe",
   "metadata": {},
   "outputs": [],
   "source": [
    "def get_microsoft_download_url(row):\n",
    "\n",
    "    timestamp = format(int(row['timestamp']), '08X')\n",
    "    virtual_size = format(int(row['virtualSize']),'X')\n",
    "    filename = row['filename']\n",
    "    \n",
    "    return f'https://msdl.microsoft.com/download/symbols/{filename}/{timestamp}{virtual_size}/{filename}'"
   ]
  },
  {
   "cell_type": "code",
   "execution_count": null,
   "id": "acec12b6",
   "metadata": {},
   "outputs": [],
   "source": [
    "df['url'] = df.apply(get_microsoft_download_url,axis=1)"
   ]
  },
  {
   "cell_type": "code",
   "execution_count": null,
   "id": "7b535c4d",
   "metadata": {},
   "outputs": [],
   "source": [
    "url_df = df.groupby(by='url').aggregate(list)\n",
    "url_df['collisions'] = url_df['version'].apply(lambda x: len(x))\n"
   ]
  },
  {
   "cell_type": "code",
   "execution_count": null,
   "id": "bb39cb6d",
   "metadata": {},
   "outputs": [],
   "source": [
    "url_df"
   ]
  },
  {
   "cell_type": "code",
   "execution_count": null,
   "id": "e36529cf",
   "metadata": {},
   "outputs": [],
   "source": [
    "url_df[(url_df['collisions'] > 1) & (url_df['filename'].str.contains('rpcrt4'))].sort_values(by='collisions', ascending=False)"
   ]
  },
  {
   "cell_type": "code",
   "execution_count": null,
   "id": "2956a3f9",
   "metadata": {},
   "outputs": [],
   "source": [
    "url_df[(url_df['collisions'] > 1)]"
   ]
  },
  {
   "cell_type": "code",
   "execution_count": null,
   "id": "a7b7c7c4",
   "metadata": {},
   "outputs": [],
   "source": [
    "dupes = pandas.DataFrame.duplicated(df, ['url']) \n",
    "#dup_df = dup_df[dup_df[0] == True]\n",
    "dupes_df = df[dupes].set_index('filename').sort_index()\n"
   ]
  },
  {
   "cell_type": "code",
   "execution_count": null,
   "id": "93dc0bd2",
   "metadata": {},
   "outputs": [],
   "source": [
    "df[dupes].groupby(by='filename')['url'].count().sort_values(ascending=False)"
   ]
  }
 ],
 "metadata": {
  "kernelspec": {
   "display_name": ".env",
   "language": "python",
   "name": "python3"
  },
  "language_info": {
   "codemirror_mode": {
    "name": "ipython",
    "version": 3
   },
   "file_extension": ".py",
   "mimetype": "text/x-python",
   "name": "python",
   "nbconvert_exporter": "python",
   "pygments_lexer": "ipython3",
   "version": "3.8.10"
  },
  "vscode": {
   "interpreter": {
    "hash": "4f69ed7843b0ea893c9d89f5f979ee399fdfe7651430c7bb7d8442c4ca5d90f2"
   }
  }
 },
 "nbformat": 4,
 "nbformat_minor": 5
}
