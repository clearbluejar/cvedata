{
 "cells": [
  {
   "cell_type": "markdown",
   "metadata": {},
   "source": [
    "# MSRC (Tag,Titles,File Descriptions) Word Frequencies"
   ]
  },
  {
   "cell_type": "code",
   "execution_count": null,
   "metadata": {},
   "outputs": [],
   "source": [
    "from cvedata.msrc_pandas import get_msrc_cvrf_pandas_df\n",
    "from cvedata.msrc_cve_to_bins import clean_tag\n",
    "from cvedata.win_verinfo import get_verinfo_desc_to_bins_json\n",
    "from cvedata.winbindex import get_winbindex_desc_to_bin_map\n",
    "\n",
    "\n",
    "import pandas as pd"
   ]
  },
  {
   "cell_type": "code",
   "execution_count": null,
   "metadata": {},
   "outputs": [],
   "source": [
    "verinfo_desc_to_bins = get_verinfo_desc_to_bins_json()\n",
    "wb_desc_to_bins = get_winbindex_desc_to_bin_map()"
   ]
  },
  {
   "cell_type": "code",
   "execution_count": null,
   "metadata": {},
   "outputs": [],
   "source": [
    "all_cvrf_df = pd.DataFrame.from_dict(get_msrc_cvrf_pandas_df())\n",
    "all_cvrf_df"
   ]
  },
  {
   "cell_type": "code",
   "execution_count": null,
   "metadata": {},
   "outputs": [],
   "source": [
    "tags_sim_df = pd.DataFrame(all_cvrf_df['Tag'].unique(),columns= ['Tag'])\n",
    "tags_sim_df"
   ]
  },
  {
   "cell_type": "code",
   "execution_count": null,
   "metadata": {},
   "outputs": [],
   "source": [
    "word_freq = tags_sim_df.Tag.str.split(expand=True).stack().value_counts()\n",
    "word_freq[:15]"
   ]
  },
  {
   "cell_type": "code",
   "execution_count": null,
   "metadata": {},
   "outputs": [],
   "source": [
    "titles_sim_df = pd.DataFrame(all_cvrf_df['Title'].unique(),columns= ['Title'])\n",
    "titles_sim_df"
   ]
  },
  {
   "cell_type": "code",
   "execution_count": null,
   "metadata": {},
   "outputs": [],
   "source": [
    "title_freq = titles_sim_df.Title.str.split(expand=True).stack().value_counts()\n",
    "title_freq[:15]"
   ]
  },
  {
   "cell_type": "code",
   "execution_count": null,
   "metadata": {},
   "outputs": [],
   "source": [
    "clean_titles = titles_sim_df[~titles_sim_df.Title.str.contains('Chromium CVE')]\n",
    "clean_titles"
   ]
  },
  {
   "cell_type": "code",
   "execution_count": null,
   "metadata": {},
   "outputs": [],
   "source": [
    "clean_titles = clean_titles.Title.str.split(expand=True).stack().value_counts()\n",
    "clean_titles[:15]"
   ]
  },
  {
   "cell_type": "code",
   "execution_count": null,
   "metadata": {},
   "outputs": [],
   "source": [
    "ver_df = pd.json_normalize(verinfo_desc_to_bins)\n",
    "ver_df = ver_df.swapaxes('index', 'columns')\n",
    "ver_df.index.name = 'desc'\n",
    "ver_df.reset_index()\n",
    "\n",
    "ver_df = pd.DataFrame(ver_df.reset_index()['desc'].unique(),columns= ['desc'])\n",
    "ver_df.desc.str.split(expand=True).stack().value_counts()"
   ]
  },
  {
   "cell_type": "code",
   "execution_count": null,
   "metadata": {},
   "outputs": [],
   "source": [
    "ver_df = pd.json_normalize(wb_desc_to_bins)\n",
    "ver_df = ver_df.swapaxes('index', 'columns')\n",
    "ver_df.index.name = 'desc'\n",
    "ver_df.reset_index()\n",
    "\n",
    "ver_df = pd.DataFrame(ver_df.reset_index()['desc'].unique(),columns= ['desc'])\n",
    "ver_df.desc.str.split(expand=True).stack().value_counts()\n"
   ]
  }
 ],
 "metadata": {
  "kernelspec": {
   "display_name": "Python 3.9.6 ('.env': venv)",
   "language": "python",
   "name": "python3"
  },
  "language_info": {
   "codemirror_mode": {
    "name": "ipython",
    "version": 3
   },
   "file_extension": ".py",
   "mimetype": "text/x-python",
   "name": "python",
   "nbconvert_exporter": "python",
   "pygments_lexer": "ipython3",
   "version": "3.9.6"
  },
  "orig_nbformat": 4,
  "vscode": {
   "interpreter": {
    "hash": "5dd911ca2c3a77dfe15faaa9f2e11b5bd0ab12bd83e3b7578eb2712f103edba3"
   }
  }
 },
 "nbformat": 4,
 "nbformat_minor": 2
}
