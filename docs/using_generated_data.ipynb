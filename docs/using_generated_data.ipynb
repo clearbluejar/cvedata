{
 "cells": [
  {
   "cell_type": "markdown",
   "id": "6e05f625",
   "metadata": {},
   "source": [
    "# Using Release Data"
   ]
  },
  {
   "cell_type": "markdown",
   "id": "03b7fc8b",
   "metadata": {},
   "source": [
    "|               | chromerelease_cve.json                    |\n",
    "|:--------------|:------------------------------------------|\n",
    "| size          | 805382                                    |\n",
    "| last_modified | 2022-10-24T10:47:11.031053                |\n",
    "| count         | 2309                                      |\n",
    "| gen_time      | 0.46146917343139604                       |\n",
    "| key_index     | cve_id                                    |\n",
    "| swap_axes     | False                                     |\n",
    "| normalize     | True                                      |\n",
    "| skip_book     | False                                     |\n",
    "| sources       | ['https://chromereleases.googleblog.com'] |"
   ]
  },
  {
   "cell_type": "code",
   "execution_count": null,
   "id": "c7d9944a",
   "metadata": {
    "tags": [
     "hide-input"
    ]
   },
   "outputs": [],
   "source": [
    "\n",
    "from itables import init_notebook_mode\n",
    "import itables.options as opt\n",
    "import requests\n",
    "\n",
    "url = \"https://github.com/clearbluejar/cvedata/releases/download/v0.1.0/chromerelease_cve.json\"\n",
    "data = requests.get(url).json()\n",
    "\n",
    "opt.lengthMenu = [10, 50, 100]\n",
    "opt.maxBytes = 805382\n",
    "init_notebook_mode(all_interactive=True)    \n",
    "    "
   ]
  },
  {
   "cell_type": "code",
   "execution_count": null,
   "id": "93185bf1",
   "metadata": {},
   "outputs": [],
   "source": [
    "\n",
    "import pandas\n",
    "import json\n",
    "import requests\n",
    "\n"
   ]
  },
  {
   "cell_type": "code",
   "execution_count": null,
   "id": "b1b67303",
   "metadata": {},
   "outputs": [],
   "source": [
    "\n",
    "df = pandas.json_normalize(json.loads(data.read_text()))"
   ]
  },
  {
   "cell_type": "code",
   "execution_count": null,
   "id": "68b96217",
   "metadata": {
    "tags": [
     "full-width"
    ]
   },
   "outputs": [],
   "source": [
    "df.set_index('cve_id',inplace=True)\n",
    "df"
   ]
  }
 ],
 "metadata": {
  "kernelspec": {
   "display_name": "Python 3.9.6 ('.env': venv)",
   "language": "python",
   "name": "python3"
  },
  "language_info": {
   "name": "python",
   "version": "3.9.6"
  },
  "vscode": {
   "interpreter": {
    "hash": "5dd911ca2c3a77dfe15faaa9f2e11b5bd0ab12bd83e3b7578eb2712f103edba3"
   }
  }
 },
 "nbformat": 4,
 "nbformat_minor": 5
}
