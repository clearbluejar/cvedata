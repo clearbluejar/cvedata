{
 "cells": [
  {
   "cell_type": "markdown",
   "id": "6e05f625",
   "metadata": {},
   "source": [
    "# Using cvedata "
   ]
  },
  {
   "cell_type": "markdown",
   "id": "75caa629",
   "metadata": {},
   "source": [
    "## Install\n",
    "\n",
    "### Development\n",
    "\n",
    "```bash\n",
    "git clone https://github.com/clearbluejar/cvedata\n",
    "pip install .\n",
    "```\n",
    "\n",
    "### Production\n",
    "\n",
    "```bash\n",
    "pip install https://github.com/clearbluejar/cvedata/releases/download/v0.2.2/cvedata-0.2.2-py3-none-any.whl\n",
    "```\n",
    "\n",
    "## Generate Release Data\n",
    "\n",
    "```bash\n",
    "python -m cvedata.update\n",
    "```\n",
    "\n",
    "## Download Release Data\n",
    "\n",
    "Instead of generating data, you can download the [latest release data](https://github.com/clearbluejar/cvedata/releases/latest) generated for the particular version.\n",
    "\n",
    "```bash\n",
    "python -m cvedata.download\n",
    "```\n",
    "\n",
    "This will unpack the data to your local cvedata installation in the [data](https://github.com/clearbluejar/cvedata/tree/main/cvedata/data) folder. \n",
    "\n"
   ]
  },
  {
   "cell_type": "markdown",
   "id": "4f613d7c",
   "metadata": {},
   "source": [
    "## Take a look at some of the latest MSRC CVE Data"
   ]
  },
  {
   "cell_type": "code",
   "execution_count": null,
   "id": "776e6fff",
   "metadata": {},
   "outputs": [],
   "source": [
    "from cvedata.msrc_pandas import get_msrc_cvrf_pandas_json\n",
    "import pandas as pd\n",
    "\n",
    "msrc_df = pd.DataFrame.from_dict(get_msrc_cvrf_pandas_json())\n",
    "msrc_df.sort_values(by=['Initial Release'],ascending=False).head(25)\n"
   ]
  },
  {
   "cell_type": "code",
   "execution_count": null,
   "id": "f6579227",
   "metadata": {},
   "outputs": [],
   "source": [
    "### Print current data metadata\n",
    "from cvedata.metadata import print_stats\n",
    "str(print_stats())\n",
    "\n"
   ]
  }
 ],
 "metadata": {
  "kernelspec": {
   "display_name": "Python 3.9.6 ('.env': venv)",
   "language": "python",
   "name": "python3"
  },
  "language_info": {
   "codemirror_mode": {
    "name": "ipython",
    "version": 3
   },
   "file_extension": ".py",
   "mimetype": "text/x-python",
   "name": "python",
   "nbconvert_exporter": "python",
   "pygments_lexer": "ipython3",
   "version": "3.9.6"
  },
  "vscode": {
   "interpreter": {
    "hash": "5dd911ca2c3a77dfe15faaa9f2e11b5bd0ab12bd83e3b7578eb2712f103edba3"
   }
  }
 },
 "nbformat": 4,
 "nbformat_minor": 5
}
